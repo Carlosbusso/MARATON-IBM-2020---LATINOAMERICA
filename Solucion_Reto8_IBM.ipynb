{
  "nbformat": 4,
  "nbformat_minor": 0,
  "metadata": {
    "kernelspec": {
      "name": "python3",
      "display_name": "Python 3.6",
      "language": "python"
    },
    "language_info": {
      "name": "python",
      "version": "3.6.9",
      "mimetype": "text/x-python",
      "codemirror_mode": {
        "name": "ipython",
        "version": 3
      },
      "pygments_lexer": "ipython3",
      "nbconvert_exporter": "python",
      "file_extension": ".py"
    },
    "colab": {
      "name": "Solucion_Reto8_IBM.ipynb",
      "provenance": [],
      "collapsed_sections": [
        "0kCyvgNyq7mq",
        "Y3tdNCmeq7nK",
        "_OuredJgq7ou"
      ]
    }
  },
  "cells": [
    {
      "cell_type": "markdown",
      "metadata": {
        "id": "6QfHxgPjrAyA",
        "colab_type": "text"
      },
      "source": [
        "# Este Notebook presenta la solucion presentado por Carlos E. al reto 8 de la Maraton Behin the Code 2020 - IBM Latinoamerica"
      ]
    },
    {
      "cell_type": "code",
      "metadata": {
        "id": "s1Vjo-Rsq7kr",
        "colab_type": "code",
        "colab": {}
      },
      "source": [
        "import warnings\n",
        "warnings.filterwarnings(\"ignore\")"
      ],
      "execution_count": 2,
      "outputs": []
    },
    {
      "cell_type": "markdown",
      "metadata": {
        "collapsed": true,
        "id": "2ZdaY3Ciq7ku",
        "colab_type": "text"
      },
      "source": [
        "# MARATÓN BEHIND THE CODE 2020\n",
        "\n",
        "# DESAFÍO 8 - Digital House\n",
        "\n",
        "El reto de Digital House tiene que ver con la misión y visión de la empresa; la cual busca transformar la vida de las personas, desarrollando competencias digitales, para que generen un impacto positivo en la sociedad. En ese sentido, Digital House busca a través de este desafío medir la empleabilidad de los cursos que disponibiliza en su plataforma, es decir que tan factible es que un alumno o egresado de Digital House acceda al mercado laboral o consiga un trabajo en su área luego de finalizar uno o varios de los cursos ofrecidos en la plataforma.\n",
        "\n",
        "Entender que características o variables hacen que una persona sea más o menos empleable es fundamental para la empresa y para generar ese impacto positivo que busca aportar a la sociedad\n",
        "\n",
        "<hr>\n",
        "\n",
        "## Instalación de algunas bibliotecas de Python"
      ]
    },
    {
      "cell_type": "code",
      "metadata": {
        "id": "HLFMAJMEq7kv",
        "colab_type": "code",
        "colab": {
          "base_uri": "https://localhost:8080/",
          "height": 445
        },
        "outputId": "2bd61f66-864d-4599-d637-3141f5057c9e"
      },
      "source": [
        "!pip install scikit-learn --upgrade\n",
        "!pip install scipy --upgrade"
      ],
      "execution_count": 3,
      "outputs": [
        {
          "output_type": "stream",
          "text": [
            "Collecting scikit-learn\n",
            "\u001b[?25l  Downloading https://files.pythonhosted.org/packages/5c/a1/273def87037a7fb010512bbc5901c31cfddfca8080bc63b42b26e3cc55b3/scikit_learn-0.23.2-cp36-cp36m-manylinux1_x86_64.whl (6.8MB)\n",
            "\u001b[K     |████████████████████████████████| 6.8MB 3.0MB/s \n",
            "\u001b[?25hRequirement already satisfied, skipping upgrade: joblib>=0.11 in /usr/local/lib/python3.6/dist-packages (from scikit-learn) (0.16.0)\n",
            "Requirement already satisfied, skipping upgrade: numpy>=1.13.3 in /usr/local/lib/python3.6/dist-packages (from scikit-learn) (1.18.5)\n",
            "Collecting threadpoolctl>=2.0.0\n",
            "  Downloading https://files.pythonhosted.org/packages/f7/12/ec3f2e203afa394a149911729357aa48affc59c20e2c1c8297a60f33f133/threadpoolctl-2.1.0-py3-none-any.whl\n",
            "Requirement already satisfied, skipping upgrade: scipy>=0.19.1 in /usr/local/lib/python3.6/dist-packages (from scikit-learn) (1.4.1)\n",
            "Installing collected packages: threadpoolctl, scikit-learn\n",
            "  Found existing installation: scikit-learn 0.22.2.post1\n",
            "    Uninstalling scikit-learn-0.22.2.post1:\n",
            "      Successfully uninstalled scikit-learn-0.22.2.post1\n",
            "Successfully installed scikit-learn-0.23.2 threadpoolctl-2.1.0\n",
            "Collecting scipy\n",
            "\u001b[?25l  Downloading https://files.pythonhosted.org/packages/2b/a8/f4c66eb529bb252d50e83dbf2909c6502e2f857550f22571ed8556f62d95/scipy-1.5.2-cp36-cp36m-manylinux1_x86_64.whl (25.9MB)\n",
            "\u001b[K     |████████████████████████████████| 25.9MB 169kB/s \n",
            "\u001b[?25hRequirement already satisfied, skipping upgrade: numpy>=1.14.5 in /usr/local/lib/python3.6/dist-packages (from scipy) (1.18.5)\n",
            "\u001b[31mERROR: tensorflow 2.3.0 has requirement scipy==1.4.1, but you'll have scipy 1.5.2 which is incompatible.\u001b[0m\n",
            "\u001b[31mERROR: albumentations 0.1.12 has requirement imgaug<0.2.7,>=0.2.5, but you'll have imgaug 0.2.9 which is incompatible.\u001b[0m\n",
            "Installing collected packages: scipy\n",
            "  Found existing installation: scipy 1.4.1\n",
            "    Uninstalling scipy-1.4.1:\n",
            "      Successfully uninstalled scipy-1.4.1\n",
            "Successfully installed scipy-1.5.2\n"
          ],
          "name": "stdout"
        }
      ]
    },
    {
      "cell_type": "markdown",
      "metadata": {
        "id": "Axg2um5QwpGP",
        "colab_type": "text"
      },
      "source": [
        "### Importamos las librerias necesarias"
      ]
    },
    {
      "cell_type": "code",
      "metadata": {
        "id": "3RZW1OSoq7kz",
        "colab_type": "code",
        "colab": {
          "base_uri": "https://localhost:8080/",
          "height": 71
        },
        "outputId": "ffad908d-7cc0-4a10-9146-08d02ff29acd"
      },
      "source": [
        "#import some necessary librairies\n",
        "\n",
        "import numpy as np # linear algebra\n",
        "import pandas as pd # data processing, CSV file I/O (e.g. pd.read_csv)\n",
        "%matplotlib inline\n",
        "import matplotlib.pyplot as plt  # Matlab-style plotting\n",
        "import seaborn as sns\n",
        "\n",
        "from scipy import stats\n",
        "from scipy.stats import norm, skew #for some statistics\n",
        "\n",
        "from sklearn.linear_model import LinearRegression\n",
        "from sklearn.model_selection import train_test_split\n",
        "from sklearn.preprocessing import StandardScaler\n",
        "\n",
        "# import module to calculate model perfomance metrics\n",
        "import seaborn as sns\n",
        "from sklearn import metrics\n",
        "\n",
        "# Standard Scaler\n",
        "from sklearn.preprocessing import StandardScaler\n",
        "\n",
        "# import models\n",
        "from sklearn.linear_model import Ridge\n",
        "from xgboost import XGBRegressor\n",
        "from sklearn.ensemble import BaggingRegressor\n",
        "from sklearn.tree import DecisionTreeRegressor\n",
        "from sklearn.ensemble import RandomForestRegressor\n",
        "from sklearn.ensemble import GradientBoostingRegressor\n",
        "\n",
        "# Feature engineering\n",
        "from sklearn.preprocessing import PolynomialFeatures\n",
        "\n",
        "# import GridSearch\n",
        "from sklearn.model_selection import GridSearchCV"
      ],
      "execution_count": 3,
      "outputs": [
        {
          "output_type": "stream",
          "text": [
            "/usr/local/lib/python3.6/dist-packages/statsmodels/tools/_testing.py:19: FutureWarning: pandas.util.testing is deprecated. Use the functions in the public API at pandas.testing instead.\n",
            "  import pandas.util.testing as tm\n"
          ],
          "name": "stderr"
        }
      ]
    },
    {
      "cell_type": "markdown",
      "metadata": {
        "id": "OW_tkta_q7k2",
        "colab_type": "text"
      },
      "source": [
        "<hr>\n",
        "\n",
        "## Descargue el conjunto de datos del desafío en formato .csv"
      ]
    },
    {
      "cell_type": "code",
      "metadata": {
        "id": "NtJuK-fqq7k2",
        "colab_type": "code",
        "colab": {
          "base_uri": "https://localhost:8080/",
          "height": 391
        },
        "outputId": "b8eda157-806c-4803-c715-10acaab547f7"
      },
      "source": [
        "import pandas as pd\n",
        "\n",
        "!wget --no-check-certificate --content-disposition https://raw.githubusercontent.com/vanderlei-test/654986294958/master/train_dataset_digitalhouse.csv\n",
        "df_training_dataset = pd.read_csv(r'train_dataset_digitalhouse.csv')\n",
        "df_training_dataset.tail()"
      ],
      "execution_count": 4,
      "outputs": [
        {
          "output_type": "stream",
          "text": [
            "--2020-09-21 20:37:00--  https://raw.githubusercontent.com/vanderlei-test/654986294958/master/train_dataset_digitalhouse.csv\n",
            "Resolving raw.githubusercontent.com (raw.githubusercontent.com)... 151.101.0.133, 151.101.64.133, 151.101.128.133, ...\n",
            "Connecting to raw.githubusercontent.com (raw.githubusercontent.com)|151.101.0.133|:443... connected.\n",
            "HTTP request sent, awaiting response... 200 OK\n",
            "Length: 654532 (639K) [text/plain]\n",
            "Saving to: ‘train_dataset_digitalhouse.csv’\n",
            "\n",
            "train_dataset_digit 100%[===================>] 639.19K  --.-KB/s    in 0.1s    \n",
            "\n",
            "2020-09-21 20:37:01 (6.51 MB/s) - ‘train_dataset_digitalhouse.csv’ saved [654532/654532]\n",
            "\n"
          ],
          "name": "stdout"
        },
        {
          "output_type": "execute_result",
          "data": {
            "text/html": [
              "<div>\n",
              "<style scoped>\n",
              "    .dataframe tbody tr th:only-of-type {\n",
              "        vertical-align: middle;\n",
              "    }\n",
              "\n",
              "    .dataframe tbody tr th {\n",
              "        vertical-align: top;\n",
              "    }\n",
              "\n",
              "    .dataframe thead th {\n",
              "        text-align: right;\n",
              "    }\n",
              "</style>\n",
              "<table border=\"1\" class=\"dataframe\">\n",
              "  <thead>\n",
              "    <tr style=\"text-align: right;\">\n",
              "      <th></th>\n",
              "      <th>Unnamed: 0</th>\n",
              "      <th>EDAD</th>\n",
              "      <th>GENERO</th>\n",
              "      <th>RESIDENCIA</th>\n",
              "      <th>NV_ESTUDIO</th>\n",
              "      <th>ESTUDIO_PREV</th>\n",
              "      <th>TRACK_DH</th>\n",
              "      <th>AVG_DH</th>\n",
              "      <th>MINUTES_DH</th>\n",
              "      <th>EXPERIENCIA</th>\n",
              "      <th>DIAS_EMP</th>\n",
              "    </tr>\n",
              "  </thead>\n",
              "  <tbody>\n",
              "    <tr>\n",
              "      <th>8990</th>\n",
              "      <td>9995</td>\n",
              "      <td>29.0</td>\n",
              "      <td>MASCULINO</td>\n",
              "      <td>ARGENTINA</td>\n",
              "      <td>TERTIARY</td>\n",
              "      <td>DEVELOPMENT</td>\n",
              "      <td>NaN</td>\n",
              "      <td>4.0</td>\n",
              "      <td>4701.6</td>\n",
              "      <td>9.1</td>\n",
              "      <td>86.0</td>\n",
              "    </tr>\n",
              "    <tr>\n",
              "      <th>8991</th>\n",
              "      <td>9996</td>\n",
              "      <td>34.0</td>\n",
              "      <td>NaN</td>\n",
              "      <td>ARGENTINA</td>\n",
              "      <td>UNIVERSITARY</td>\n",
              "      <td>ENGINEERING</td>\n",
              "      <td>PROGRAMACION</td>\n",
              "      <td>3.4</td>\n",
              "      <td>4646.2</td>\n",
              "      <td>16.8</td>\n",
              "      <td>95.0</td>\n",
              "    </tr>\n",
              "    <tr>\n",
              "      <th>8992</th>\n",
              "      <td>9997</td>\n",
              "      <td>28.0</td>\n",
              "      <td>FEMENINO</td>\n",
              "      <td>ARGENTINA</td>\n",
              "      <td>POST_GRADUATE</td>\n",
              "      <td>ENGINEERING</td>\n",
              "      <td>EJECUTIVO</td>\n",
              "      <td>NaN</td>\n",
              "      <td>3315.1</td>\n",
              "      <td>5.6</td>\n",
              "      <td>95.0</td>\n",
              "    </tr>\n",
              "    <tr>\n",
              "      <th>8993</th>\n",
              "      <td>9998</td>\n",
              "      <td>23.0</td>\n",
              "      <td>MASCULINO</td>\n",
              "      <td>MEXICO</td>\n",
              "      <td>TERTIARY</td>\n",
              "      <td>ENGINEERING</td>\n",
              "      <td>PROGRAMACION</td>\n",
              "      <td>3.3</td>\n",
              "      <td>4437.8</td>\n",
              "      <td>0.9</td>\n",
              "      <td>87.0</td>\n",
              "    </tr>\n",
              "    <tr>\n",
              "      <th>8994</th>\n",
              "      <td>9999</td>\n",
              "      <td>36.0</td>\n",
              "      <td>MASCULINO</td>\n",
              "      <td>ARGENTINA</td>\n",
              "      <td>UNIVERSITARY</td>\n",
              "      <td>COMMERCIAL</td>\n",
              "      <td>DATA</td>\n",
              "      <td>3.4</td>\n",
              "      <td>4600.8</td>\n",
              "      <td>19.6</td>\n",
              "      <td>88.0</td>\n",
              "    </tr>\n",
              "  </tbody>\n",
              "</table>\n",
              "</div>"
            ],
            "text/plain": [
              "      Unnamed: 0  EDAD     GENERO  ... MINUTES_DH EXPERIENCIA DIAS_EMP\n",
              "8990        9995  29.0  MASCULINO  ...     4701.6         9.1     86.0\n",
              "8991        9996  34.0        NaN  ...     4646.2        16.8     95.0\n",
              "8992        9997  28.0   FEMENINO  ...     3315.1         5.6     95.0\n",
              "8993        9998  23.0  MASCULINO  ...     4437.8         0.9     87.0\n",
              "8994        9999  36.0  MASCULINO  ...     4600.8        19.6     88.0\n",
              "\n",
              "[5 rows x 11 columns]"
            ]
          },
          "metadata": {
            "tags": []
          },
          "execution_count": 4
        }
      ]
    },
    {
      "cell_type": "markdown",
      "metadata": {
        "id": "phu9mvWMq7k5",
        "colab_type": "text"
      },
      "source": [
        "## En el conjunto de datos proporcionado, tenemos las siguientes columnas:\n",
        "\n",
        "* Unnamed: 0\n",
        "* EDAD\n",
        "* GENERO\n",
        "* RESIDENCIA\n",
        "* NV_ESTUDIO\n",
        "* ESTUDIO_PREV\n",
        "* TRACK_DH\n",
        "* AVG_DH\n",
        "* MINUTES_DH\n",
        "* EXPERIENCIA\n",
        "* **DIAS_EMP = El valor \"target\" que se va a predecir**\n",
        "\n",
        "Podemos verificar fácilmente que faltan valores usando el siguiente código:\n",
        "\n",
        "```df_training_dataset.info()```\n",
        "\n",
        "Debe manejar cuidadosamente estos valores faltantes antes de crear un modelo de regresión."
      ]
    },
    {
      "cell_type": "code",
      "metadata": {
        "id": "CXnkEukPq7k6",
        "colab_type": "code",
        "colab": {
          "base_uri": "https://localhost:8080/",
          "height": 323
        },
        "outputId": "6b80eae0-7d7f-46cb-ad7a-0729c258aebf"
      },
      "source": [
        "df_training_dataset.info()"
      ],
      "execution_count": 5,
      "outputs": [
        {
          "output_type": "stream",
          "text": [
            "<class 'pandas.core.frame.DataFrame'>\n",
            "RangeIndex: 8995 entries, 0 to 8994\n",
            "Data columns (total 11 columns):\n",
            " #   Column        Non-Null Count  Dtype  \n",
            "---  ------        --------------  -----  \n",
            " 0   Unnamed: 0    8995 non-null   int64  \n",
            " 1   EDAD          7668 non-null   float64\n",
            " 2   GENERO        7620 non-null   object \n",
            " 3   RESIDENCIA    7638 non-null   object \n",
            " 4   NV_ESTUDIO    7623 non-null   object \n",
            " 5   ESTUDIO_PREV  7665 non-null   object \n",
            " 6   TRACK_DH      7714 non-null   object \n",
            " 7   AVG_DH        7651 non-null   float64\n",
            " 8   MINUTES_DH    7619 non-null   float64\n",
            " 9   EXPERIENCIA   7618 non-null   float64\n",
            " 10  DIAS_EMP      8995 non-null   float64\n",
            "dtypes: float64(5), int64(1), object(5)\n",
            "memory usage: 773.1+ KB\n"
          ],
          "name": "stdout"
        }
      ]
    },
    {
      "cell_type": "markdown",
      "metadata": {
        "id": "G0RbL_VNq7k9",
        "colab_type": "text"
      },
      "source": [
        "<hr>"
      ]
    },
    {
      "cell_type": "markdown",
      "metadata": {
        "id": "BxtTuC6Jq7k-",
        "colab_type": "text"
      },
      "source": [
        "## PRE PROCESING DATA"
      ]
    },
    {
      "cell_type": "markdown",
      "metadata": {
        "id": "hwExEICiq7k_",
        "colab_type": "text"
      },
      "source": [
        "Correlacion entre variables"
      ]
    },
    {
      "cell_type": "code",
      "metadata": {
        "id": "t_vE3Nkxq7k_",
        "colab_type": "code",
        "colab": {
          "base_uri": "https://localhost:8080/",
          "height": 555
        },
        "outputId": "90ea1f94-4c33-494f-e754-0abe85be3851"
      },
      "source": [
        "# Correlation map to see how features are correlated \n",
        "corrmat = df_training_dataset.corr()\n",
        "plt.subplots(figsize=(12,9))\n",
        "sns.heatmap(corrmat, vmax=0.9, square=True,annot=True)"
      ],
      "execution_count": 6,
      "outputs": [
        {
          "output_type": "execute_result",
          "data": {
            "text/plain": [
              "<matplotlib.axes._subplots.AxesSubplot at 0x7f72b5508d68>"
            ]
          },
          "metadata": {
            "tags": []
          },
          "execution_count": 6
        },
        {
          "output_type": "display_data",
          "data": {
            "image/png": "[encoded data removed]",
            "text/plain": [
              "<Figure size 864x648 with 2 Axes>"
            ]
          },
          "metadata": {
            "tags": [],
            "needs_background": "light"
          }
        }
      ]
    },
    {
      "cell_type": "markdown",
      "metadata": {
        "id": "0raNHgFBq7lD",
        "colab_type": "text"
      },
      "source": [
        " Se observa que existe una gran correlacion entre los features EXPERIENCIA-EDAD, AVG_DH-MINUTES_DH "
      ]
    },
    {
      "cell_type": "markdown",
      "metadata": {
        "id": "Mz61uLxoq7lD",
        "colab_type": "text"
      },
      "source": [
        "### Removiendo columnas: se remueve la colinda Unnamed por ser id del alumno"
      ]
    },
    {
      "cell_type": "code",
      "metadata": {
        "id": "pJ5X3Qq0q7lE",
        "colab_type": "code",
        "colab": {
          "base_uri": "https://localhost:8080/",
          "height": 204
        },
        "outputId": "46100153-8432-40f9-8ca6-444b7be8485e"
      },
      "source": [
        "df_training_dataset_1 = df_training_dataset.drop(columns=['Unnamed: 0'], inplace=False)\n",
        "df_training_dataset_1.tail()"
      ],
      "execution_count": 7,
      "outputs": [
        {
          "output_type": "execute_result",
          "data": {
            "text/html": [
              "<div>\n",
              "<style scoped>\n",
              "    .dataframe tbody tr th:only-of-type {\n",
              "        vertical-align: middle;\n",
              "    }\n",
              "\n",
              "    .dataframe tbody tr th {\n",
              "        vertical-align: top;\n",
              "    }\n",
              "\n",
              "    .dataframe thead th {\n",
              "        text-align: right;\n",
              "    }\n",
              "</style>\n",
              "<table border=\"1\" class=\"dataframe\">\n",
              "  <thead>\n",
              "    <tr style=\"text-align: right;\">\n",
              "      <th></th>\n",
              "      <th>EDAD</th>\n",
              "      <th>GENERO</th>\n",
              "      <th>RESIDENCIA</th>\n",
              "      <th>NV_ESTUDIO</th>\n",
              "      <th>ESTUDIO_PREV</th>\n",
              "      <th>TRACK_DH</th>\n",
              "      <th>AVG_DH</th>\n",
              "      <th>MINUTES_DH</th>\n",
              "      <th>EXPERIENCIA</th>\n",
              "      <th>DIAS_EMP</th>\n",
              "    </tr>\n",
              "  </thead>\n",
              "  <tbody>\n",
              "    <tr>\n",
              "      <th>8990</th>\n",
              "      <td>29.0</td>\n",
              "      <td>MASCULINO</td>\n",
              "      <td>ARGENTINA</td>\n",
              "      <td>TERTIARY</td>\n",
              "      <td>DEVELOPMENT</td>\n",
              "      <td>NaN</td>\n",
              "      <td>4.0</td>\n",
              "      <td>4701.6</td>\n",
              "      <td>9.1</td>\n",
              "      <td>86.0</td>\n",
              "    </tr>\n",
              "    <tr>\n",
              "      <th>8991</th>\n",
              "      <td>34.0</td>\n",
              "      <td>NaN</td>\n",
              "      <td>ARGENTINA</td>\n",
              "      <td>UNIVERSITARY</td>\n",
              "      <td>ENGINEERING</td>\n",
              "      <td>PROGRAMACION</td>\n",
              "      <td>3.4</td>\n",
              "      <td>4646.2</td>\n",
              "      <td>16.8</td>\n",
              "      <td>95.0</td>\n",
              "    </tr>\n",
              "    <tr>\n",
              "      <th>8992</th>\n",
              "      <td>28.0</td>\n",
              "      <td>FEMENINO</td>\n",
              "      <td>ARGENTINA</td>\n",
              "      <td>POST_GRADUATE</td>\n",
              "      <td>ENGINEERING</td>\n",
              "      <td>EJECUTIVO</td>\n",
              "      <td>NaN</td>\n",
              "      <td>3315.1</td>\n",
              "      <td>5.6</td>\n",
              "      <td>95.0</td>\n",
              "    </tr>\n",
              "    <tr>\n",
              "      <th>8993</th>\n",
              "      <td>23.0</td>\n",
              "      <td>MASCULINO</td>\n",
              "      <td>MEXICO</td>\n",
              "      <td>TERTIARY</td>\n",
              "      <td>ENGINEERING</td>\n",
              "      <td>PROGRAMACION</td>\n",
              "      <td>3.3</td>\n",
              "      <td>4437.8</td>\n",
              "      <td>0.9</td>\n",
              "      <td>87.0</td>\n",
              "    </tr>\n",
              "    <tr>\n",
              "      <th>8994</th>\n",
              "      <td>36.0</td>\n",
              "      <td>MASCULINO</td>\n",
              "      <td>ARGENTINA</td>\n",
              "      <td>UNIVERSITARY</td>\n",
              "      <td>COMMERCIAL</td>\n",
              "      <td>DATA</td>\n",
              "      <td>3.4</td>\n",
              "      <td>4600.8</td>\n",
              "      <td>19.6</td>\n",
              "      <td>88.0</td>\n",
              "    </tr>\n",
              "  </tbody>\n",
              "</table>\n",
              "</div>"
            ],
            "text/plain": [
              "      EDAD     GENERO RESIDENCIA  ... MINUTES_DH EXPERIENCIA DIAS_EMP\n",
              "8990  29.0  MASCULINO  ARGENTINA  ...     4701.6         9.1     86.0\n",
              "8991  34.0        NaN  ARGENTINA  ...     4646.2        16.8     95.0\n",
              "8992  28.0   FEMENINO  ARGENTINA  ...     3315.1         5.6     95.0\n",
              "8993  23.0  MASCULINO     MEXICO  ...     4437.8         0.9     87.0\n",
              "8994  36.0  MASCULINO  ARGENTINA  ...     4600.8        19.6     88.0\n",
              "\n",
              "[5 rows x 10 columns]"
            ]
          },
          "metadata": {
            "tags": []
          },
          "execution_count": 7
        }
      ]
    },
    {
      "cell_type": "markdown",
      "metadata": {
        "id": "prlyYxKOq7lG",
        "colab_type": "text"
      },
      "source": [
        "## MANEJANDO LOS DATOS NaN"
      ]
    },
    {
      "cell_type": "markdown",
      "metadata": {
        "id": "VxyrKsMqq7lH",
        "colab_type": "text"
      },
      "source": [
        "### Visualizamos la relacion entre los features que tienen una correlcion mayor a 0.85"
      ]
    },
    {
      "cell_type": "markdown",
      "metadata": {
        "id": "mK_Xbdmuq7lH",
        "colab_type": "text"
      },
      "source": [
        "Relacion entre EDAD y EXPERIENCIA"
      ]
    },
    {
      "cell_type": "code",
      "metadata": {
        "id": "KaRRkMC0q7lI",
        "colab_type": "code",
        "colab": {
          "base_uri": "https://localhost:8080/",
          "height": 282
        },
        "outputId": "dc19708d-d59d-47aa-ca12-f3de8fd4359f"
      },
      "source": [
        "fig, ax = plt.subplots()\n",
        "ax.scatter(x = df_training_dataset['EDAD'], y = df_training_dataset['EXPERIENCIA'])\n",
        "plt.ylabel('EXPERIENCIA', fontsize=13)\n",
        "plt.xlabel('EDAD', fontsize=13)\n",
        "plt.show()"
      ],
      "execution_count": 8,
      "outputs": [
        {
          "output_type": "display_data",
          "data": {
            "image/png": "[encoded data removed]",
            "text/plain": [
              "<Figure size 432x288 with 1 Axes>"
            ]
          },
          "metadata": {
            "tags": [],
            "needs_background": "light"
          }
        }
      ]
    },
    {
      "cell_type": "markdown",
      "metadata": {
        "id": "MiKgVRoTq7lL",
        "colab_type": "text"
      },
      "source": [
        "Relacion entre AVG_DH y MINUTES_DH"
      ]
    },
    {
      "cell_type": "code",
      "metadata": {
        "id": "0DXTSk1fq7lM",
        "colab_type": "code",
        "colab": {
          "base_uri": "https://localhost:8080/",
          "height": 282
        },
        "outputId": "8722e938-638d-47e0-c957-39b92650c941"
      },
      "source": [
        "fig, ax = plt.subplots()\n",
        "ax.scatter(x = df_training_dataset['AVG_DH'], y = df_training_dataset['MINUTES_DH'])\n",
        "plt.ylabel('MINUTES_DH', fontsize=13)\n",
        "plt.xlabel('AVG_DH', fontsize=13)\n",
        "plt.show()"
      ],
      "execution_count": 9,
      "outputs": [
        {
          "output_type": "display_data",
          "data": {
            "image/png": "[encoded data removed]",
            "text/plain": [
              "<Figure size 432x288 with 1 Axes>"
            ]
          },
          "metadata": {
            "tags": [],
            "needs_background": "light"
          }
        }
      ]
    },
    {
      "cell_type": "markdown",
      "metadata": {
        "id": "p9VWn4Koq7lP",
        "colab_type": "text"
      },
      "source": [
        "### Llenando datos columna EXPERIENCIA"
      ]
    },
    {
      "cell_type": "markdown",
      "metadata": {
        "id": "A4wHOxzuzNj2",
        "colab_type": "text"
      },
      "source": [
        "Nos basamos en la correlacion existente para rellenar datos NaN"
      ]
    },
    {
      "cell_type": "code",
      "metadata": {
        "id": "3M7Obm3Dq7lP",
        "colab_type": "code",
        "colab": {
          "base_uri": "https://localhost:8080/",
          "height": 204
        },
        "outputId": "1f339f7b-2422-4e8c-e415-ec2ff1b9aa65"
      },
      "source": [
        "# Eliminalos filas con valores NaN\n",
        "df_training_dataset_2 = df_training_dataset_1[['EDAD', 'EXPERIENCIA']].dropna()\n",
        "df_training_dataset_2.tail()"
      ],
      "execution_count": 10,
      "outputs": [
        {
          "output_type": "execute_result",
          "data": {
            "text/html": [
              "<div>\n",
              "<style scoped>\n",
              "    .dataframe tbody tr th:only-of-type {\n",
              "        vertical-align: middle;\n",
              "    }\n",
              "\n",
              "    .dataframe tbody tr th {\n",
              "        vertical-align: top;\n",
              "    }\n",
              "\n",
              "    .dataframe thead th {\n",
              "        text-align: right;\n",
              "    }\n",
              "</style>\n",
              "<table border=\"1\" class=\"dataframe\">\n",
              "  <thead>\n",
              "    <tr style=\"text-align: right;\">\n",
              "      <th></th>\n",
              "      <th>EDAD</th>\n",
              "      <th>EXPERIENCIA</th>\n",
              "    </tr>\n",
              "  </thead>\n",
              "  <tbody>\n",
              "    <tr>\n",
              "      <th>8990</th>\n",
              "      <td>29.0</td>\n",
              "      <td>9.1</td>\n",
              "    </tr>\n",
              "    <tr>\n",
              "      <th>8991</th>\n",
              "      <td>34.0</td>\n",
              "      <td>16.8</td>\n",
              "    </tr>\n",
              "    <tr>\n",
              "      <th>8992</th>\n",
              "      <td>28.0</td>\n",
              "      <td>5.6</td>\n",
              "    </tr>\n",
              "    <tr>\n",
              "      <th>8993</th>\n",
              "      <td>23.0</td>\n",
              "      <td>0.9</td>\n",
              "    </tr>\n",
              "    <tr>\n",
              "      <th>8994</th>\n",
              "      <td>36.0</td>\n",
              "      <td>19.6</td>\n",
              "    </tr>\n",
              "  </tbody>\n",
              "</table>\n",
              "</div>"
            ],
            "text/plain": [
              "      EDAD  EXPERIENCIA\n",
              "8990  29.0          9.1\n",
              "8991  34.0         16.8\n",
              "8992  28.0          5.6\n",
              "8993  23.0          0.9\n",
              "8994  36.0         19.6"
            ]
          },
          "metadata": {
            "tags": []
          },
          "execution_count": 10
        }
      ]
    },
    {
      "cell_type": "markdown",
      "metadata": {
        "id": "mWdDkB2Lq7lT",
        "colab_type": "text"
      },
      "source": [
        "Determinamos una funcion que relaciona EDAD y EXPERIENCIA"
      ]
    },
    {
      "cell_type": "code",
      "metadata": {
        "id": "R83X8UXbq7lT",
        "colab_type": "code",
        "colab": {
          "base_uri": "https://localhost:8080/",
          "height": 265
        },
        "outputId": "821afd94-682a-4100-875d-17539cc18489"
      },
      "source": [
        "# Determinanos una funcion para la relacion entre EDAD y EXPERIENCIA\n",
        "X= df_training_dataset_2['EDAD']\n",
        "Y = df_training_dataset_2['EXPERIENCIA']\n",
        "z = np.polyfit(X, Y, 3)\n",
        "p = np.poly1d(z)\n",
        "\n",
        "import matplotlib.pyplot as plt\n",
        "xp = np.linspace(14, 52, 50)\n",
        "plt.plot(X, Y, '.', xp, p(xp), '-')\n",
        "plt.show()"
      ],
      "execution_count": 137,
      "outputs": [
        {
          "output_type": "display_data",
          "data": {
            "image/png": "[encoded data removed]",
            "text/plain": [
              "<Figure size 432x288 with 1 Axes>"
            ]
          },
          "metadata": {
            "tags": [],
            "needs_background": "light"
          }
        }
      ]
    },
    {
      "cell_type": "markdown",
      "metadata": {
        "id": "setVUwRFq7lW",
        "colab_type": "text"
      },
      "source": [
        "Solo usaremos los valores que no tienen NaN en EDAD para llevar la columna EXPERIENCIA"
      ]
    },
    {
      "cell_type": "code",
      "metadata": {
        "id": "PIwsYLv6q7lX",
        "colab_type": "code",
        "colab": {
          "base_uri": "https://localhost:8080/",
          "height": 204
        },
        "outputId": "bc4a06ed-b314-4d1d-f302-7ed13a607556"
      },
      "source": [
        "## Subconjunto sin valores nan en la columna EDAD\n",
        "df_training_dataset_3 = df_training_dataset_1[['EDAD', 'EXPERIENCIA']].dropna(subset=['EDAD'])\n",
        "df_training_dataset_3.tail()"
      ],
      "execution_count": 12,
      "outputs": [
        {
          "output_type": "execute_result",
          "data": {
            "text/html": [
              "<div>\n",
              "<style scoped>\n",
              "    .dataframe tbody tr th:only-of-type {\n",
              "        vertical-align: middle;\n",
              "    }\n",
              "\n",
              "    .dataframe tbody tr th {\n",
              "        vertical-align: top;\n",
              "    }\n",
              "\n",
              "    .dataframe thead th {\n",
              "        text-align: right;\n",
              "    }\n",
              "</style>\n",
              "<table border=\"1\" class=\"dataframe\">\n",
              "  <thead>\n",
              "    <tr style=\"text-align: right;\">\n",
              "      <th></th>\n",
              "      <th>EDAD</th>\n",
              "      <th>EXPERIENCIA</th>\n",
              "    </tr>\n",
              "  </thead>\n",
              "  <tbody>\n",
              "    <tr>\n",
              "      <th>8990</th>\n",
              "      <td>29.0</td>\n",
              "      <td>9.1</td>\n",
              "    </tr>\n",
              "    <tr>\n",
              "      <th>8991</th>\n",
              "      <td>34.0</td>\n",
              "      <td>16.8</td>\n",
              "    </tr>\n",
              "    <tr>\n",
              "      <th>8992</th>\n",
              "      <td>28.0</td>\n",
              "      <td>5.6</td>\n",
              "    </tr>\n",
              "    <tr>\n",
              "      <th>8993</th>\n",
              "      <td>23.0</td>\n",
              "      <td>0.9</td>\n",
              "    </tr>\n",
              "    <tr>\n",
              "      <th>8994</th>\n",
              "      <td>36.0</td>\n",
              "      <td>19.6</td>\n",
              "    </tr>\n",
              "  </tbody>\n",
              "</table>\n",
              "</div>"
            ],
            "text/plain": [
              "      EDAD  EXPERIENCIA\n",
              "8990  29.0          9.1\n",
              "8991  34.0         16.8\n",
              "8992  28.0          5.6\n",
              "8993  23.0          0.9\n",
              "8994  36.0         19.6"
            ]
          },
          "metadata": {
            "tags": []
          },
          "execution_count": 12
        }
      ]
    },
    {
      "cell_type": "markdown",
      "metadata": {
        "id": "mRALhv1Bq7la",
        "colab_type": "text"
      },
      "source": [
        "Observamos la cantidad de nullos antes de llenar los valores"
      ]
    },
    {
      "cell_type": "code",
      "metadata": {
        "id": "eptcpJkIq7la",
        "colab_type": "code",
        "colab": {
          "base_uri": "https://localhost:8080/",
          "height": 119
        },
        "outputId": "d6d21f28-41d9-475c-ec1b-ebcc7b1a28a0"
      },
      "source": [
        "# Mostrando los datos nulos del dataset\n",
        "print(\"Valores nulos del df_training_dataset antes de rellenar nan: \\n\\n{}\\n\".format(df_training_dataset_3.isnull().sum(axis = 0)))"
      ],
      "execution_count": 13,
      "outputs": [
        {
          "output_type": "stream",
          "text": [
            "Valores nulos del df_training_dataset antes de rellenar nan: \n",
            "\n",
            "EDAD              0\n",
            "EXPERIENCIA    1186\n",
            "dtype: int64\n",
            "\n"
          ],
          "name": "stdout"
        }
      ]
    },
    {
      "cell_type": "markdown",
      "metadata": {
        "id": "MhwihMk72s2_",
        "colab_type": "text"
      },
      "source": [
        "Obtenemos los indices de las filas con valor nan en la columna EXPERIENCIA"
      ]
    },
    {
      "cell_type": "code",
      "metadata": {
        "id": "XhSFuf8dq7ld",
        "colab_type": "code",
        "colab": {}
      },
      "source": [
        "# Obtenemos los indices de las filas con valor nan en la columna EXPERIENCIA\n",
        "indices_valores_nan_experiencia=np.array(df_training_dataset_3[df_training_dataset_3['EXPERIENCIA'].isna()].index)"
      ],
      "execution_count": 14,
      "outputs": []
    },
    {
      "cell_type": "markdown",
      "metadata": {
        "id": "0BeznYgyq7lh",
        "colab_type": "text"
      },
      "source": [
        "Rellenamos los datos usando la funcion "
      ]
    },
    {
      "cell_type": "code",
      "metadata": {
        "id": "55--s0jUq7lh",
        "colab_type": "code",
        "colab": {
          "base_uri": "https://localhost:8080/",
          "height": 102
        },
        "outputId": "d2270cac-1be3-409d-aef7-33c8b81c4abf"
      },
      "source": [
        "# Completamos los valores NaN en base al valor: EXPERIENCIA = funcion(EDAD)\n",
        "for i in range(len(indices_valores_nan_experiencia)):\n",
        "    df_training_dataset_1['EXPERIENCIA'][indices_valores_nan_experiencia[i]]=p(df_training_dataset_1['EDAD'].iloc[indices_valores_nan_experiencia[i]])"
      ],
      "execution_count": 15,
      "outputs": [
        {
          "output_type": "stream",
          "text": [
            "/usr/local/lib/python3.6/dist-packages/ipykernel_launcher.py:3: SettingWithCopyWarning: \n",
            "A value is trying to be set on a copy of a slice from a DataFrame\n",
            "\n",
            "See the caveats in the documentation: https://pandas.pydata.org/pandas-docs/stable/user_guide/indexing.html#returning-a-view-versus-a-copy\n",
            "  This is separate from the ipykernel package so we can avoid doing imports until\n"
          ],
          "name": "stderr"
        }
      ]
    },
    {
      "cell_type": "markdown",
      "metadata": {
        "id": "3WPcN_Bhq7ll",
        "colab_type": "text"
      },
      "source": [
        "Viualizamos la cantidad de valores nulos despues de llenar los datos"
      ]
    },
    {
      "cell_type": "code",
      "metadata": {
        "id": "fJzWThplq7lm",
        "colab_type": "code",
        "colab": {
          "base_uri": "https://localhost:8080/",
          "height": 255
        },
        "outputId": "7401f224-2919-472b-cf8c-2083f2ae39b0"
      },
      "source": [
        "# Mostrando los datos nulos de EXPERIENCIA luego de completarlos\n",
        "print(\"Valores nulos del df_training_dataset antes de rellenar nan: \\n\\n{}\\n\".format(df_training_dataset_1.isnull().sum(axis = 0)))"
      ],
      "execution_count": 16,
      "outputs": [
        {
          "output_type": "stream",
          "text": [
            "Valores nulos del df_training_dataset antes de rellenar nan: \n",
            "\n",
            "EDAD            1327\n",
            "GENERO          1375\n",
            "RESIDENCIA      1357\n",
            "NV_ESTUDIO      1372\n",
            "ESTUDIO_PREV    1330\n",
            "TRACK_DH        1281\n",
            "AVG_DH          1344\n",
            "MINUTES_DH      1376\n",
            "EXPERIENCIA      191\n",
            "DIAS_EMP           0\n",
            "dtype: int64\n",
            "\n"
          ],
          "name": "stdout"
        }
      ]
    },
    {
      "cell_type": "markdown",
      "metadata": {
        "id": "LO5RqNzOq7lo",
        "colab_type": "text"
      },
      "source": [
        "### Llenando datos columna MINUTES_DH"
      ]
    },
    {
      "cell_type": "markdown",
      "metadata": {
        "id": "PygV7cyPq7lp",
        "colab_type": "text"
      },
      "source": [
        "Similar proceso al anterior"
      ]
    },
    {
      "cell_type": "code",
      "metadata": {
        "id": "-lsWezXqq7lq",
        "colab_type": "code",
        "colab": {
          "base_uri": "https://localhost:8080/",
          "height": 204
        },
        "outputId": "05ca20d9-09fb-4df1-ea58-da91f128fc57"
      },
      "source": [
        "# Eliminalos filas con valores NaN para determinar la funcion que relaciona  AVG_DH y MINUTES_DH\n",
        "df_training_dataset_4 = df_training_dataset_1[['AVG_DH', 'MINUTES_DH']].dropna()\n",
        "df_training_dataset_4.tail()"
      ],
      "execution_count": 17,
      "outputs": [
        {
          "output_type": "execute_result",
          "data": {
            "text/html": [
              "<div>\n",
              "<style scoped>\n",
              "    .dataframe tbody tr th:only-of-type {\n",
              "        vertical-align: middle;\n",
              "    }\n",
              "\n",
              "    .dataframe tbody tr th {\n",
              "        vertical-align: top;\n",
              "    }\n",
              "\n",
              "    .dataframe thead th {\n",
              "        text-align: right;\n",
              "    }\n",
              "</style>\n",
              "<table border=\"1\" class=\"dataframe\">\n",
              "  <thead>\n",
              "    <tr style=\"text-align: right;\">\n",
              "      <th></th>\n",
              "      <th>AVG_DH</th>\n",
              "      <th>MINUTES_DH</th>\n",
              "    </tr>\n",
              "  </thead>\n",
              "  <tbody>\n",
              "    <tr>\n",
              "      <th>8987</th>\n",
              "      <td>4.2</td>\n",
              "      <td>4847.4</td>\n",
              "    </tr>\n",
              "    <tr>\n",
              "      <th>8990</th>\n",
              "      <td>4.0</td>\n",
              "      <td>4701.6</td>\n",
              "    </tr>\n",
              "    <tr>\n",
              "      <th>8991</th>\n",
              "      <td>3.4</td>\n",
              "      <td>4646.2</td>\n",
              "    </tr>\n",
              "    <tr>\n",
              "      <th>8993</th>\n",
              "      <td>3.3</td>\n",
              "      <td>4437.8</td>\n",
              "    </tr>\n",
              "    <tr>\n",
              "      <th>8994</th>\n",
              "      <td>3.4</td>\n",
              "      <td>4600.8</td>\n",
              "    </tr>\n",
              "  </tbody>\n",
              "</table>\n",
              "</div>"
            ],
            "text/plain": [
              "      AVG_DH  MINUTES_DH\n",
              "8987     4.2      4847.4\n",
              "8990     4.0      4701.6\n",
              "8991     3.4      4646.2\n",
              "8993     3.3      4437.8\n",
              "8994     3.4      4600.8"
            ]
          },
          "metadata": {
            "tags": []
          },
          "execution_count": 17
        }
      ]
    },
    {
      "cell_type": "code",
      "metadata": {
        "id": "9eazu6RCq7ls",
        "colab_type": "code",
        "colab": {
          "base_uri": "https://localhost:8080/",
          "height": 265
        },
        "outputId": "c8b30ac7-fe6d-42ee-b540-429548120563"
      },
      "source": [
        "# Determinanos una funcion para la relacion entre AVG_DH y MINUTES_DH\n",
        "X1= df_training_dataset_4['AVG_DH']\n",
        "Y1 = df_training_dataset_4['MINUTES_DH']\n",
        "z1 = np.polyfit(X1, Y1, 7)\n",
        "p1 = np.poly1d(z1)\n",
        "\n",
        "import matplotlib.pyplot as plt\n",
        "xp1 = np.linspace(2, 5, 10)\n",
        "plt.plot(X1, Y1, '.', xp1, p1(xp1), '-')\n",
        "plt.show()"
      ],
      "execution_count": 138,
      "outputs": [
        {
          "output_type": "display_data",
          "data": {
            "image/png": "[encoded data removed]",
            "text/plain": [
              "<Figure size 432x288 with 1 Axes>"
            ]
          },
          "metadata": {
            "tags": [],
            "needs_background": "light"
          }
        }
      ]
    },
    {
      "cell_type": "markdown",
      "metadata": {
        "id": "QQYTmhH80zx1",
        "colab_type": "text"
      },
      "source": [
        "Solo usaremos los valores que no tienen NaN en AVG_DH para llevar la columna MINUTES_DH"
      ]
    },
    {
      "cell_type": "code",
      "metadata": {
        "id": "cAXdf_t0q7lv",
        "colab_type": "code",
        "colab": {
          "base_uri": "https://localhost:8080/",
          "height": 204
        },
        "outputId": "a0317a60-c6cc-4983-afdf-27b1a658996e"
      },
      "source": [
        "# Subconjunto sin valores nan en la columna AVG_DH\n",
        "df_training_dataset_5 = df_training_dataset_1[['AVG_DH', 'MINUTES_DH']].dropna(subset=['AVG_DH'])\n",
        "df_training_dataset_5.tail()"
      ],
      "execution_count": 19,
      "outputs": [
        {
          "output_type": "execute_result",
          "data": {
            "text/html": [
              "<div>\n",
              "<style scoped>\n",
              "    .dataframe tbody tr th:only-of-type {\n",
              "        vertical-align: middle;\n",
              "    }\n",
              "\n",
              "    .dataframe tbody tr th {\n",
              "        vertical-align: top;\n",
              "    }\n",
              "\n",
              "    .dataframe thead th {\n",
              "        text-align: right;\n",
              "    }\n",
              "</style>\n",
              "<table border=\"1\" class=\"dataframe\">\n",
              "  <thead>\n",
              "    <tr style=\"text-align: right;\">\n",
              "      <th></th>\n",
              "      <th>AVG_DH</th>\n",
              "      <th>MINUTES_DH</th>\n",
              "    </tr>\n",
              "  </thead>\n",
              "  <tbody>\n",
              "    <tr>\n",
              "      <th>8989</th>\n",
              "      <td>3.4</td>\n",
              "      <td>NaN</td>\n",
              "    </tr>\n",
              "    <tr>\n",
              "      <th>8990</th>\n",
              "      <td>4.0</td>\n",
              "      <td>4701.6</td>\n",
              "    </tr>\n",
              "    <tr>\n",
              "      <th>8991</th>\n",
              "      <td>3.4</td>\n",
              "      <td>4646.2</td>\n",
              "    </tr>\n",
              "    <tr>\n",
              "      <th>8993</th>\n",
              "      <td>3.3</td>\n",
              "      <td>4437.8</td>\n",
              "    </tr>\n",
              "    <tr>\n",
              "      <th>8994</th>\n",
              "      <td>3.4</td>\n",
              "      <td>4600.8</td>\n",
              "    </tr>\n",
              "  </tbody>\n",
              "</table>\n",
              "</div>"
            ],
            "text/plain": [
              "      AVG_DH  MINUTES_DH\n",
              "8989     3.4         NaN\n",
              "8990     4.0      4701.6\n",
              "8991     3.4      4646.2\n",
              "8993     3.3      4437.8\n",
              "8994     3.4      4600.8"
            ]
          },
          "metadata": {
            "tags": []
          },
          "execution_count": 19
        }
      ]
    },
    {
      "cell_type": "markdown",
      "metadata": {
        "id": "D5p7tN7d1D7i",
        "colab_type": "text"
      },
      "source": [
        "Observamos la cantidad de nullos antes de llenar los valores"
      ]
    },
    {
      "cell_type": "code",
      "metadata": {
        "id": "hEWiV70Lq7ly",
        "colab_type": "code",
        "colab": {
          "base_uri": "https://localhost:8080/",
          "height": 119
        },
        "outputId": "8f8afc7d-8154-485c-d2f3-e203edca06ea"
      },
      "source": [
        "# Mostrando los datos nulos del dataset antes del proceso de completar\n",
        "print(\"Valores nulos del df_training_dataset antes de rellenar nan: \\n\\n{}\\n\".format(df_training_dataset_5.isnull().sum(axis = 0)))"
      ],
      "execution_count": 20,
      "outputs": [
        {
          "output_type": "stream",
          "text": [
            "Valores nulos del df_training_dataset antes de rellenar nan: \n",
            "\n",
            "AVG_DH           0\n",
            "MINUTES_DH    1188\n",
            "dtype: int64\n",
            "\n"
          ],
          "name": "stdout"
        }
      ]
    },
    {
      "cell_type": "markdown",
      "metadata": {
        "id": "tq6ja9YJ2xTE",
        "colab_type": "text"
      },
      "source": [
        "Obtenemos los indices de las filas con valor nan en la columna MINUTES_DH"
      ]
    },
    {
      "cell_type": "code",
      "metadata": {
        "id": "MPcLISc1q7l1",
        "colab_type": "code",
        "colab": {}
      },
      "source": [
        "# Obtenemos los indices de las filas con valor nan de MINUTES_DH\n",
        "indices_valores_nan_minutes=np.array(df_training_dataset_5[df_training_dataset_5['MINUTES_DH'].isna()].index)"
      ],
      "execution_count": 21,
      "outputs": []
    },
    {
      "cell_type": "markdown",
      "metadata": {
        "id": "-XMXSLsH1Ift",
        "colab_type": "text"
      },
      "source": [
        "Rellenamos los datos usando la funcion"
      ]
    },
    {
      "cell_type": "code",
      "metadata": {
        "id": "LSdtVfZvq7l3",
        "colab_type": "code",
        "colab": {
          "base_uri": "https://localhost:8080/",
          "height": 102
        },
        "outputId": "270568b8-f055-4423-f54d-dcbdff2af959"
      },
      "source": [
        "for i in range(len(indices_valores_nan_minutes)):\n",
        "    df_training_dataset_1['MINUTES_DH'][indices_valores_nan_minutes[i]]=p1(df_training_dataset_1['AVG_DH'].iloc[indices_valores_nan_minutes[i]])"
      ],
      "execution_count": 22,
      "outputs": [
        {
          "output_type": "stream",
          "text": [
            "/usr/local/lib/python3.6/dist-packages/ipykernel_launcher.py:2: SettingWithCopyWarning: \n",
            "A value is trying to be set on a copy of a slice from a DataFrame\n",
            "\n",
            "See the caveats in the documentation: https://pandas.pydata.org/pandas-docs/stable/user_guide/indexing.html#returning-a-view-versus-a-copy\n",
            "  \n"
          ],
          "name": "stderr"
        }
      ]
    },
    {
      "cell_type": "markdown",
      "metadata": {
        "id": "6vhGBCj81b81",
        "colab_type": "text"
      },
      "source": [
        "Visualizamos la cantidad de valores nulos despues de llenar los datos"
      ]
    },
    {
      "cell_type": "code",
      "metadata": {
        "id": "iYEkrHBjq7l6",
        "colab_type": "code",
        "colab": {
          "base_uri": "https://localhost:8080/",
          "height": 255
        },
        "outputId": "95ef12a5-cc40-4d04-d341-d719e0348bd9"
      },
      "source": [
        "# Mostrando los datos nulos del dataset luego de completar valores\n",
        "print(\"Valores nulos del df_training_dataset antes de rellenar nan: \\n\\n{}\\n\".format(df_training_dataset_1.isnull().sum(axis = 0)))"
      ],
      "execution_count": 23,
      "outputs": [
        {
          "output_type": "stream",
          "text": [
            "Valores nulos del df_training_dataset antes de rellenar nan: \n",
            "\n",
            "EDAD            1327\n",
            "GENERO          1375\n",
            "RESIDENCIA      1357\n",
            "NV_ESTUDIO      1372\n",
            "ESTUDIO_PREV    1330\n",
            "TRACK_DH        1281\n",
            "AVG_DH          1344\n",
            "MINUTES_DH       188\n",
            "EXPERIENCIA      191\n",
            "DIAS_EMP           0\n",
            "dtype: int64\n",
            "\n"
          ],
          "name": "stdout"
        }
      ]
    },
    {
      "cell_type": "markdown",
      "metadata": {
        "id": "xJBofEn6q7l8",
        "colab_type": "text"
      },
      "source": [
        "### Llenando datos columna AVG_DH"
      ]
    },
    {
      "cell_type": "markdown",
      "metadata": {
        "id": "JBAzUfGj1nmt",
        "colab_type": "text"
      },
      "source": [
        "Ahora se usara el valor mas cercano de MINUTES_DH (interpolar) para llenar los valores vacios de la columna AVG_DH"
      ]
    },
    {
      "cell_type": "code",
      "metadata": {
        "id": "D8_QiecPq7l9",
        "colab_type": "code",
        "colab": {
          "base_uri": "https://localhost:8080/",
          "height": 284
        },
        "outputId": "7cdfb34b-a63e-4e6a-899d-60bb423fd17b"
      },
      "source": [
        "fig, ax = plt.subplots()\n",
        "ax.scatter(x = df_training_dataset_1['MINUTES_DH'], y = df_training_dataset_1['AVG_DH'])\n",
        "plt.ylabel('AVG_DH', fontsize=13)\n",
        "plt.xlabel('MINUTES_DH', fontsize=13)\n",
        "plt.show()"
      ],
      "execution_count": 24,
      "outputs": [
        {
          "output_type": "display_data",
          "data": {
            "image/png": "[encoded data removed]",
            "text/plain": [
              "<Figure size 432x288 with 1 Axes>"
            ]
          },
          "metadata": {
            "tags": [],
            "needs_background": "light"
          }
        }
      ]
    },
    {
      "cell_type": "markdown",
      "metadata": {
        "id": "hFd9q_W62C-v",
        "colab_type": "text"
      },
      "source": [
        "Tomamos los valores no nullos de la columna MINUTES_DH y con ellos rellenaremos los valores de AVG_DH          "
      ]
    },
    {
      "cell_type": "code",
      "metadata": {
        "id": "kLZ7ebpdq7l_",
        "colab_type": "code",
        "colab": {}
      },
      "source": [
        "df_training_dataset_6=df_training_dataset_1.dropna(subset=['MINUTES_DH'])"
      ],
      "execution_count": 25,
      "outputs": []
    },
    {
      "cell_type": "markdown",
      "metadata": {
        "id": "US_pEAWR2TGl",
        "colab_type": "text"
      },
      "source": [
        "Observamos la cantidad de nullos antes de llenar los valores"
      ]
    },
    {
      "cell_type": "code",
      "metadata": {
        "id": "RcwMVJIgq7mB",
        "colab_type": "code",
        "colab": {
          "base_uri": "https://localhost:8080/",
          "height": 255
        },
        "outputId": "b00eea6c-0be9-4b29-c568-9b0ca61ccbe6"
      },
      "source": [
        "# Mostrando los datos nulos del dataset antes de completar los valores\n",
        "print(\"Valores nulos del df_training_dataset antes de rellenar nan: \\n\\n{}\\n\".format(df_training_dataset_1.isna().sum(axis = 0)))"
      ],
      "execution_count": 26,
      "outputs": [
        {
          "output_type": "stream",
          "text": [
            "Valores nulos del df_training_dataset antes de rellenar nan: \n",
            "\n",
            "EDAD            1327\n",
            "GENERO          1375\n",
            "RESIDENCIA      1357\n",
            "NV_ESTUDIO      1372\n",
            "ESTUDIO_PREV    1330\n",
            "TRACK_DH        1281\n",
            "AVG_DH          1344\n",
            "MINUTES_DH       188\n",
            "EXPERIENCIA      191\n",
            "DIAS_EMP           0\n",
            "dtype: int64\n",
            "\n"
          ],
          "name": "stdout"
        }
      ]
    },
    {
      "cell_type": "markdown",
      "metadata": {
        "id": "aFKVcfXY239z",
        "colab_type": "text"
      },
      "source": [
        "Obtenemos los indices de las filas con valor nan en la columna AVG_DH"
      ]
    },
    {
      "cell_type": "code",
      "metadata": {
        "id": "4FPxlceRq7mF",
        "colab_type": "code",
        "colab": {}
      },
      "source": [
        "indices_nan=df_training_dataset_6[df_training_dataset_6['AVG_DH'].isna()].index"
      ],
      "execution_count": 27,
      "outputs": []
    },
    {
      "cell_type": "markdown",
      "metadata": {
        "id": "bEJoRh_23LNU",
        "colab_type": "text"
      },
      "source": [
        "Rellenamos los datos usando interpolacion"
      ]
    },
    {
      "cell_type": "code",
      "metadata": {
        "id": "vBIfEqldq7mI",
        "colab_type": "code",
        "colab": {
          "base_uri": "https://localhost:8080/",
          "height": 102
        },
        "outputId": "e0a31246-04f2-48c7-8dd4-89b28d08e7ff"
      },
      "source": [
        "for i in indices_nan:\n",
        "  #print('i = ',i)\n",
        "  for j in np.array(df_training_dataset_6.index):\n",
        "    if df_training_dataset_6['MINUTES_DH'].loc[i].astype(int)==df_training_dataset_6['MINUTES_DH'].loc[j].astype(int) and i!=j :\n",
        "        df_training_dataset_1['AVG_DH'].loc[i]= df_training_dataset_6['AVG_DH'].loc[j]\n",
        "        break\n",
        "      #print('j = ',j)"
      ],
      "execution_count": 28,
      "outputs": [
        {
          "output_type": "stream",
          "text": [
            "/usr/local/lib/python3.6/dist-packages/pandas/core/indexing.py:671: SettingWithCopyWarning: \n",
            "A value is trying to be set on a copy of a slice from a DataFrame\n",
            "\n",
            "See the caveats in the documentation: https://pandas.pydata.org/pandas-docs/stable/user_guide/indexing.html#returning-a-view-versus-a-copy\n",
            "  self._setitem_with_indexer(indexer, value)\n"
          ],
          "name": "stderr"
        }
      ]
    },
    {
      "cell_type": "markdown",
      "metadata": {
        "id": "pqtHjrTq3hO5",
        "colab_type": "text"
      },
      "source": [
        "Visualizamos la cantidad de valores nulos despues de llenar los datos"
      ]
    },
    {
      "cell_type": "code",
      "metadata": {
        "id": "jpkoc6E-q7mK",
        "colab_type": "code",
        "colab": {
          "base_uri": "https://localhost:8080/",
          "height": 255
        },
        "outputId": "30b229b4-6d35-4487-9e9e-22804e9476b2"
      },
      "source": [
        "# Mostrando los datos nulos del dataset despues de completar valores\n",
        "\n",
        "print(\"Valores nulos del df_training_dataset antes de rellenar nan: \\n\\n{}\\n\".format(df_training_dataset_1.isna().sum(axis = 0)))"
      ],
      "execution_count": 29,
      "outputs": [
        {
          "output_type": "stream",
          "text": [
            "Valores nulos del df_training_dataset antes de rellenar nan: \n",
            "\n",
            "EDAD            1327\n",
            "GENERO          1375\n",
            "RESIDENCIA      1357\n",
            "NV_ESTUDIO      1372\n",
            "ESTUDIO_PREV    1330\n",
            "TRACK_DH        1281\n",
            "AVG_DH           457\n",
            "MINUTES_DH       188\n",
            "EXPERIENCIA      191\n",
            "DIAS_EMP           0\n",
            "dtype: int64\n",
            "\n"
          ],
          "name": "stdout"
        }
      ]
    },
    {
      "cell_type": "markdown",
      "metadata": {
        "id": "8SLjPtpsq7mP",
        "colab_type": "text"
      },
      "source": [
        "###  Llenando datos columna EDAD"
      ]
    },
    {
      "cell_type": "markdown",
      "metadata": {
        "id": "dbGdf4hf36DB",
        "colab_type": "text"
      },
      "source": [
        "Ahora se usara el valor mas cercano de EXPERIENCIA (interpolar) para llenar los valores vacios de la columna EDAD"
      ]
    },
    {
      "cell_type": "code",
      "metadata": {
        "id": "3n0pCdZfq7mQ",
        "colab_type": "code",
        "colab": {
          "base_uri": "https://localhost:8080/",
          "height": 282
        },
        "outputId": "b0cc3415-1aef-42b8-f51d-a0462f688574"
      },
      "source": [
        "fig, ax = plt.subplots()\n",
        "ax.scatter(x = df_training_dataset_2['EXPERIENCIA'], y = df_training_dataset_2['EDAD'])\n",
        "plt.ylabel('EDAD', fontsize=13)\n",
        "plt.xlabel('EXPERIENCIA', fontsize=13)\n",
        "plt.show()"
      ],
      "execution_count": 30,
      "outputs": [
        {
          "output_type": "display_data",
          "data": {
            "image/png": "[encoded data removed]",
            "text/plain": [
              "<Figure size 432x288 with 1 Axes>"
            ]
          },
          "metadata": {
            "tags": [],
            "needs_background": "light"
          }
        }
      ]
    },
    {
      "cell_type": "markdown",
      "metadata": {
        "id": "V0eMisBP4ZEX",
        "colab_type": "text"
      },
      "source": [
        "Tomamos los valores no nullos de la columna EXPERIENCIA y con ellos rellenaremos los valores de EDAD"
      ]
    },
    {
      "cell_type": "code",
      "metadata": {
        "id": "sXqJS0cEq7mS",
        "colab_type": "code",
        "colab": {}
      },
      "source": [
        "df_training_dataset_7=df_training_dataset_1.dropna(subset=['EXPERIENCIA'])"
      ],
      "execution_count": 31,
      "outputs": []
    },
    {
      "cell_type": "markdown",
      "metadata": {
        "id": "7uhnz0xX4kbp",
        "colab_type": "text"
      },
      "source": [
        "Observamos la cantidad de nullos antes de llenar los valores"
      ]
    },
    {
      "cell_type": "code",
      "metadata": {
        "id": "ncjmjNPfq7mU",
        "colab_type": "code",
        "colab": {
          "base_uri": "https://localhost:8080/",
          "height": 255
        },
        "outputId": "04dc2bef-b05f-4ae9-d544-c7260f673df8"
      },
      "source": [
        "# Mostrando los datos nulos del dataset antes de la segunda transformación (df)\n",
        "print(\"Valores nulos del df_training_dataset antes de rellenar nan: \\n\\n{}\\n\".format(df_training_dataset_7.isna().sum(axis = 0)))"
      ],
      "execution_count": 32,
      "outputs": [
        {
          "output_type": "stream",
          "text": [
            "Valores nulos del df_training_dataset antes de rellenar nan: \n",
            "\n",
            "EDAD            1136\n",
            "GENERO          1342\n",
            "RESIDENCIA      1332\n",
            "NV_ESTUDIO      1343\n",
            "ESTUDIO_PREV    1295\n",
            "TRACK_DH        1242\n",
            "AVG_DH           447\n",
            "MINUTES_DH       183\n",
            "EXPERIENCIA        0\n",
            "DIAS_EMP           0\n",
            "dtype: int64\n",
            "\n"
          ],
          "name": "stdout"
        }
      ]
    },
    {
      "cell_type": "markdown",
      "metadata": {
        "id": "nA3ixDhl4N9u",
        "colab_type": "text"
      },
      "source": [
        "Obtenemos los indices de las filas con valor nan en la columna EDAD"
      ]
    },
    {
      "cell_type": "code",
      "metadata": {
        "id": "PWdIZpgvq7mW",
        "colab_type": "code",
        "colab": {}
      },
      "source": [
        "indices_nan=df_training_dataset_7[df_training_dataset_7['EDAD'].isna()].index"
      ],
      "execution_count": 33,
      "outputs": []
    },
    {
      "cell_type": "markdown",
      "metadata": {
        "id": "o4MamKB34SXF",
        "colab_type": "text"
      },
      "source": [
        "Rellenamos los datos usando interpolacion"
      ]
    },
    {
      "cell_type": "code",
      "metadata": {
        "id": "xkae8btUq7mZ",
        "colab_type": "code",
        "colab": {
          "base_uri": "https://localhost:8080/",
          "height": 102
        },
        "outputId": "a6981883-6577-4acc-e190-a5e05025336b"
      },
      "source": [
        "for i in indices_nan:\n",
        "  #print('i = ',i)\n",
        "  for j in np.array(df_training_dataset_7.index):\n",
        "    if df_training_dataset_7['EXPERIENCIA'].loc[i].astype(int)==df_training_dataset_7['EXPERIENCIA'].loc[j].astype(int) and i!=j :\n",
        "        df_training_dataset_1['EDAD'].loc[i]= df_training_dataset_7['EDAD'].loc[j]\n",
        "        break\n",
        "      #print('j = ',j)"
      ],
      "execution_count": 34,
      "outputs": [
        {
          "output_type": "stream",
          "text": [
            "/usr/local/lib/python3.6/dist-packages/pandas/core/indexing.py:671: SettingWithCopyWarning: \n",
            "A value is trying to be set on a copy of a slice from a DataFrame\n",
            "\n",
            "See the caveats in the documentation: https://pandas.pydata.org/pandas-docs/stable/user_guide/indexing.html#returning-a-view-versus-a-copy\n",
            "  self._setitem_with_indexer(indexer, value)\n"
          ],
          "name": "stderr"
        }
      ]
    },
    {
      "cell_type": "markdown",
      "metadata": {
        "id": "M_T34bNK4p14",
        "colab_type": "text"
      },
      "source": [
        "Visualizamos la cantidad de valores nulos despues de llenar los datos"
      ]
    },
    {
      "cell_type": "code",
      "metadata": {
        "id": "4ysNiIT2q7mb",
        "colab_type": "code",
        "colab": {
          "base_uri": "https://localhost:8080/",
          "height": 255
        },
        "outputId": "e80bc238-f146-4396-b6e8-920c2f7873c5"
      },
      "source": [
        "# Mostrando los datos nulos del dataset antes de la segunda transformación (df)\n",
        "print(\"Valores nulos del df_training_dataset antes de rellenar nan: \\n\\n{}\\n\".format(df_training_dataset_1.isna().sum(axis = 0)))"
      ],
      "execution_count": 35,
      "outputs": [
        {
          "output_type": "stream",
          "text": [
            "Valores nulos del df_training_dataset antes de rellenar nan: \n",
            "\n",
            "EDAD             250\n",
            "GENERO          1375\n",
            "RESIDENCIA      1357\n",
            "NV_ESTUDIO      1372\n",
            "ESTUDIO_PREV    1330\n",
            "TRACK_DH        1281\n",
            "AVG_DH           457\n",
            "MINUTES_DH       188\n",
            "EXPERIENCIA      191\n",
            "DIAS_EMP           0\n",
            "dtype: int64\n",
            "\n"
          ],
          "name": "stdout"
        }
      ]
    },
    {
      "cell_type": "markdown",
      "metadata": {
        "id": "LiKSnUcEq7mi",
        "colab_type": "text"
      },
      "source": [
        "## Dividimos en features y target"
      ]
    },
    {
      "cell_type": "markdown",
      "metadata": {
        "id": "gzAPG1xz5mEI",
        "colab_type": "text"
      },
      "source": [
        "### Datos numericos"
      ]
    },
    {
      "cell_type": "code",
      "metadata": {
        "id": "uM-MC4AFq7ml",
        "colab_type": "code",
        "colab": {}
      },
      "source": [
        "# FEATURES\n",
        "X=df_training_dataset_1.drop('DIAS_EMP', axis = 1)\n",
        "# TARGET\n",
        "y=df_training_dataset_1.DIAS_EMP"
      ],
      "execution_count": 36,
      "outputs": []
    },
    {
      "cell_type": "markdown",
      "metadata": {
        "id": "0kCyvgNyq7mq",
        "colab_type": "text"
      },
      "source": [
        "Escalando la data numerica"
      ]
    },
    {
      "cell_type": "code",
      "metadata": {
        "id": "XJAStWMZq7mq",
        "colab_type": "code",
        "colab": {}
      },
      "source": [
        "# Seleccionamos columnas con datos numericos\n",
        "Data_numerica = X.select_dtypes(exclude = 'object')\n",
        "Data_numerica.columns = ['EDAD','AVG_DH','EXPERIENCIA','MINUTES_DH']"
      ],
      "execution_count": 37,
      "outputs": []
    },
    {
      "cell_type": "markdown",
      "metadata": {
        "id": "DmtXUp0Xq7m1",
        "colab_type": "text"
      },
      "source": [
        "Rellenando nan por media "
      ]
    },
    {
      "cell_type": "code",
      "metadata": {
        "id": "0eDMYJFuq7mv",
        "colab_type": "code",
        "colab": {
          "base_uri": "https://localhost:8080/",
          "height": 102
        },
        "outputId": "25107855-0687-42ef-f5e3-7674c99c8833"
      },
      "source": [
        "Data_numerica['EDAD'].fillna((Data_numerica['EDAD'].mean()), inplace=True)\n",
        "Data_numerica['AVG_DH'].fillna((Data_numerica['AVG_DH'].mean()), inplace=True)\n",
        "Data_numerica['EXPERIENCIA'].fillna((Data_numerica['EXPERIENCIA'].mean()), inplace=True)\n",
        "Data_numerica['MINUTES_DH'].fillna((Data_numerica['MINUTES_DH'].mean()), inplace=True)"
      ],
      "execution_count": 38,
      "outputs": [
        {
          "output_type": "stream",
          "text": [
            "/usr/local/lib/python3.6/dist-packages/pandas/core/generic.py:6245: SettingWithCopyWarning: \n",
            "A value is trying to be set on a copy of a slice from a DataFrame\n",
            "\n",
            "See the caveats in the documentation: https://pandas.pydata.org/pandas-docs/stable/user_guide/indexing.html#returning-a-view-versus-a-copy\n",
            "  self._update_inplace(new_data)\n"
          ],
          "name": "stderr"
        }
      ]
    },
    {
      "cell_type": "code",
      "metadata": {
        "id": "tj2TDpusq7m1",
        "colab_type": "code",
        "colab": {
          "base_uri": "https://localhost:8080/",
          "height": 204
        },
        "outputId": "3129e43f-e2f1-41d0-f874-eb08e1f1415b"
      },
      "source": [
        "from sklearn.preprocessing import StandardScaler\n",
        "from scipy import stats\n",
        "ss = StandardScaler()\n",
        "X_train_numeric = pd.DataFrame(ss.fit_transform(Data_numerica))\n",
        "X_train_numeric.set_index (Data_numerica.index, inplace = True)\n",
        "X_train_numeric.columns = ['EDAD','AVG_DH','EXPERIENCIA','MINUTES_DH']\n",
        "X_train_numeric.tail()"
      ],
      "execution_count": 39,
      "outputs": [
        {
          "output_type": "execute_result",
          "data": {
            "text/html": [
              "<div>\n",
              "<style scoped>\n",
              "    .dataframe tbody tr th:only-of-type {\n",
              "        vertical-align: middle;\n",
              "    }\n",
              "\n",
              "    .dataframe tbody tr th {\n",
              "        vertical-align: top;\n",
              "    }\n",
              "\n",
              "    .dataframe thead th {\n",
              "        text-align: right;\n",
              "    }\n",
              "</style>\n",
              "<table border=\"1\" class=\"dataframe\">\n",
              "  <thead>\n",
              "    <tr style=\"text-align: right;\">\n",
              "      <th></th>\n",
              "      <th>EDAD</th>\n",
              "      <th>AVG_DH</th>\n",
              "      <th>EXPERIENCIA</th>\n",
              "      <th>MINUTES_DH</th>\n",
              "    </tr>\n",
              "  </thead>\n",
              "  <tbody>\n",
              "    <tr>\n",
              "      <th>8990</th>\n",
              "      <td>-1.011513</td>\n",
              "      <td>1.275018e+00</td>\n",
              "      <td>0.537990</td>\n",
              "      <td>-0.992386</td>\n",
              "    </tr>\n",
              "    <tr>\n",
              "      <th>8991</th>\n",
              "      <td>-0.001870</td>\n",
              "      <td>-2.687088e-01</td>\n",
              "      <td>0.432168</td>\n",
              "      <td>0.101118</td>\n",
              "    </tr>\n",
              "    <tr>\n",
              "      <th>8992</th>\n",
              "      <td>-1.213441</td>\n",
              "      <td>-1.142588e-15</td>\n",
              "      <td>-2.110419</td>\n",
              "      <td>-1.489433</td>\n",
              "    </tr>\n",
              "    <tr>\n",
              "      <th>8993</th>\n",
              "      <td>-2.223084</td>\n",
              "      <td>-5.259967e-01</td>\n",
              "      <td>0.034095</td>\n",
              "      <td>-2.156897</td>\n",
              "    </tr>\n",
              "    <tr>\n",
              "      <th>8994</th>\n",
              "      <td>0.401987</td>\n",
              "      <td>-2.687088e-01</td>\n",
              "      <td>0.345448</td>\n",
              "      <td>0.498756</td>\n",
              "    </tr>\n",
              "  </tbody>\n",
              "</table>\n",
              "</div>"
            ],
            "text/plain": [
              "          EDAD        AVG_DH  EXPERIENCIA  MINUTES_DH\n",
              "8990 -1.011513  1.275018e+00     0.537990   -0.992386\n",
              "8991 -0.001870 -2.687088e-01     0.432168    0.101118\n",
              "8992 -1.213441 -1.142588e-15    -2.110419   -1.489433\n",
              "8993 -2.223084 -5.259967e-01     0.034095   -2.156897\n",
              "8994  0.401987 -2.687088e-01     0.345448    0.498756"
            ]
          },
          "metadata": {
            "tags": []
          },
          "execution_count": 39
        }
      ]
    },
    {
      "cell_type": "code",
      "metadata": {
        "id": "LPhq2yqwq7my",
        "colab_type": "code",
        "colab": {
          "base_uri": "https://localhost:8080/",
          "height": 34
        },
        "outputId": "4273190b-0164-4642-e60d-c35f2f48e8f0"
      },
      "source": [
        "X_train_numeric.shape"
      ],
      "execution_count": 40,
      "outputs": [
        {
          "output_type": "execute_result",
          "data": {
            "text/plain": [
              "(8995, 4)"
            ]
          },
          "metadata": {
            "tags": []
          },
          "execution_count": 40
        }
      ]
    },
    {
      "cell_type": "markdown",
      "metadata": {
        "id": "0N1dNQwEq7m3",
        "colab_type": "text"
      },
      "source": [
        "### Encoding data categorica"
      ]
    },
    {
      "cell_type": "code",
      "metadata": {
        "id": "kk3tsQDdq7m4",
        "colab_type": "code",
        "colab": {}
      },
      "source": [
        "X_train_cat = X.select_dtypes(include = 'object')"
      ],
      "execution_count": 41,
      "outputs": []
    },
    {
      "cell_type": "markdown",
      "metadata": {
        "id": "3FljVGqKq7m6",
        "colab_type": "text"
      },
      "source": [
        "Completando nullos por moda"
      ]
    },
    {
      "cell_type": "code",
      "metadata": {
        "id": "VhaYC-OXq7m6",
        "colab_type": "code",
        "colab": {}
      },
      "source": [
        "X_train_cat = X_train_cat.apply(lambda x:x.fillna(x.value_counts().index[0]))"
      ],
      "execution_count": 42,
      "outputs": []
    },
    {
      "cell_type": "markdown",
      "metadata": {
        "id": "cDzj0Dtcq7m-",
        "colab_type": "text"
      },
      "source": [
        "Binarizamos la columna GENERO"
      ]
    },
    {
      "cell_type": "code",
      "metadata": {
        "id": "LesV4pD0q7m_",
        "colab_type": "code",
        "colab": {}
      },
      "source": [
        "from sklearn.preprocessing import LabelBinarizer\n",
        "bin = LabelBinarizer()\n",
        "X_train_cat.GENERO = bin.fit_transform(X_train_cat.GENERO)"
      ],
      "execution_count": 43,
      "outputs": []
    },
    {
      "cell_type": "markdown",
      "metadata": {
        "id": "w69jM5bpq7nB",
        "colab_type": "text"
      },
      "source": [
        "One Hot Encoding  para el resto de columnas categoricas"
      ]
    },
    {
      "cell_type": "code",
      "metadata": {
        "id": "mEdAF3epq7nC",
        "colab_type": "code",
        "colab": {
          "base_uri": "https://localhost:8080/",
          "height": 224
        },
        "outputId": "012d1be7-fcbc-4f0e-f980-040b757feb51"
      },
      "source": [
        "X_train_cat = pd.get_dummies(X_train_cat, columns=['RESIDENCIA','NV_ESTUDIO','ESTUDIO_PREV','TRACK_DH'])\n",
        "X_train_cat.tail()"
      ],
      "execution_count": 44,
      "outputs": [
        {
          "output_type": "execute_result",
          "data": {
            "text/html": [
              "<div>\n",
              "<style scoped>\n",
              "    .dataframe tbody tr th:only-of-type {\n",
              "        vertical-align: middle;\n",
              "    }\n",
              "\n",
              "    .dataframe tbody tr th {\n",
              "        vertical-align: top;\n",
              "    }\n",
              "\n",
              "    .dataframe thead th {\n",
              "        text-align: right;\n",
              "    }\n",
              "</style>\n",
              "<table border=\"1\" class=\"dataframe\">\n",
              "  <thead>\n",
              "    <tr style=\"text-align: right;\">\n",
              "      <th></th>\n",
              "      <th>GENERO</th>\n",
              "      <th>RESIDENCIA_ARGENTINA</th>\n",
              "      <th>RESIDENCIA_BRAZIL</th>\n",
              "      <th>RESIDENCIA_MEXICO</th>\n",
              "      <th>NV_ESTUDIO_POST_GRADUATE</th>\n",
              "      <th>NV_ESTUDIO_TERTIARY</th>\n",
              "      <th>NV_ESTUDIO_UNIVERSITARY</th>\n",
              "      <th>ESTUDIO_PREV_BUSINESS</th>\n",
              "      <th>ESTUDIO_PREV_COMMERCIAL</th>\n",
              "      <th>ESTUDIO_PREV_DEVELOPMENT</th>\n",
              "      <th>ESTUDIO_PREV_ENGINEERING</th>\n",
              "      <th>ESTUDIO_PREV_MARKETING</th>\n",
              "      <th>TRACK_DH_DATA</th>\n",
              "      <th>TRACK_DH_EJECUTIVO</th>\n",
              "      <th>TRACK_DH_MARKETING</th>\n",
              "      <th>TRACK_DH_PROGRAMACION</th>\n",
              "    </tr>\n",
              "  </thead>\n",
              "  <tbody>\n",
              "    <tr>\n",
              "      <th>8990</th>\n",
              "      <td>1</td>\n",
              "      <td>1</td>\n",
              "      <td>0</td>\n",
              "      <td>0</td>\n",
              "      <td>0</td>\n",
              "      <td>1</td>\n",
              "      <td>0</td>\n",
              "      <td>0</td>\n",
              "      <td>0</td>\n",
              "      <td>1</td>\n",
              "      <td>0</td>\n",
              "      <td>0</td>\n",
              "      <td>1</td>\n",
              "      <td>0</td>\n",
              "      <td>0</td>\n",
              "      <td>0</td>\n",
              "    </tr>\n",
              "    <tr>\n",
              "      <th>8991</th>\n",
              "      <td>1</td>\n",
              "      <td>1</td>\n",
              "      <td>0</td>\n",
              "      <td>0</td>\n",
              "      <td>0</td>\n",
              "      <td>0</td>\n",
              "      <td>1</td>\n",
              "      <td>0</td>\n",
              "      <td>0</td>\n",
              "      <td>0</td>\n",
              "      <td>1</td>\n",
              "      <td>0</td>\n",
              "      <td>0</td>\n",
              "      <td>0</td>\n",
              "      <td>0</td>\n",
              "      <td>1</td>\n",
              "    </tr>\n",
              "    <tr>\n",
              "      <th>8992</th>\n",
              "      <td>0</td>\n",
              "      <td>1</td>\n",
              "      <td>0</td>\n",
              "      <td>0</td>\n",
              "      <td>1</td>\n",
              "      <td>0</td>\n",
              "      <td>0</td>\n",
              "      <td>0</td>\n",
              "      <td>0</td>\n",
              "      <td>0</td>\n",
              "      <td>1</td>\n",
              "      <td>0</td>\n",
              "      <td>0</td>\n",
              "      <td>1</td>\n",
              "      <td>0</td>\n",
              "      <td>0</td>\n",
              "    </tr>\n",
              "    <tr>\n",
              "      <th>8993</th>\n",
              "      <td>1</td>\n",
              "      <td>0</td>\n",
              "      <td>0</td>\n",
              "      <td>1</td>\n",
              "      <td>0</td>\n",
              "      <td>1</td>\n",
              "      <td>0</td>\n",
              "      <td>0</td>\n",
              "      <td>0</td>\n",
              "      <td>0</td>\n",
              "      <td>1</td>\n",
              "      <td>0</td>\n",
              "      <td>0</td>\n",
              "      <td>0</td>\n",
              "      <td>0</td>\n",
              "      <td>1</td>\n",
              "    </tr>\n",
              "    <tr>\n",
              "      <th>8994</th>\n",
              "      <td>1</td>\n",
              "      <td>1</td>\n",
              "      <td>0</td>\n",
              "      <td>0</td>\n",
              "      <td>0</td>\n",
              "      <td>0</td>\n",
              "      <td>1</td>\n",
              "      <td>0</td>\n",
              "      <td>1</td>\n",
              "      <td>0</td>\n",
              "      <td>0</td>\n",
              "      <td>0</td>\n",
              "      <td>1</td>\n",
              "      <td>0</td>\n",
              "      <td>0</td>\n",
              "      <td>0</td>\n",
              "    </tr>\n",
              "  </tbody>\n",
              "</table>\n",
              "</div>"
            ],
            "text/plain": [
              "      GENERO  RESIDENCIA_ARGENTINA  ...  TRACK_DH_MARKETING  TRACK_DH_PROGRAMACION\n",
              "8990       1                     1  ...                   0                      0\n",
              "8991       1                     1  ...                   0                      1\n",
              "8992       0                     1  ...                   0                      0\n",
              "8993       1                     0  ...                   0                      1\n",
              "8994       1                     1  ...                   0                      0\n",
              "\n",
              "[5 rows x 16 columns]"
            ]
          },
          "metadata": {
            "tags": []
          },
          "execution_count": 44
        }
      ]
    },
    {
      "cell_type": "code",
      "metadata": {
        "id": "EwZ2m6LXq7nH",
        "colab_type": "code",
        "colab": {
          "base_uri": "https://localhost:8080/",
          "height": 34
        },
        "outputId": "ad84f7ab-6a63-4131-d3ce-214093b121d1"
      },
      "source": [
        "X_train_cat.shape"
      ],
      "execution_count": 45,
      "outputs": [
        {
          "output_type": "execute_result",
          "data": {
            "text/plain": [
              "(8995, 16)"
            ]
          },
          "metadata": {
            "tags": []
          },
          "execution_count": 45
        }
      ]
    },
    {
      "cell_type": "markdown",
      "metadata": {
        "id": "Y3tdNCmeq7nK",
        "colab_type": "text"
      },
      "source": [
        "Generamos el DataFrame final"
      ]
    },
    {
      "cell_type": "code",
      "metadata": {
        "id": "khAprNX_q7nL",
        "colab_type": "code",
        "colab": {}
      },
      "source": [
        "X_train_prep = pd.merge(X_train_numeric,X_train_cat , left_index = True, right_index = True)"
      ],
      "execution_count": 46,
      "outputs": []
    },
    {
      "cell_type": "code",
      "metadata": {
        "id": "_TuCAHxiq7nO",
        "colab_type": "code",
        "colab": {
          "base_uri": "https://localhost:8080/",
          "height": 292
        },
        "outputId": "47fcf5b9-3150-40f7-a22a-5c29fa99c20c"
      },
      "source": [
        "X_train_prep.tail()"
      ],
      "execution_count": 47,
      "outputs": [
        {
          "output_type": "execute_result",
          "data": {
            "text/html": [
              "<div>\n",
              "<style scoped>\n",
              "    .dataframe tbody tr th:only-of-type {\n",
              "        vertical-align: middle;\n",
              "    }\n",
              "\n",
              "    .dataframe tbody tr th {\n",
              "        vertical-align: top;\n",
              "    }\n",
              "\n",
              "    .dataframe thead th {\n",
              "        text-align: right;\n",
              "    }\n",
              "</style>\n",
              "<table border=\"1\" class=\"dataframe\">\n",
              "  <thead>\n",
              "    <tr style=\"text-align: right;\">\n",
              "      <th></th>\n",
              "      <th>EDAD</th>\n",
              "      <th>AVG_DH</th>\n",
              "      <th>EXPERIENCIA</th>\n",
              "      <th>MINUTES_DH</th>\n",
              "      <th>GENERO</th>\n",
              "      <th>RESIDENCIA_ARGENTINA</th>\n",
              "      <th>RESIDENCIA_BRAZIL</th>\n",
              "      <th>RESIDENCIA_MEXICO</th>\n",
              "      <th>NV_ESTUDIO_POST_GRADUATE</th>\n",
              "      <th>NV_ESTUDIO_TERTIARY</th>\n",
              "      <th>NV_ESTUDIO_UNIVERSITARY</th>\n",
              "      <th>ESTUDIO_PREV_BUSINESS</th>\n",
              "      <th>ESTUDIO_PREV_COMMERCIAL</th>\n",
              "      <th>ESTUDIO_PREV_DEVELOPMENT</th>\n",
              "      <th>ESTUDIO_PREV_ENGINEERING</th>\n",
              "      <th>ESTUDIO_PREV_MARKETING</th>\n",
              "      <th>TRACK_DH_DATA</th>\n",
              "      <th>TRACK_DH_EJECUTIVO</th>\n",
              "      <th>TRACK_DH_MARKETING</th>\n",
              "      <th>TRACK_DH_PROGRAMACION</th>\n",
              "    </tr>\n",
              "  </thead>\n",
              "  <tbody>\n",
              "    <tr>\n",
              "      <th>8990</th>\n",
              "      <td>-1.011513</td>\n",
              "      <td>1.275018e+00</td>\n",
              "      <td>0.537990</td>\n",
              "      <td>-0.992386</td>\n",
              "      <td>1</td>\n",
              "      <td>1</td>\n",
              "      <td>0</td>\n",
              "      <td>0</td>\n",
              "      <td>0</td>\n",
              "      <td>1</td>\n",
              "      <td>0</td>\n",
              "      <td>0</td>\n",
              "      <td>0</td>\n",
              "      <td>1</td>\n",
              "      <td>0</td>\n",
              "      <td>0</td>\n",
              "      <td>1</td>\n",
              "      <td>0</td>\n",
              "      <td>0</td>\n",
              "      <td>0</td>\n",
              "    </tr>\n",
              "    <tr>\n",
              "      <th>8991</th>\n",
              "      <td>-0.001870</td>\n",
              "      <td>-2.687088e-01</td>\n",
              "      <td>0.432168</td>\n",
              "      <td>0.101118</td>\n",
              "      <td>1</td>\n",
              "      <td>1</td>\n",
              "      <td>0</td>\n",
              "      <td>0</td>\n",
              "      <td>0</td>\n",
              "      <td>0</td>\n",
              "      <td>1</td>\n",
              "      <td>0</td>\n",
              "      <td>0</td>\n",
              "      <td>0</td>\n",
              "      <td>1</td>\n",
              "      <td>0</td>\n",
              "      <td>0</td>\n",
              "      <td>0</td>\n",
              "      <td>0</td>\n",
              "      <td>1</td>\n",
              "    </tr>\n",
              "    <tr>\n",
              "      <th>8992</th>\n",
              "      <td>-1.213441</td>\n",
              "      <td>-1.142588e-15</td>\n",
              "      <td>-2.110419</td>\n",
              "      <td>-1.489433</td>\n",
              "      <td>0</td>\n",
              "      <td>1</td>\n",
              "      <td>0</td>\n",
              "      <td>0</td>\n",
              "      <td>1</td>\n",
              "      <td>0</td>\n",
              "      <td>0</td>\n",
              "      <td>0</td>\n",
              "      <td>0</td>\n",
              "      <td>0</td>\n",
              "      <td>1</td>\n",
              "      <td>0</td>\n",
              "      <td>0</td>\n",
              "      <td>1</td>\n",
              "      <td>0</td>\n",
              "      <td>0</td>\n",
              "    </tr>\n",
              "    <tr>\n",
              "      <th>8993</th>\n",
              "      <td>-2.223084</td>\n",
              "      <td>-5.259967e-01</td>\n",
              "      <td>0.034095</td>\n",
              "      <td>-2.156897</td>\n",
              "      <td>1</td>\n",
              "      <td>0</td>\n",
              "      <td>0</td>\n",
              "      <td>1</td>\n",
              "      <td>0</td>\n",
              "      <td>1</td>\n",
              "      <td>0</td>\n",
              "      <td>0</td>\n",
              "      <td>0</td>\n",
              "      <td>0</td>\n",
              "      <td>1</td>\n",
              "      <td>0</td>\n",
              "      <td>0</td>\n",
              "      <td>0</td>\n",
              "      <td>0</td>\n",
              "      <td>1</td>\n",
              "    </tr>\n",
              "    <tr>\n",
              "      <th>8994</th>\n",
              "      <td>0.401987</td>\n",
              "      <td>-2.687088e-01</td>\n",
              "      <td>0.345448</td>\n",
              "      <td>0.498756</td>\n",
              "      <td>1</td>\n",
              "      <td>1</td>\n",
              "      <td>0</td>\n",
              "      <td>0</td>\n",
              "      <td>0</td>\n",
              "      <td>0</td>\n",
              "      <td>1</td>\n",
              "      <td>0</td>\n",
              "      <td>1</td>\n",
              "      <td>0</td>\n",
              "      <td>0</td>\n",
              "      <td>0</td>\n",
              "      <td>1</td>\n",
              "      <td>0</td>\n",
              "      <td>0</td>\n",
              "      <td>0</td>\n",
              "    </tr>\n",
              "  </tbody>\n",
              "</table>\n",
              "</div>"
            ],
            "text/plain": [
              "          EDAD        AVG_DH  ...  TRACK_DH_MARKETING  TRACK_DH_PROGRAMACION\n",
              "8990 -1.011513  1.275018e+00  ...                   0                      0\n",
              "8991 -0.001870 -2.687088e-01  ...                   0                      1\n",
              "8992 -1.213441 -1.142588e-15  ...                   0                      0\n",
              "8993 -2.223084 -5.259967e-01  ...                   0                      1\n",
              "8994  0.401987 -2.687088e-01  ...                   0                      0\n",
              "\n",
              "[5 rows x 20 columns]"
            ]
          },
          "metadata": {
            "tags": []
          },
          "execution_count": 47
        }
      ]
    },
    {
      "cell_type": "code",
      "metadata": {
        "id": "nJAy9qnsq7nR",
        "colab_type": "code",
        "colab": {
          "base_uri": "https://localhost:8080/",
          "height": 34
        },
        "outputId": "c6719e27-ae21-4dcf-ba53-429cdd361243"
      },
      "source": [
        "X_train_prep.shape"
      ],
      "execution_count": 48,
      "outputs": [
        {
          "output_type": "execute_result",
          "data": {
            "text/plain": [
              "(8995, 20)"
            ]
          },
          "metadata": {
            "tags": []
          },
          "execution_count": 48
        }
      ]
    },
    {
      "cell_type": "markdown",
      "metadata": {
        "id": "Zx2_T9-0ZvCY",
        "colab_type": "text"
      },
      "source": [
        "# Modelado y predicciones"
      ]
    },
    {
      "cell_type": "markdown",
      "metadata": {
        "id": "FgEIoWQfq7nX",
        "colab_type": "text"
      },
      "source": [
        "### PRIMER SET DE ENTRENAMIENTO"
      ]
    },
    {
      "cell_type": "code",
      "metadata": {
        "id": "SMQ8UR2Lq7nY",
        "colab_type": "code",
        "colab": {
          "base_uri": "https://localhost:8080/",
          "height": 153
        },
        "outputId": "60673714-5ef0-4908-e2c8-d07a3ad6d0f0"
      },
      "source": [
        "X_train_prep.columns"
      ],
      "execution_count": 49,
      "outputs": [
        {
          "output_type": "execute_result",
          "data": {
            "text/plain": [
              "Index(['EDAD', 'AVG_DH', 'EXPERIENCIA', 'MINUTES_DH', 'GENERO',\n",
              "       'RESIDENCIA_ARGENTINA', 'RESIDENCIA_BRAZIL', 'RESIDENCIA_MEXICO',\n",
              "       'NV_ESTUDIO_POST_GRADUATE', 'NV_ESTUDIO_TERTIARY',\n",
              "       'NV_ESTUDIO_UNIVERSITARY', 'ESTUDIO_PREV_BUSINESS',\n",
              "       'ESTUDIO_PREV_COMMERCIAL', 'ESTUDIO_PREV_DEVELOPMENT',\n",
              "       'ESTUDIO_PREV_ENGINEERING', 'ESTUDIO_PREV_MARKETING', 'TRACK_DH_DATA',\n",
              "       'TRACK_DH_EJECUTIVO', 'TRACK_DH_MARKETING', 'TRACK_DH_PROGRAMACION'],\n",
              "      dtype='object')"
            ]
          },
          "metadata": {
            "tags": []
          },
          "execution_count": 49
        }
      ]
    },
    {
      "cell_type": "markdown",
      "metadata": {
        "id": "XDbJSRRr64FJ",
        "colab_type": "text"
      },
      "source": [
        "Separamos en conjunto de features y target"
      ]
    },
    {
      "cell_type": "code",
      "metadata": {
        "id": "mRjBf--Aq7nb",
        "colab_type": "code",
        "colab": {}
      },
      "source": [
        "features = X_train_prep[\n",
        "    [\n",
        "     'EDAD', 'AVG_DH', 'EXPERIENCIA', 'MINUTES_DH', 'GENERO',\n",
        "       'RESIDENCIA_ARGENTINA', 'RESIDENCIA_BRAZIL', 'RESIDENCIA_MEXICO',\n",
        "       'NV_ESTUDIO_POST_GRADUATE', 'NV_ESTUDIO_TERTIARY',\n",
        "       'NV_ESTUDIO_UNIVERSITARY', 'ESTUDIO_PREV_BUSINESS',\n",
        "       'ESTUDIO_PREV_COMMERCIAL', 'ESTUDIO_PREV_DEVELOPMENT',\n",
        "       'ESTUDIO_PREV_ENGINEERING', 'ESTUDIO_PREV_MARKETING', 'TRACK_DH_DATA',\n",
        "       'TRACK_DH_EJECUTIVO', 'TRACK_DH_MARKETING', 'TRACK_DH_PROGRAMACION'\n",
        "    ]\n",
        "]\n",
        "target = df_training_dataset_1.DIAS_EMP  "
      ],
      "execution_count": 50,
      "outputs": []
    },
    {
      "cell_type": "markdown",
      "metadata": {
        "id": "pkse1oI0q7ne",
        "colab_type": "text"
      },
      "source": [
        "Dividimos en porcentaje de 0.9 y 0.1 el train y test set respectivamente."
      ]
    },
    {
      "cell_type": "code",
      "metadata": {
        "id": "T8Ap8pitq7ne",
        "colab_type": "code",
        "colab": {}
      },
      "source": [
        "# Dividir X e Y en juegos de entrenamiento y prueba\n",
        "X_train, X_test, y_train, y_test = train_test_split(features, target, random_state=87, test_size=0.1)"
      ],
      "execution_count": 93,
      "outputs": []
    },
    {
      "cell_type": "code",
      "metadata": {
        "id": "72GuCwv7q7nh",
        "colab_type": "code",
        "colab": {
          "base_uri": "https://localhost:8080/",
          "height": 119
        },
        "outputId": "0898d35d-82d1-4539-c7f4-6881dae73f02"
      },
      "source": [
        "y_train.tail()"
      ],
      "execution_count": 94,
      "outputs": [
        {
          "output_type": "execute_result",
          "data": {
            "text/plain": [
              "1926    90.0\n",
              "5126    90.0\n",
              "5371    95.0\n",
              "143     89.0\n",
              "8525    92.0\n",
              "Name: DIAS_EMP, dtype: float64"
            ]
          },
          "metadata": {
            "tags": []
          },
          "execution_count": 94
        }
      ]
    },
    {
      "cell_type": "markdown",
      "metadata": {
        "id": "bJNnDvKQq7nj",
        "colab_type": "text"
      },
      "source": [
        "Entrenando diferentes modelos de regresion"
      ]
    },
    {
      "cell_type": "code",
      "metadata": {
        "id": "FgntGguGq7nj",
        "colab_type": "code",
        "colab": {
          "base_uri": "https://localhost:8080/",
          "height": 255
        },
        "outputId": "853ff8db-1087-4a0b-866f-b9aa5885989c"
      },
      "source": [
        "# Modelo LinearRegression\n",
        "linreg = LinearRegression()\n",
        "linreg.fit(X_train, y_train)\n",
        "\n",
        "# Los coeficientes\n",
        "print('\\nCoeficientes:', linreg.coef_)\n",
        "\n",
        "\n",
        "print(\"\")\n",
        "# hacer predicciones en el conjunto de entrenamiento\n",
        "y_pred = linreg.predict(X_train)\n",
        "# RESULTADOS TRAIN SET\n",
        "print(\"RESULTADOS TRAIN SET\")\n",
        "# calcular el RMSE de nuestras predicciones\n",
        "print('RMSE = %.4f' % np.sqrt(metrics.mean_squared_error(y_train, y_pred)))\n",
        "# Explicación de la varianza: 1 es predicción perfecta\n",
        "print('Variance score = %.4f' % metrics.r2_score(y_train, y_pred))\n",
        "\n",
        "\n",
        "print(\"\")\n",
        "# hacer predicciones en el conjunto de prueba\n",
        "y_pred = linreg.predict(X_test)\n",
        "# RESULTADOS TEST SET\n",
        "print(\"RESULTADOS TEST SET\")\n",
        "# calcular el RMSE de nuestras predicciones\n",
        "print('RMSE = %.4f' % np.sqrt(metrics.mean_squared_error(y_test, y_pred)))\n",
        "# Explicación de la varianza: 1 es predicción perfecta\n",
        "print('Variance score = %.4f' % metrics.r2_score(y_test, y_pred))"
      ],
      "execution_count": 95,
      "outputs": [
        {
          "output_type": "stream",
          "text": [
            "\n",
            "Coeficientes: [ 1.25492809e+00  1.22912177e-01 -6.14182435e-01  1.11142964e+00\n",
            " -9.29997189e+00 -1.88568896e-03  3.32992750e-03 -1.44423854e-03\n",
            " -1.32498808e+00  1.95011070e+00 -6.25122627e-01  1.74803596e+00\n",
            " -1.37510314e+00 -7.25217566e-01 -2.10999754e+00  2.46228228e+00\n",
            "  8.44343518e-02 -7.53850662e-02 -5.31014985e-02  4.40522129e-02]\n",
            "\n",
            "RESULTADOS TRAIN SET\n",
            "RMSE = 2.8111\n",
            "Variance score = 0.7559\n",
            "\n",
            "RESULTADOS TEST SET\n",
            "RMSE = 2.3963\n",
            "Variance score = 0.8134\n"
          ],
          "name": "stdout"
        }
      ]
    },
    {
      "cell_type": "code",
      "metadata": {
        "id": "WHxFsm4Bq7nm",
        "colab_type": "code",
        "colab": {
          "base_uri": "https://localhost:8080/",
          "height": 136
        },
        "outputId": "fc042ce6-7f6d-4425-db24-e958f67b43c8"
      },
      "source": [
        "# Modelo Ridge\n",
        "clf = Ridge(alpha=1.0)\n",
        "clf.fit(X_train, y_train)\n",
        "\n",
        "# hacer predicciones en el conjunto de entrenamiento\n",
        "y_pred = clf.predict(X_train)\n",
        "# RESULTADOS TRAIN SET\n",
        "print(\"RESULTADOS TRAIN SET\")\n",
        "# calcular el RMSE de nuestras predicciones\n",
        "print('RMSE = %.4f' % np.sqrt(metrics.mean_squared_error(y_train, y_pred)))\n",
        "# Explicación de la varianza: 1 es predicción perfecta\n",
        "print('Variance score = %.4f' % metrics.r2_score(y_train, y_pred))\n",
        "\n",
        "\n",
        "print(\"\")\n",
        "# hacer predicciones en el conjunto de prueba\n",
        "y_pred = clf.predict(X_test)\n",
        "# RESULTADOS TEST SET\n",
        "print(\"RESULTADOS TEST SET\")\n",
        "# calcular el RMSE de nuestras predicciones\n",
        "print('RMSE = %.4f' % np.sqrt(metrics.mean_squared_error(y_test, y_pred)))\n",
        "# Explicación de la varianza: 1 es predicción perfecta\n",
        "print('Variance score = %.4f' % metrics.r2_score(y_test, y_pred))"
      ],
      "execution_count": 96,
      "outputs": [
        {
          "output_type": "stream",
          "text": [
            "RESULTADOS TRAIN SET\n",
            "RMSE = 2.8111\n",
            "Variance score = 0.7559\n",
            "\n",
            "RESULTADOS TEST SET\n",
            "RMSE = 2.3964\n",
            "Variance score = 0.8134\n"
          ],
          "name": "stdout"
        }
      ]
    },
    {
      "cell_type": "code",
      "metadata": {
        "id": "M_fBrvf8q7np",
        "colab_type": "code",
        "colab": {
          "base_uri": "https://localhost:8080/",
          "height": 292
        },
        "outputId": "ceadb117-bf12-4fc0-f538-f6f33dcaf370"
      },
      "source": [
        "!pip install xgboost --upgrade"
      ],
      "execution_count": 97,
      "outputs": [
        {
          "output_type": "stream",
          "text": [
            "Collecting xgboost\n",
            "\u001b[?25l  Downloading https://files.pythonhosted.org/packages/f6/5c/1133b5b8f4f2fa740ff27abdd35b8e79ce6e1f8d6480a07e9bce1cdafea2/xgboost-1.2.0-py3-none-manylinux2010_x86_64.whl (148.9MB)\n",
            "\u001b[K     |████████████████████████████████| 148.9MB 88kB/s \n",
            "\u001b[?25hRequirement already satisfied, skipping upgrade: numpy in /usr/local/lib/python3.6/dist-packages (from xgboost) (1.18.5)\n",
            "Requirement already satisfied, skipping upgrade: scipy in /usr/local/lib/python3.6/dist-packages (from xgboost) (1.4.1)\n",
            "Installing collected packages: xgboost\n",
            "  Found existing installation: xgboost 0.90\n",
            "    Uninstalling xgboost-0.90:\n",
            "      Successfully uninstalled xgboost-0.90\n",
            "Successfully installed xgboost-1.2.0\n"
          ],
          "name": "stdout"
        },
        {
          "output_type": "display_data",
          "data": {
            "application/vnd.colab-display-data+json": {
              "pip_warning": {
                "packages": [
                  "xgboost"
                ]
              }
            }
          },
          "metadata": {
            "tags": []
          }
        }
      ]
    },
    {
      "cell_type": "code",
      "metadata": {
        "id": "cmvM2pk_q7nu",
        "colab_type": "code",
        "colab": {
          "base_uri": "https://localhost:8080/",
          "height": 153
        },
        "outputId": "bd14b176-0a15-48c1-a510-9e27566fa8af"
      },
      "source": [
        "# Modelof XGB\n",
        "xgb = XGBRegressor(random_state=2, colsample_bytree=0.85,\n",
        "learning_rate= 0.04,\n",
        "max_depth= 2,\n",
        "min_child_weight = 5,\n",
        "n_estimators=400,\n",
        "subsample=0.85)\n",
        "\n",
        "xgb.fit(X_train, y_train)\n",
        "\n",
        "# hacer predicciones en el conjunto de entrenamiento\n",
        "y_pred = xgb.predict(X_train)\n",
        "# RESULTADOS TRAIN SET\n",
        "print(\"RESULTADOS TRAIN SET\")\n",
        "# calcular el RMSE de nuestras predicciones\n",
        "print('RMSE = %.4f' % np.sqrt(metrics.mean_squared_error(y_train, y_pred)))\n",
        "# Explicación de la varianza: 1 es predicción perfecta\n",
        "print('Variance score = %.4f' % metrics.r2_score(y_train, y_pred))\n",
        "\n",
        "\n",
        "print(\"\")\n",
        "# hacer predicciones en el conjunto de prueba\n",
        "y_pred = xgb.predict(X_test)\n",
        "# RESULTADOS TEST SET\n",
        "print(\"RESULTADOS TEST SET\")\n",
        "# calcular el RMSE de nuestras predicciones\n",
        "print('RMSE = %.4f' % np.sqrt(metrics.mean_squared_error(y_test, y_pred)))\n",
        "# Explicación de la varianza: 1 es predicción perfecta\n",
        "print('Variance score = %.4f' % metrics.r2_score(y_test, y_pred))"
      ],
      "execution_count": 98,
      "outputs": [
        {
          "output_type": "stream",
          "text": [
            "[21:11:50] WARNING: /workspace/src/objective/regression_obj.cu:152: reg:linear is now deprecated in favor of reg:squarederror.\n",
            "RESULTADOS TRAIN SET\n",
            "RMSE = 2.7128\n",
            "Variance score = 0.7727\n",
            "\n",
            "RESULTADOS TEST SET\n",
            "RMSE = 2.3161\n",
            "Variance score = 0.8257\n"
          ],
          "name": "stdout"
        }
      ]
    },
    {
      "cell_type": "code",
      "metadata": {
        "id": "Rl99fyLMq7nw",
        "colab_type": "code",
        "colab": {
          "base_uri": "https://localhost:8080/",
          "height": 136
        },
        "outputId": "8afdc6a6-559f-4260-8cf7-a5d11cd49f9b"
      },
      "source": [
        "# Modelof BaggingRegressor\n",
        "from sklearn.ensemble import BaggingRegressor\n",
        "from sklearn.tree import DecisionTreeRegressor\n",
        "from sklearn.ensemble import RandomForestRegressor\n",
        "\n",
        "regr = BaggingRegressor(base_estimator=RandomForestRegressor(),n_estimators=10, random_state=0).fit(X_train, y_train)\n",
        "\n",
        "# hacer predicciones en el conjunto de entrenamiento\n",
        "y_pred = regr.predict(X_train)\n",
        "# RESULTADOS TRAIN SET\n",
        "print(\"RESULTADOS TRAIN SET\")\n",
        "# calcular el RMSE de nuestras predicciones\n",
        "print('RMSE = %.4f' % np.sqrt(metrics.mean_squared_error(y_train, y_pred)))\n",
        "# Explicación de la varianza: 1 es predicción perfecta\n",
        "print('Variance score = %.4f' % metrics.r2_score(y_train, y_pred))\n",
        "\n",
        "\n",
        "print(\"\")\n",
        "# hacer predicciones en el conjunto de prueba\n",
        "y_pred = regr.predict(X_test)\n",
        "# RESULTADOS TEST SET\n",
        "print(\"RESULTADOS TEST SET\")\n",
        "# calcular el RMSE de nuestras predicciones\n",
        "print('RMSE = %.4f' % np.sqrt(metrics.mean_squared_error(y_test, y_pred)))\n",
        "# Explicación de la varianza: 1 es predicción perfecta\n",
        "print('Variance score = %.4f' % metrics.r2_score(y_test, y_pred))"
      ],
      "execution_count": 99,
      "outputs": [
        {
          "output_type": "stream",
          "text": [
            "RESULTADOS TRAIN SET\n",
            "RMSE = 1.7526\n",
            "Variance score = 0.9051\n",
            "\n",
            "RESULTADOS TEST SET\n",
            "RMSE = 2.4523\n",
            "Variance score = 0.8045\n"
          ],
          "name": "stdout"
        }
      ]
    },
    {
      "cell_type": "code",
      "metadata": {
        "id": "ebPogHg9q7ny",
        "colab_type": "code",
        "colab": {
          "base_uri": "https://localhost:8080/",
          "height": 272
        },
        "outputId": "7c24ec89-3a38-40cc-931b-6bc07f4cff50"
      },
      "source": [
        "#Evaluation of various combinations of SGB\n",
        "\n",
        "#Import the library\n",
        "from sklearn.ensemble import GradientBoostingRegressor\n",
        "\n",
        "#Add the n_estimators value to the below list if you want to run the algo\n",
        "#n_list = np.array([ 60,70,80,90,150,500])\n",
        "#Add the n_estimators value to the below list if you want to run the algo\n",
        "n_list = np.array([ 125,128,130,135,150])\n",
        "\n",
        "for n_estimators in n_list:\n",
        "    #Set the base model\n",
        "    model = GradientBoostingRegressor(n_estimators=n_estimators,random_state=1)\n",
        "    model.fit(X_train, y_train)\n",
        "    # hacer predicciones en el conjunto de prueba\n",
        "    y_pred = model.predict(X_test)\n",
        "    print('n_estimators = ', n_estimators)\n",
        "    # calcular el RMSE de nuestras predicciones\n",
        "    print('RMSE = %.4f' % np.sqrt(metrics.mean_squared_error(y_test, y_pred)))\n",
        "    # Explicación de la varianza: 1 es predicción perfecta\n",
        "    print('Variance score = %.4f' % metrics.r2_score(y_test, y_pred))"
      ],
      "execution_count": 100,
      "outputs": [
        {
          "output_type": "stream",
          "text": [
            "n_estimators =  125\n",
            "RMSE = 2.3154\n",
            "Variance score = 0.8258\n",
            "n_estimators =  128\n",
            "RMSE = 2.3156\n",
            "Variance score = 0.8257\n",
            "n_estimators =  130\n",
            "RMSE = 2.3149\n",
            "Variance score = 0.8258\n",
            "n_estimators =  135\n",
            "RMSE = 2.3159\n",
            "Variance score = 0.8257\n",
            "n_estimators =  150\n",
            "RMSE = 2.3173\n",
            "Variance score = 0.8255\n"
          ],
          "name": "stdout"
        }
      ]
    },
    {
      "cell_type": "markdown",
      "metadata": {
        "id": "E6e96n9Rq7nz",
        "colab_type": "text"
      },
      "source": [
        "# Feature Engineering"
      ]
    },
    {
      "cell_type": "markdown",
      "metadata": {
        "id": "XDGcpUOlq7nz",
        "colab_type": "text"
      },
      "source": [
        "### Creando nuevas features multiplicando features actuales"
      ]
    },
    {
      "cell_type": "markdown",
      "metadata": {
        "id": "gdNWyxY2ca70",
        "colab_type": "text"
      },
      "source": [
        "Creamos combinaciones de pares entre features"
      ]
    },
    {
      "cell_type": "code",
      "metadata": {
        "id": "J2WpVkaAq7n0",
        "colab_type": "code",
        "colab": {}
      },
      "source": [
        "# Create every possible bivariate combination to be tested for feature engineering\n",
        "from itertools import combinations\n",
        "\n",
        "column_list = features.columns\n",
        "interactions = list(combinations(column_list, 2))"
      ],
      "execution_count": 101,
      "outputs": []
    },
    {
      "cell_type": "code",
      "metadata": {
        "id": "Zw2Utq2oq7n1",
        "colab_type": "code",
        "colab": {}
      },
      "source": [
        "# Iterate through interaction list to perform linear regression for each possible engineered features\n",
        "interaction_dict = {}\n",
        "for interaction in interactions:\n",
        "    set_1 = features.copy()\n",
        "    set_1['int'] = set_1[interaction[0]] * set_1[interaction[1]]\n",
        "    lr3 = LinearRegression()\n",
        "    lr3.fit(set_1, target)\n",
        "    interaction_dict[lr3.score(set_1, target)] = interaction"
      ],
      "execution_count": 102,
      "outputs": []
    },
    {
      "cell_type": "markdown",
      "metadata": {
        "id": "Hgoacto4cgl8",
        "colab_type": "text"
      },
      "source": [
        "mostramos el top 5 de los pares con mayor rendimiento"
      ]
    },
    {
      "cell_type": "code",
      "metadata": {
        "id": "eBkHrtt1q7n3",
        "colab_type": "code",
        "colab": {
          "base_uri": "https://localhost:8080/",
          "height": 102
        },
        "outputId": "61495946-08d1-44b0-8a47-c6186dc2bb6e"
      },
      "source": [
        "# Sort engineered features by best performers, top performers to be selected for final regression\n",
        "top_5 = sorted(interaction_dict.keys(), reverse = True)[:5]\n",
        "for interaction in top_5:\n",
        "    print(interaction_dict[interaction])"
      ],
      "execution_count": 103,
      "outputs": [
        {
          "output_type": "stream",
          "text": [
            "('EDAD', 'MINUTES_DH')\n",
            "('AVG_DH', 'EXPERIENCIA')\n",
            "('RESIDENCIA_MEXICO', 'ESTUDIO_PREV_DEVELOPMENT')\n",
            "('NV_ESTUDIO_POST_GRADUATE', 'ESTUDIO_PREV_COMMERCIAL')\n",
            "('RESIDENCIA_ARGENTINA', 'ESTUDIO_PREV_DEVELOPMENT')\n"
          ],
          "name": "stdout"
        }
      ]
    },
    {
      "cell_type": "markdown",
      "metadata": {
        "id": "FZFOajQZcoU9",
        "colab_type": "text"
      },
      "source": [
        "Seleccionamos los features que se generan a partir de features numericos"
      ]
    },
    {
      "cell_type": "code",
      "metadata": {
        "id": "-c6znXY1q7n9",
        "colab_type": "code",
        "colab": {
          "base_uri": "https://localhost:8080/",
          "height": 224
        },
        "outputId": "52d49f7c-e1ef-43ba-b896-033accee8b31"
      },
      "source": [
        "# Add the top two interaction features (which exclude a categorical variable) to existing DF for feature engineered model\n",
        "features_1 = features.copy()\n",
        "features_1['FEATURE1'] = features['EDAD'] * features['MINUTES_DH']\n",
        "features_1['FEATURE2'] = features['AVG_DH'] * features['EXPERIENCIA']\n",
        "features_1.head()"
      ],
      "execution_count": 104,
      "outputs": [
        {
          "output_type": "execute_result",
          "data": {
            "text/html": [
              "<div>\n",
              "<style scoped>\n",
              "    .dataframe tbody tr th:only-of-type {\n",
              "        vertical-align: middle;\n",
              "    }\n",
              "\n",
              "    .dataframe tbody tr th {\n",
              "        vertical-align: top;\n",
              "    }\n",
              "\n",
              "    .dataframe thead th {\n",
              "        text-align: right;\n",
              "    }\n",
              "</style>\n",
              "<table border=\"1\" class=\"dataframe\">\n",
              "  <thead>\n",
              "    <tr style=\"text-align: right;\">\n",
              "      <th></th>\n",
              "      <th>EDAD</th>\n",
              "      <th>AVG_DH</th>\n",
              "      <th>EXPERIENCIA</th>\n",
              "      <th>MINUTES_DH</th>\n",
              "      <th>GENERO</th>\n",
              "      <th>RESIDENCIA_ARGENTINA</th>\n",
              "      <th>RESIDENCIA_BRAZIL</th>\n",
              "      <th>RESIDENCIA_MEXICO</th>\n",
              "      <th>NV_ESTUDIO_POST_GRADUATE</th>\n",
              "      <th>NV_ESTUDIO_TERTIARY</th>\n",
              "      <th>NV_ESTUDIO_UNIVERSITARY</th>\n",
              "      <th>ESTUDIO_PREV_BUSINESS</th>\n",
              "      <th>ESTUDIO_PREV_COMMERCIAL</th>\n",
              "      <th>ESTUDIO_PREV_DEVELOPMENT</th>\n",
              "      <th>ESTUDIO_PREV_ENGINEERING</th>\n",
              "      <th>ESTUDIO_PREV_MARKETING</th>\n",
              "      <th>TRACK_DH_DATA</th>\n",
              "      <th>TRACK_DH_EJECUTIVO</th>\n",
              "      <th>TRACK_DH_MARKETING</th>\n",
              "      <th>TRACK_DH_PROGRAMACION</th>\n",
              "      <th>FEATURE1</th>\n",
              "      <th>FEATURE2</th>\n",
              "    </tr>\n",
              "  </thead>\n",
              "  <tbody>\n",
              "    <tr>\n",
              "      <th>0</th>\n",
              "      <td>0.603915</td>\n",
              "      <td>-1.040572</td>\n",
              "      <td>-0.550981</td>\n",
              "      <td>0.740179</td>\n",
              "      <td>0</td>\n",
              "      <td>0</td>\n",
              "      <td>1</td>\n",
              "      <td>0</td>\n",
              "      <td>0</td>\n",
              "      <td>0</td>\n",
              "      <td>1</td>\n",
              "      <td>0</td>\n",
              "      <td>0</td>\n",
              "      <td>0</td>\n",
              "      <td>1</td>\n",
              "      <td>0</td>\n",
              "      <td>0</td>\n",
              "      <td>0</td>\n",
              "      <td>0</td>\n",
              "      <td>1</td>\n",
              "      <td>0.447005</td>\n",
              "      <td>0.573336</td>\n",
              "    </tr>\n",
              "    <tr>\n",
              "      <th>1</th>\n",
              "      <td>1.209701</td>\n",
              "      <td>-1.040572</td>\n",
              "      <td>-0.495778</td>\n",
              "      <td>1.294031</td>\n",
              "      <td>0</td>\n",
              "      <td>1</td>\n",
              "      <td>0</td>\n",
              "      <td>0</td>\n",
              "      <td>0</td>\n",
              "      <td>0</td>\n",
              "      <td>1</td>\n",
              "      <td>0</td>\n",
              "      <td>1</td>\n",
              "      <td>0</td>\n",
              "      <td>0</td>\n",
              "      <td>0</td>\n",
              "      <td>0</td>\n",
              "      <td>0</td>\n",
              "      <td>0</td>\n",
              "      <td>1</td>\n",
              "      <td>1.565391</td>\n",
              "      <td>0.515893</td>\n",
              "    </tr>\n",
              "    <tr>\n",
              "      <th>2</th>\n",
              "      <td>0.200058</td>\n",
              "      <td>-1.040572</td>\n",
              "      <td>-0.634836</td>\n",
              "      <td>0.271534</td>\n",
              "      <td>1</td>\n",
              "      <td>1</td>\n",
              "      <td>0</td>\n",
              "      <td>0</td>\n",
              "      <td>0</td>\n",
              "      <td>0</td>\n",
              "      <td>1</td>\n",
              "      <td>0</td>\n",
              "      <td>0</td>\n",
              "      <td>1</td>\n",
              "      <td>0</td>\n",
              "      <td>0</td>\n",
              "      <td>1</td>\n",
              "      <td>0</td>\n",
              "      <td>0</td>\n",
              "      <td>0</td>\n",
              "      <td>0.054323</td>\n",
              "      <td>0.660593</td>\n",
              "    </tr>\n",
              "    <tr>\n",
              "      <th>3</th>\n",
              "      <td>-0.203799</td>\n",
              "      <td>-1.040572</td>\n",
              "      <td>-0.719646</td>\n",
              "      <td>-0.353325</td>\n",
              "      <td>0</td>\n",
              "      <td>0</td>\n",
              "      <td>1</td>\n",
              "      <td>0</td>\n",
              "      <td>0</td>\n",
              "      <td>0</td>\n",
              "      <td>1</td>\n",
              "      <td>0</td>\n",
              "      <td>0</td>\n",
              "      <td>0</td>\n",
              "      <td>1</td>\n",
              "      <td>0</td>\n",
              "      <td>1</td>\n",
              "      <td>0</td>\n",
              "      <td>0</td>\n",
              "      <td>0</td>\n",
              "      <td>0.072007</td>\n",
              "      <td>0.748844</td>\n",
              "    </tr>\n",
              "    <tr>\n",
              "      <th>4</th>\n",
              "      <td>-1.011513</td>\n",
              "      <td>0.245867</td>\n",
              "      <td>0.512012</td>\n",
              "      <td>-1.082706</td>\n",
              "      <td>1</td>\n",
              "      <td>0</td>\n",
              "      <td>1</td>\n",
              "      <td>0</td>\n",
              "      <td>0</td>\n",
              "      <td>0</td>\n",
              "      <td>1</td>\n",
              "      <td>0</td>\n",
              "      <td>0</td>\n",
              "      <td>1</td>\n",
              "      <td>0</td>\n",
              "      <td>0</td>\n",
              "      <td>1</td>\n",
              "      <td>0</td>\n",
              "      <td>0</td>\n",
              "      <td>0</td>\n",
              "      <td>1.095171</td>\n",
              "      <td>0.125887</td>\n",
              "    </tr>\n",
              "  </tbody>\n",
              "</table>\n",
              "</div>"
            ],
            "text/plain": [
              "       EDAD    AVG_DH  EXPERIENCIA  ...  TRACK_DH_PROGRAMACION  FEATURE1  FEATURE2\n",
              "0  0.603915 -1.040572    -0.550981  ...                      1  0.447005  0.573336\n",
              "1  1.209701 -1.040572    -0.495778  ...                      1  1.565391  0.515893\n",
              "2  0.200058 -1.040572    -0.634836  ...                      0  0.054323  0.660593\n",
              "3 -0.203799 -1.040572    -0.719646  ...                      0  0.072007  0.748844\n",
              "4 -1.011513  0.245867     0.512012  ...                      0  1.095171  0.125887\n",
              "\n",
              "[5 rows x 22 columns]"
            ]
          },
          "metadata": {
            "tags": []
          },
          "execution_count": 104
        }
      ]
    },
    {
      "cell_type": "markdown",
      "metadata": {
        "id": "47dGgkAvq7n_",
        "colab_type": "text"
      },
      "source": [
        "### SEGUNDO SET DE ENTRENAMIENTO"
      ]
    },
    {
      "cell_type": "markdown",
      "metadata": {
        "id": "nYmPGkPtcvIn",
        "colab_type": "text"
      },
      "source": [
        "Creamos nuevos set de train y test con los nuevos features"
      ]
    },
    {
      "cell_type": "code",
      "metadata": {
        "id": "J2_XXxhjq7n_",
        "colab_type": "code",
        "colab": {}
      },
      "source": [
        "# Dividir X e Y en juegos de entrenamiento y prueba\n",
        "X_train_1, X_test_1, y_train_1, y_test_1 = train_test_split(features_1, target, random_state=87, test_size=0.1)"
      ],
      "execution_count": 105,
      "outputs": []
    },
    {
      "cell_type": "markdown",
      "metadata": {
        "id": "qUENqvUXc3tP",
        "colab_type": "text"
      },
      "source": [
        "Modelamos y realizamos las predicciones con los diferentes modelos"
      ]
    },
    {
      "cell_type": "code",
      "metadata": {
        "id": "QSlXmQMeq7oB",
        "colab_type": "code",
        "colab": {
          "base_uri": "https://localhost:8080/",
          "height": 255
        },
        "outputId": "fd142dc2-a3b7-4ff6-aa7c-91704a05b475"
      },
      "source": [
        "# Modelo\n",
        "linreg_1 = LinearRegression()\n",
        "linreg_1.fit(X_train_1, y_train_1)\n",
        "\n",
        "# Los coeficientes\n",
        "print('\\nCoeficientes:', linreg_1.coef_)\n",
        "\n",
        "# hacer predicciones en el conjunto de entrenamiento\n",
        "y_pred_1 = linreg_1.predict(X_train_1)\n",
        "# RESULTADOS TRAIN SET\n",
        "print(\"RESULTADOS TRAIN SET\")\n",
        "# calcular el RMSE de nuestras predicciones\n",
        "print('RMSE = %.4f' % np.sqrt(metrics.mean_squared_error(y_train_1, y_pred_1)))\n",
        "# Explicación de la varianza: 1 es predicción perfecta\n",
        "print('Variance score = %.4f' % metrics.r2_score(y_train_1, y_pred_1))\n",
        "\n",
        "\n",
        "print(\"\")\n",
        "# hacer predicciones en el conjunto de prueba\n",
        "y_pred_1 = linreg_1.predict(X_test_1)\n",
        "# RESULTADOS TEST SET\n",
        "print(\"RESULTADOS TEST SET\")\n",
        "# calcular el RMSE de nuestras predicciones\n",
        "print('RMSE = %.4f' % np.sqrt(metrics.mean_squared_error(y_test_1, y_pred_1)))\n",
        "# Explicación de la varianza: 1 es predicción perfecta\n",
        "print('Variance score = %.4f' % metrics.r2_score(y_test_1, y_pred_1))"
      ],
      "execution_count": 106,
      "outputs": [
        {
          "output_type": "stream",
          "text": [
            "\n",
            "Coeficientes: [ 1.04821785e+00  6.73412485e-02 -4.91579316e-01  1.33969308e+00\n",
            " -9.30800472e+00  1.87122651e-03  1.85444012e-02 -2.04156277e-02\n",
            " -1.34859523e+00  1.97096827e+00 -6.22373040e-01  1.77234349e+00\n",
            " -1.37699969e+00 -7.54762926e-01 -2.11606210e+00  2.47548123e+00\n",
            "  8.17968566e-02 -5.29511325e-02 -7.28239243e-02  4.39782002e-02\n",
            "  4.21232069e-01  6.67690078e-02]\n",
            "RESULTADOS TRAIN SET\n",
            "RMSE = 2.7609\n",
            "Variance score = 0.7645\n",
            "\n",
            "RESULTADOS TEST SET\n",
            "RMSE = 2.3345\n",
            "Variance score = 0.8229\n"
          ],
          "name": "stdout"
        }
      ]
    },
    {
      "cell_type": "code",
      "metadata": {
        "id": "25pM5Qz0q7oD",
        "colab_type": "code",
        "colab": {
          "base_uri": "https://localhost:8080/",
          "height": 136
        },
        "outputId": "50ea4fcf-2ade-41e9-90af-fc0015c858fa"
      },
      "source": [
        "from sklearn.linear_model import Ridge\n",
        "clf1 = Ridge(alpha=1.0)\n",
        "clf1.fit(X_train_1, y_train_1)\n",
        "\n",
        "# hacer predicciones en el conjunto de entrenamiento\n",
        "y_pred_1 = clf1.predict(X_train_1)\n",
        "# RESULTADOS TRAIN SET\n",
        "print(\"RESULTADOS TRAIN SET\")\n",
        "# calcular el RMSE de nuestras predicciones\n",
        "print('RMSE = %.4f' % np.sqrt(metrics.mean_squared_error(y_train_1, y_pred_1)))\n",
        "# Explicación de la varianza: 1 es predicción perfecta\n",
        "print('Variance score = %.4f' % metrics.r2_score(y_train_1, y_pred_1))\n",
        "\n",
        "\n",
        "print(\"\")\n",
        "# hacer predicciones en el conjunto de prueba\n",
        "y_pred_1 = clf1.predict(X_test_1)\n",
        "# RESULTADOS TEST SET\n",
        "print(\"RESULTADOS TEST SET\")\n",
        "# calcular el RMSE de nuestras predicciones\n",
        "print('RMSE = %.4f' % np.sqrt(metrics.mean_squared_error(y_test_1, y_pred_1)))\n",
        "# Explicación de la varianza: 1 es predicción perfecta\n",
        "print('Variance score = %.4f' % metrics.r2_score(y_test_1, y_pred_1))"
      ],
      "execution_count": 107,
      "outputs": [
        {
          "output_type": "stream",
          "text": [
            "RESULTADOS TRAIN SET\n",
            "RMSE = 2.7609\n",
            "Variance score = 0.7645\n",
            "\n",
            "RESULTADOS TEST SET\n",
            "RMSE = 2.3346\n",
            "Variance score = 0.8229\n"
          ],
          "name": "stdout"
        }
      ]
    },
    {
      "cell_type": "code",
      "metadata": {
        "id": "2wMw5k4Aq7oF",
        "colab_type": "code",
        "colab": {
          "base_uri": "https://localhost:8080/",
          "height": 136
        },
        "outputId": "6d088f0f-e743-4413-8b79-7df74539cd6d"
      },
      "source": [
        "#Import the library\n",
        "from xgboost import XGBRegressor\n",
        "xgb1 = XGBRegressor(random_state=2, colsample_bytree=0.7,\n",
        "learning_rate= 0.04,\n",
        "max_depth= 3,\n",
        "min_child_weight = 4,\n",
        "n_estimators=300,\n",
        "silent=1,\n",
        "subsample=0.8)\n",
        "\n",
        "xgb1.fit(X_train_1, y_train_1)\n",
        "\n",
        "# hacer predicciones en el conjunto de entrenamiento\n",
        "y_pred_1 = xgb1.predict(X_train_1)\n",
        "# RESULTADOS TRAIN SET\n",
        "print(\"RESULTADOS TRAIN SET\")\n",
        "# calcular el RMSE de nuestras predicciones\n",
        "print('RMSE = %.4f' % np.sqrt(metrics.mean_squared_error(y_train_1, y_pred_1)))\n",
        "# Explicación de la varianza: 1 es predicción perfecta\n",
        "print('Variance score = %.4f' % metrics.r2_score(y_train_1, y_pred_1))\n",
        "\n",
        "\n",
        "print(\"\")\n",
        "# hacer predicciones en el conjunto de prueba\n",
        "y_pred_1 = xgb1.predict(X_test_1)\n",
        "# RESULTADOS TEST SET\n",
        "print(\"RESULTADOS TEST SET\")\n",
        "# calcular el RMSE de nuestras predicciones\n",
        "print('RMSE = %.4f' % np.sqrt(metrics.mean_squared_error(y_test_1, y_pred_1)))\n",
        "# Explicación de la varianza: 1 es predicción perfecta\n",
        "print('Variance score = %.4f' % metrics.r2_score(y_test_1, y_pred_1))"
      ],
      "execution_count": 108,
      "outputs": [
        {
          "output_type": "stream",
          "text": [
            "RESULTADOS TRAIN SET\n",
            "RMSE = 2.6819\n",
            "Variance score = 0.7778\n",
            "\n",
            "RESULTADOS TEST SET\n",
            "RMSE = 2.3155\n",
            "Variance score = 0.8257\n"
          ],
          "name": "stdout"
        }
      ]
    },
    {
      "cell_type": "code",
      "metadata": {
        "id": "V_8Ur1Ykq7oH",
        "colab_type": "code",
        "colab": {
          "base_uri": "https://localhost:8080/",
          "height": 136
        },
        "outputId": "ef6d3603-28d4-4c6d-eef9-977ca173dbf5"
      },
      "source": [
        "from sklearn.ensemble import BaggingRegressor\n",
        "from sklearn.tree import DecisionTreeRegressor\n",
        "from sklearn.ensemble import RandomForestRegressor\n",
        "\n",
        "regr_1 = BaggingRegressor(base_estimator=RandomForestRegressor(),n_estimators=50, random_state=0).fit(X_train_1, y_train_1)\n",
        "\n",
        "# hacer predicciones en el conjunto de entrenamiento\n",
        "y_pred_1 = regr_1.predict(X_train_1)\n",
        "# RESULTADOS TRAIN SET\n",
        "print(\"RESULTADOS TRAIN SET\")\n",
        "# calcular el RMSE de nuestras predicciones\n",
        "print('RMSE = %.4f' % np.sqrt(metrics.mean_squared_error(y_train_1, y_pred_1)))\n",
        "# Explicación de la varianza: 1 es predicción perfecta\n",
        "print('Variance score = %.4f' % metrics.r2_score(y_train_1, y_pred_1))\n",
        "\n",
        "\n",
        "print(\"\")\n",
        "# hacer predicciones en el conjunto de prueba\n",
        "y_pred_1 = regr_1.predict(X_test_1)\n",
        "# RESULTADOS TEST SET\n",
        "print(\"RESULTADOS TEST SET\")\n",
        "# calcular el RMSE de nuestras predicciones\n",
        "print('RMSE = %.4f' % np.sqrt(metrics.mean_squared_error(y_test_1, y_pred_1)))\n",
        "# Explicación de la varianza: 1 es predicción perfecta\n",
        "print('Variance score = %.4f' % metrics.r2_score(y_test_1, y_pred_1))"
      ],
      "execution_count": 109,
      "outputs": [
        {
          "output_type": "stream",
          "text": [
            "RESULTADOS TRAIN SET\n",
            "RMSE = 1.7274\n",
            "Variance score = 0.9078\n",
            "\n",
            "RESULTADOS TEST SET\n",
            "RMSE = 2.4389\n",
            "Variance score = 0.8067\n"
          ],
          "name": "stdout"
        }
      ]
    },
    {
      "cell_type": "code",
      "metadata": {
        "id": "0gsoY7R2q7oL",
        "colab_type": "code",
        "colab": {
          "base_uri": "https://localhost:8080/",
          "height": 272
        },
        "outputId": "770fd2db-923c-48e2-f205-e7a79db55935"
      },
      "source": [
        "#Evaluation of various combinations of SGB\n",
        "\n",
        "#Import the library\n",
        "from sklearn.ensemble import GradientBoostingRegressor\n",
        "\n",
        "#Add the n_estimators value to the below list if you want to run the algo\n",
        "#n_list = np.array([ 60,70,80,90,150,500])\n",
        "#Add the n_estimators value to the below list if you want to run the algo\n",
        "n_list = np.array([ 125,128,130,135,150])\n",
        "\n",
        "for n_estimators in n_list:\n",
        "    #Set the base model\n",
        "    model = GradientBoostingRegressor(n_estimators=n_estimators,random_state=1)\n",
        "    model.fit(X_train_1, y_train_1)\n",
        "    # hacer predicciones en el conjunto de prueba\n",
        "    y_pred_1 = model.predict(X_test_1)\n",
        "    print('n_estimators = ', n_estimators)\n",
        "    # calcular el RMSE de nuestras predicciones\n",
        "    print('RMSE = %.4f' % np.sqrt(metrics.mean_squared_error(y_test_1, y_pred_1)))\n",
        "    # Explicación de la varianza: 1 es predicción perfecta\n",
        "    print('Variance score = %.4f' % metrics.r2_score(y_test_1, y_pred_1))"
      ],
      "execution_count": 110,
      "outputs": [
        {
          "output_type": "stream",
          "text": [
            "n_estimators =  125\n",
            "RMSE = 2.3159\n",
            "Variance score = 0.8257\n",
            "n_estimators =  128\n",
            "RMSE = 2.3159\n",
            "Variance score = 0.8257\n",
            "n_estimators =  130\n",
            "RMSE = 2.3152\n",
            "Variance score = 0.8258\n",
            "n_estimators =  135\n",
            "RMSE = 2.3140\n",
            "Variance score = 0.8260\n",
            "n_estimators =  150\n",
            "RMSE = 2.3154\n",
            "Variance score = 0.8258\n"
          ],
          "name": "stdout"
        }
      ]
    },
    {
      "cell_type": "markdown",
      "metadata": {
        "id": "FnD3JzjBq7oN",
        "colab_type": "text"
      },
      "source": [
        "Generando features polinomicos"
      ]
    },
    {
      "cell_type": "code",
      "metadata": {
        "id": "YBZ7bBQzq7oO",
        "colab_type": "code",
        "colab": {}
      },
      "source": [
        "set_2 = features_1.copy()"
      ],
      "execution_count": 111,
      "outputs": []
    },
    {
      "cell_type": "code",
      "metadata": {
        "id": "4WXkLMnfq7oP",
        "colab_type": "code",
        "colab": {
          "base_uri": "https://localhost:8080/",
          "height": 34
        },
        "outputId": "7c5b57ed-c6c3-41a7-dc10-2b38339f5484"
      },
      "source": [
        "from sklearn.preprocessing import PolynomialFeatures\n",
        "\n",
        "poly_dict = {}\n",
        "for feature in features_1.columns:\n",
        "    for p in range(2, 10):\n",
        "        X_train_poly = set_2.copy()\n",
        "        X_train_poly['sq'] = X_train_poly[feature] ** p\n",
        "        lr = LinearRegression()\n",
        "        lr.fit(X_train_poly, target)\n",
        "        poly_dict[lr.score(X_train_poly, target)] = [feature, p]\n",
        "    \n",
        "poly_dict[max(poly_dict.keys())]"
      ],
      "execution_count": 121,
      "outputs": [
        {
          "output_type": "execute_result",
          "data": {
            "text/plain": [
              "['MINUTES_DH', 3]"
            ]
          },
          "metadata": {
            "tags": []
          },
          "execution_count": 121
        }
      ]
    },
    {
      "cell_type": "code",
      "metadata": {
        "id": "K3vtLlf_q7oS",
        "colab_type": "code",
        "colab": {
          "base_uri": "https://localhost:8080/",
          "height": 224
        },
        "outputId": "d5fe6f4c-c2fa-47e9-dee1-914dd01a5697"
      },
      "source": [
        "# Add the top two interaction features (which exclude a categorical variable) to existing DF for feature engineered model\n",
        "features_2 = features_1.copy()\n",
        "features_2['FEATURE3'] = features_2['EDAD'] * features_2['EDAD']* features_2['EDAD']\n",
        "#X_train_prep_int['FEATURE3'] = X_train_prep_int['EDAD'] * X_train_prep_int['EDAD']* X_train_prep_int['EDAD']\n",
        "features_2['FEATURE4'] = features_2['MINUTES_DH'] * features_2['MINUTES_DH'] \n",
        "features_2.head()"
      ],
      "execution_count": 118,
      "outputs": [
        {
          "output_type": "execute_result",
          "data": {
            "text/html": [
              "<div>\n",
              "<style scoped>\n",
              "    .dataframe tbody tr th:only-of-type {\n",
              "        vertical-align: middle;\n",
              "    }\n",
              "\n",
              "    .dataframe tbody tr th {\n",
              "        vertical-align: top;\n",
              "    }\n",
              "\n",
              "    .dataframe thead th {\n",
              "        text-align: right;\n",
              "    }\n",
              "</style>\n",
              "<table border=\"1\" class=\"dataframe\">\n",
              "  <thead>\n",
              "    <tr style=\"text-align: right;\">\n",
              "      <th></th>\n",
              "      <th>EDAD</th>\n",
              "      <th>AVG_DH</th>\n",
              "      <th>EXPERIENCIA</th>\n",
              "      <th>MINUTES_DH</th>\n",
              "      <th>GENERO</th>\n",
              "      <th>RESIDENCIA_ARGENTINA</th>\n",
              "      <th>RESIDENCIA_BRAZIL</th>\n",
              "      <th>RESIDENCIA_MEXICO</th>\n",
              "      <th>NV_ESTUDIO_POST_GRADUATE</th>\n",
              "      <th>NV_ESTUDIO_TERTIARY</th>\n",
              "      <th>NV_ESTUDIO_UNIVERSITARY</th>\n",
              "      <th>ESTUDIO_PREV_BUSINESS</th>\n",
              "      <th>ESTUDIO_PREV_COMMERCIAL</th>\n",
              "      <th>ESTUDIO_PREV_DEVELOPMENT</th>\n",
              "      <th>ESTUDIO_PREV_ENGINEERING</th>\n",
              "      <th>ESTUDIO_PREV_MARKETING</th>\n",
              "      <th>TRACK_DH_DATA</th>\n",
              "      <th>TRACK_DH_EJECUTIVO</th>\n",
              "      <th>TRACK_DH_MARKETING</th>\n",
              "      <th>TRACK_DH_PROGRAMACION</th>\n",
              "      <th>FEATURE1</th>\n",
              "      <th>FEATURE2</th>\n",
              "      <th>FEATURE3</th>\n",
              "      <th>FEATURE4</th>\n",
              "    </tr>\n",
              "  </thead>\n",
              "  <tbody>\n",
              "    <tr>\n",
              "      <th>0</th>\n",
              "      <td>0.603915</td>\n",
              "      <td>-1.040572</td>\n",
              "      <td>-0.550981</td>\n",
              "      <td>0.740179</td>\n",
              "      <td>0</td>\n",
              "      <td>0</td>\n",
              "      <td>1</td>\n",
              "      <td>0</td>\n",
              "      <td>0</td>\n",
              "      <td>0</td>\n",
              "      <td>1</td>\n",
              "      <td>0</td>\n",
              "      <td>0</td>\n",
              "      <td>0</td>\n",
              "      <td>1</td>\n",
              "      <td>0</td>\n",
              "      <td>0</td>\n",
              "      <td>0</td>\n",
              "      <td>0</td>\n",
              "      <td>1</td>\n",
              "      <td>0.447005</td>\n",
              "      <td>0.573336</td>\n",
              "      <td>0.220256</td>\n",
              "      <td>0.547865</td>\n",
              "    </tr>\n",
              "    <tr>\n",
              "      <th>1</th>\n",
              "      <td>1.209701</td>\n",
              "      <td>-1.040572</td>\n",
              "      <td>-0.495778</td>\n",
              "      <td>1.294031</td>\n",
              "      <td>0</td>\n",
              "      <td>1</td>\n",
              "      <td>0</td>\n",
              "      <td>0</td>\n",
              "      <td>0</td>\n",
              "      <td>0</td>\n",
              "      <td>1</td>\n",
              "      <td>0</td>\n",
              "      <td>1</td>\n",
              "      <td>0</td>\n",
              "      <td>0</td>\n",
              "      <td>0</td>\n",
              "      <td>0</td>\n",
              "      <td>0</td>\n",
              "      <td>0</td>\n",
              "      <td>1</td>\n",
              "      <td>1.565391</td>\n",
              "      <td>0.515893</td>\n",
              "      <td>1.770246</td>\n",
              "      <td>1.674517</td>\n",
              "    </tr>\n",
              "    <tr>\n",
              "      <th>2</th>\n",
              "      <td>0.200058</td>\n",
              "      <td>-1.040572</td>\n",
              "      <td>-0.634836</td>\n",
              "      <td>0.271534</td>\n",
              "      <td>1</td>\n",
              "      <td>1</td>\n",
              "      <td>0</td>\n",
              "      <td>0</td>\n",
              "      <td>0</td>\n",
              "      <td>0</td>\n",
              "      <td>1</td>\n",
              "      <td>0</td>\n",
              "      <td>0</td>\n",
              "      <td>1</td>\n",
              "      <td>0</td>\n",
              "      <td>0</td>\n",
              "      <td>1</td>\n",
              "      <td>0</td>\n",
              "      <td>0</td>\n",
              "      <td>0</td>\n",
              "      <td>0.054323</td>\n",
              "      <td>0.660593</td>\n",
              "      <td>0.008007</td>\n",
              "      <td>0.073731</td>\n",
              "    </tr>\n",
              "    <tr>\n",
              "      <th>3</th>\n",
              "      <td>-0.203799</td>\n",
              "      <td>-1.040572</td>\n",
              "      <td>-0.719646</td>\n",
              "      <td>-0.353325</td>\n",
              "      <td>0</td>\n",
              "      <td>0</td>\n",
              "      <td>1</td>\n",
              "      <td>0</td>\n",
              "      <td>0</td>\n",
              "      <td>0</td>\n",
              "      <td>1</td>\n",
              "      <td>0</td>\n",
              "      <td>0</td>\n",
              "      <td>0</td>\n",
              "      <td>1</td>\n",
              "      <td>0</td>\n",
              "      <td>1</td>\n",
              "      <td>0</td>\n",
              "      <td>0</td>\n",
              "      <td>0</td>\n",
              "      <td>0.072007</td>\n",
              "      <td>0.748844</td>\n",
              "      <td>-0.008465</td>\n",
              "      <td>0.124839</td>\n",
              "    </tr>\n",
              "    <tr>\n",
              "      <th>4</th>\n",
              "      <td>-1.011513</td>\n",
              "      <td>0.245867</td>\n",
              "      <td>0.512012</td>\n",
              "      <td>-1.082706</td>\n",
              "      <td>1</td>\n",
              "      <td>0</td>\n",
              "      <td>1</td>\n",
              "      <td>0</td>\n",
              "      <td>0</td>\n",
              "      <td>0</td>\n",
              "      <td>1</td>\n",
              "      <td>0</td>\n",
              "      <td>0</td>\n",
              "      <td>1</td>\n",
              "      <td>0</td>\n",
              "      <td>0</td>\n",
              "      <td>1</td>\n",
              "      <td>0</td>\n",
              "      <td>0</td>\n",
              "      <td>0</td>\n",
              "      <td>1.095171</td>\n",
              "      <td>0.125887</td>\n",
              "      <td>-1.034937</td>\n",
              "      <td>1.172252</td>\n",
              "    </tr>\n",
              "  </tbody>\n",
              "</table>\n",
              "</div>"
            ],
            "text/plain": [
              "       EDAD    AVG_DH  EXPERIENCIA  ...  FEATURE2  FEATURE3  FEATURE4\n",
              "0  0.603915 -1.040572    -0.550981  ...  0.573336  0.220256  0.547865\n",
              "1  1.209701 -1.040572    -0.495778  ...  0.515893  1.770246  1.674517\n",
              "2  0.200058 -1.040572    -0.634836  ...  0.660593  0.008007  0.073731\n",
              "3 -0.203799 -1.040572    -0.719646  ...  0.748844 -0.008465  0.124839\n",
              "4 -1.011513  0.245867     0.512012  ...  0.125887 -1.034937  1.172252\n",
              "\n",
              "[5 rows x 24 columns]"
            ]
          },
          "metadata": {
            "tags": []
          },
          "execution_count": 118
        }
      ]
    },
    {
      "cell_type": "markdown",
      "metadata": {
        "id": "hnIS9oWLq7oT",
        "colab_type": "text"
      },
      "source": [
        "### TERCER SET DE ENTRENAMIENTO"
      ]
    },
    {
      "cell_type": "code",
      "metadata": {
        "id": "G7Jip3vxq7oU",
        "colab_type": "code",
        "colab": {}
      },
      "source": [
        "# Dividir X e Y en juegos de entrenamiento y prueba\n",
        "X_train_2, X_test_2, y_train_2, y_test_2= train_test_split(features_2, target, random_state=87, test_size=0.1)"
      ],
      "execution_count": 119,
      "outputs": []
    },
    {
      "cell_type": "code",
      "metadata": {
        "id": "QJn-r7sxq7oX",
        "colab_type": "code",
        "colab": {
          "base_uri": "https://localhost:8080/",
          "height": 255
        },
        "outputId": "19492af3-f5d3-43cb-fef5-4da4be132431"
      },
      "source": [
        "# Modelo\n",
        "linreg_2 = LinearRegression()\n",
        "linreg_2.fit(X_train_2, y_train_2)\n",
        "\n",
        "# Los coeficientes\n",
        "print('\\nCoeficientes:', linreg.coef_)\n",
        "\n",
        "# hacer predicciones en el conjunto de entrenamiento\n",
        "y_pred_2 = linreg_2.predict(X_train_2)\n",
        "# RESULTADOS TRAIN SET\n",
        "print(\"RESULTADOS TRAIN SET\")\n",
        "# calcular el RMSE de nuestras predicciones\n",
        "print('RMSE = %.4f' % np.sqrt(metrics.mean_squared_error(y_train_2, y_pred_2)))\n",
        "# Explicación de la varianza: 1 es predicción perfecta\n",
        "print('Variance score = %.4f' % metrics.r2_score(y_train_2, y_pred_2))\n",
        "\n",
        "\n",
        "print(\"\")\n",
        "# hacer predicciones en el conjunto de prueba\n",
        "y_pred_2 = linreg_2.predict(X_test_2)\n",
        "# RESULTADOS TEST SET\n",
        "print(\"RESULTADOS TEST SET\")\n",
        "# calcular el RMSE de nuestras predicciones\n",
        "print('RMSE = %.4f' % np.sqrt(metrics.mean_squared_error(y_test_2, y_pred_2)))\n",
        "# Explicación de la varianza: 1 es predicción perfecta\n",
        "print('Variance score = %.4f' % metrics.r2_score(y_test_2, y_pred_2))"
      ],
      "execution_count": 127,
      "outputs": [
        {
          "output_type": "stream",
          "text": [
            "\n",
            "Coeficientes: [ 2.04908479e+00  7.16900512e-02 -4.93985996e-01  6.52524347e-01\n",
            " -9.31009993e+00 -1.27364101e-03  1.83741128e-02 -1.71004718e-02\n",
            " -1.34697809e+00  1.96347474e+00 -6.16496650e-01  1.78634863e+00\n",
            " -1.37974041e+00 -7.70460803e-01 -2.11631440e+00  2.48016698e+00\n",
            "  8.97008052e-02 -4.94624331e-02 -7.58048024e-02  3.55664302e-02\n",
            "  2.10989155e-01  6.51998796e-02 -1.06418749e-01  2.12191571e-01]\n",
            "RESULTADOS TRAIN SET\n",
            "RMSE = 2.7511\n",
            "Variance score = 0.7662\n",
            "\n",
            "RESULTADOS TEST SET\n",
            "RMSE = 2.3183\n",
            "Variance score = 0.8253\n"
          ],
          "name": "stdout"
        }
      ]
    },
    {
      "cell_type": "code",
      "metadata": {
        "id": "Jk5xkdxzq7oa",
        "colab_type": "code",
        "colab": {
          "base_uri": "https://localhost:8080/",
          "height": 136
        },
        "outputId": "84b23f07-a5ec-47ee-f6f1-74d3439b73f8"
      },
      "source": [
        "from sklearn.linear_model import Ridge\n",
        "clf2 = Ridge(alpha=1.0)\n",
        "clf2.fit(X_train_2, y_train_2)\n",
        "\n",
        "\n",
        "# hacer predicciones en el conjunto de entrenamiento\n",
        "y_pred_2 = clf2.predict(X_train_2)\n",
        "# RESULTADOS TRAIN SET\n",
        "print(\"RESULTADOS TRAIN SET\")\n",
        "# calcular el RMSE de nuestras predicciones\n",
        "print('RMSE = %.4f' % np.sqrt(metrics.mean_squared_error(y_train_2, y_pred_2)))\n",
        "# Explicación de la varianza: 1 es predicción perfecta\n",
        "print('Variance score = %.4f' % metrics.r2_score(y_train_2, y_pred_2))\n",
        "\n",
        "\n",
        "print(\"\")\n",
        "# hacer predicciones en el conjunto de prueba\n",
        "y_pred_2 = clf2.predict(X_test_2)\n",
        "# RESULTADOS TEST SET\n",
        "print(\"RESULTADOS TEST SET\")\n",
        "# calcular el RMSE de nuestras predicciones\n",
        "print('RMSE = %.4f' % np.sqrt(metrics.mean_squared_error(y_test_2, y_pred_2)))\n",
        "# Explicación de la varianza: 1 es predicción perfecta\n",
        "print('Variance score = %.4f' % metrics.r2_score(y_test_2, y_pred_2))"
      ],
      "execution_count": 128,
      "outputs": [
        {
          "output_type": "stream",
          "text": [
            "RESULTADOS TRAIN SET\n",
            "RMSE = 2.7511\n",
            "Variance score = 0.7662\n",
            "\n",
            "RESULTADOS TEST SET\n",
            "RMSE = 2.3185\n",
            "Variance score = 0.8253\n"
          ],
          "name": "stdout"
        }
      ]
    },
    {
      "cell_type": "code",
      "metadata": {
        "id": "AaVvGmuQq7oc",
        "colab_type": "code",
        "colab": {
          "base_uri": "https://localhost:8080/",
          "height": 136
        },
        "outputId": "c6bea359-debc-4e06-c83e-5a6d73a6b02b"
      },
      "source": [
        "#Import the library\n",
        "from xgboost import XGBRegressor\n",
        "xgb2 = XGBRegressor(random_state=2, colsample_bytree=0.7,\n",
        "learning_rate= 0.04,\n",
        "max_depth= 3,\n",
        "min_child_weight = 4,\n",
        "n_estimators=300,\n",
        "silent=1,\n",
        "subsample=0.8)\n",
        "\n",
        "xgb2.fit(X_train_2, y_train_2)\n",
        "# hacer predicciones en el conjunto de entrenamiento\n",
        "y_pred_2 = xgb2.predict(X_train_2)\n",
        "# RESULTADOS TRAIN SET\n",
        "print(\"RESULTADOS TRAIN SET\")\n",
        "# calcular el RMSE de nuestras predicciones\n",
        "print('RMSE = %.4f' % np.sqrt(metrics.mean_squared_error(y_train_2, y_pred_2)))\n",
        "# Explicación de la varianza: 1 es predicción perfecta\n",
        "print('Variance score = %.4f' % metrics.r2_score(y_train_2, y_pred_2))\n",
        "\n",
        "\n",
        "print(\"\")\n",
        "# hacer predicciones en el conjunto de prueba\n",
        "y_pred_2 = xgb2.predict(X_test_2)\n",
        "# RESULTADOS TEST SET\n",
        "print(\"RESULTADOS TEST SET\")\n",
        "# calcular el RMSE de nuestras predicciones\n",
        "print('RMSE = %.4f' % np.sqrt(metrics.mean_squared_error(y_test_2, y_pred_2)))\n",
        "# Explicación de la varianza: 1 es predicción perfecta\n",
        "print('Variance score = %.4f' % metrics.r2_score(y_test_2, y_pred_2))"
      ],
      "execution_count": 129,
      "outputs": [
        {
          "output_type": "stream",
          "text": [
            "RESULTADOS TRAIN SET\n",
            "RMSE = 2.6766\n",
            "Variance score = 0.7787\n",
            "\n",
            "RESULTADOS TEST SET\n",
            "RMSE = 2.3104\n",
            "Variance score = 0.8265\n"
          ],
          "name": "stdout"
        }
      ]
    },
    {
      "cell_type": "code",
      "metadata": {
        "id": "eQt-_LPcq7oe",
        "colab_type": "code",
        "colab": {
          "base_uri": "https://localhost:8080/",
          "height": 136
        },
        "outputId": "1e34f1bb-5f9c-4157-8543-77e8dc2ebe78"
      },
      "source": [
        "from sklearn.ensemble import BaggingRegressor\n",
        "from sklearn.tree import DecisionTreeRegressor\n",
        "from sklearn.ensemble import RandomForestRegressor\n",
        "\n",
        "regr_2 = BaggingRegressor(base_estimator=RandomForestRegressor(),n_estimators=10, random_state=87).fit(X_train_2, y_train_2)\n",
        "\n",
        "\n",
        "y_pred_2 = regr_2.predict(X_train_2)\n",
        "# RESULTADOS TRAIN SET\n",
        "print(\"RESULTADOS TRAIN SET\")\n",
        "# calcular el RMSE de nuestras predicciones\n",
        "print('RMSE = %.4f' % np.sqrt(metrics.mean_squared_error(y_train_2, y_pred_2)))\n",
        "# Explicación de la varianza: 1 es predicción perfecta\n",
        "print('Variance score = %.4f' % metrics.r2_score(y_train_2, y_pred_2))\n",
        "\n",
        "\n",
        "print(\"\")\n",
        "# hacer predicciones en el conjunto de prueba\n",
        "y_pred_2 = regr_2.predict(X_test_2)\n",
        "# RESULTADOS TEST SET\n",
        "print(\"RESULTADOS TEST SET\")\n",
        "# calcular el RMSE de nuestras predicciones\n",
        "print('RMSE = %.4f' % np.sqrt(metrics.mean_squared_error(y_test_2, y_pred_2)))\n",
        "# Explicación de la varianza: 1 es predicción perfecta\n",
        "print('Variance score = %.4f' % metrics.r2_score(y_test_2, y_pred_2))"
      ],
      "execution_count": 130,
      "outputs": [
        {
          "output_type": "stream",
          "text": [
            "RESULTADOS TRAIN SET\n",
            "RMSE = 1.7468\n",
            "Variance score = 0.9057\n",
            "\n",
            "RESULTADOS TEST SET\n",
            "RMSE = 2.4364\n",
            "Variance score = 0.8071\n"
          ],
          "name": "stdout"
        }
      ]
    },
    {
      "cell_type": "code",
      "metadata": {
        "id": "zPPwCpYEq7of",
        "colab_type": "code",
        "colab": {
          "base_uri": "https://localhost:8080/",
          "height": 272
        },
        "outputId": "c1a3928b-b03b-4b96-a78a-abb6aba9fbb7"
      },
      "source": [
        "#Evaluation of various combinations of SGB\n",
        "\n",
        "#Import the library\n",
        "from sklearn.ensemble import GradientBoostingRegressor\n",
        "\n",
        "#Add the n_estimators value to the below list if you want to run the algo\n",
        "#n_list = np.array([ 60,70,80,90,150,500])\n",
        "#Add the n_estimators value to the below list if you want to run the algo\n",
        "n_list = np.array([ 150,200,250,300,500])\n",
        "\n",
        "for n_estimators in n_list:\n",
        "    #Set the base model\n",
        "    model = GradientBoostingRegressor(n_estimators=n_estimators,random_state=1)\n",
        "    model.fit(X_train_2, y_train_2)\n",
        "    # hacer predicciones en el conjunto de prueba\n",
        "    y_pred_2 = model.predict(X_test_2)\n",
        "    print('n_estimators = ', n_estimators)\n",
        "    # calcular el RMSE de nuestras predicciones\n",
        "    print('RMSE = %.4f' % np.sqrt(metrics.mean_squared_error(y_test_2, y_pred_2)))\n",
        "    # Explicación de la varianza: 1 es predicción perfecta\n",
        "    print('Variance score = %.4f' % metrics.r2_score(y_test_2, y_pred_2))"
      ],
      "execution_count": 131,
      "outputs": [
        {
          "output_type": "stream",
          "text": [
            "n_estimators =  150\n",
            "RMSE = 2.3090\n",
            "Variance score = 0.8267\n",
            "n_estimators =  200\n",
            "RMSE = 2.3152\n",
            "Variance score = 0.8258\n",
            "n_estimators =  250\n",
            "RMSE = 2.3239\n",
            "Variance score = 0.8245\n",
            "n_estimators =  300\n",
            "RMSE = 2.3320\n",
            "Variance score = 0.8232\n",
            "n_estimators =  500\n",
            "RMSE = 2.3545\n",
            "Variance score = 0.8198\n"
          ],
          "name": "stdout"
        }
      ]
    },
    {
      "cell_type": "markdown",
      "metadata": {
        "id": "cfyXFZuIq7oi",
        "colab_type": "text"
      },
      "source": [
        "### Se concluye que el tercer set da mejor RMSE y Variance score con XGBOOST"
      ]
    },
    {
      "cell_type": "markdown",
      "metadata": {
        "id": "y_mfnLU5q7oi",
        "colab_type": "text"
      },
      "source": [
        "Realizamos tuning a XGBOOST REGRESSOR"
      ]
    },
    {
      "cell_type": "code",
      "metadata": {
        "id": "hRSgccsXq7oj",
        "colab_type": "code",
        "colab": {}
      },
      "source": [
        "from sklearn.model_selection import GridSearchCV\n",
        "xgb = XGBRegressor(tree_method='gpu_hist')\n",
        "\n",
        "parameters = {'random_state':[2],\n",
        "              'learning_rate': [0.04,0.01,0.05,0.02], \n",
        "              'max_depth': [2,3,4,5],\n",
        "              'min_child_weight': [2,3,4,5],\n",
        "              'subsample': [0.4,0.6,0.8,0.85],\n",
        "              'colsample_bytree': [0.6, 0.7,0.8,0.85],\n",
        "              'n_estimators': [150,300,400,500]}\n",
        "\n",
        "xgb_grid = GridSearchCV(xgb,\n",
        "                    parameters,\n",
        "                    scoring='neg_mean_squared_error', #this line can be commented to use XGB's default metric\n",
        "                    cv = 5,\n",
        "                    n_jobs = -1,\n",
        "                    verbose=True)"
      ],
      "execution_count": null,
      "outputs": []
    },
    {
      "cell_type": "code",
      "metadata": {
        "id": "8_YNz_d5q7ol",
        "colab_type": "code",
        "colab": {}
      },
      "source": [
        "xgb_grid.fit(X_train_2, y_train_2)\n",
        "xgb_grid.best_params_"
      ],
      "execution_count": null,
      "outputs": []
    },
    {
      "cell_type": "markdown",
      "metadata": {
        "id": "0opzagYuq7om",
        "colab_type": "text"
      },
      "source": [
        "Probramos con best params"
      ]
    },
    {
      "cell_type": "code",
      "metadata": {
        "id": "wsh-l6ySq7op",
        "colab_type": "code",
        "colab": {
          "base_uri": "https://localhost:8080/",
          "height": 68
        },
        "outputId": "c4ed373e-2660-4bef-c884-dd5643155c93"
      },
      "source": [
        "#Evaluation of various combinations of XGB\n",
        "\n",
        "#Import the library\n",
        "from xgboost import XGBRegressor\n",
        "xgb = XGBRegressor(\n",
        "random_state=2, \n",
        "colsample_bytree=0.85,\n",
        "learning_rate= 0.04,\n",
        "max_depth= 2,\n",
        "min_child_weight = 5,\n",
        "n_estimators=400,\n",
        "subsample=0.85)\n",
        "\n",
        "xgb.fit(X_train_2, y_train_2)\n",
        "y_pred_2 = xgb.predict(X_test_2)\n",
        "# calcular el RMSE de nuestras predicciones\n",
        "print('RMSE = %.4f' % np.sqrt(metrics.mean_squared_error(y_test_2, y_pred_2)))\n",
        "# Explicación de la varianza: 1 es predicción perfecta\n",
        "print('Variance score = %.4f' % metrics.r2_score(y_test_2, y_pred_2))"
      ],
      "execution_count": 196,
      "outputs": [
        {
          "output_type": "stream",
          "text": [
            "[21:35:18] WARNING: /workspace/src/objective/regression_obj.cu:152: reg:linear is now deprecated in favor of reg:squarederror.\n",
            "RMSE = 2.3090\n",
            "Variance score = 0.8267\n"
          ],
          "name": "stdout"
        }
      ]
    },
    {
      "cell_type": "markdown",
      "metadata": {
        "id": "LwAVlJ4DjW6g",
        "colab_type": "text"
      },
      "source": [
        "# Una vez que tengamos el preprocesamiento, feature engineering y el modelo definido se procede a realizar predicciones sobre el set de prueba."
      ]
    },
    {
      "cell_type": "markdown",
      "metadata": {
        "id": "xYKwgCwnq7or",
        "colab_type": "text"
      },
      "source": [
        "<hr>"
      ]
    },
    {
      "cell_type": "markdown",
      "metadata": {
        "id": "_ZpQh57nq7or",
        "colab_type": "text"
      },
      "source": [
        "## Completar los datos necesarios para entregar la solución\n",
        "\n",
        "### Como entrega de su solución, esperamos los resultados numéricos predichos por su modelo. Como entrada utilizará el archivo \"to_be_scored.csv\""
      ]
    },
    {
      "cell_type": "code",
      "metadata": {
        "id": "9dFHQN_yq7or",
        "colab_type": "code",
        "colab": {
          "base_uri": "https://localhost:8080/",
          "height": 391
        },
        "outputId": "2d75cd3d-85b2-4c02-e384-99f1b6b86cbb"
      },
      "source": [
        "!wget --no-check-certificate --content-disposition https://raw.githubusercontent.com/vanderlei-test/654986294958/master/to_be_scored_digitalhouse.csv\n",
        "df_to_be_scored = pd.read_csv(r'to_be_scored_digitalhouse.csv')\n",
        "df_to_be_scored.tail()"
      ],
      "execution_count": 132,
      "outputs": [
        {
          "output_type": "stream",
          "text": [
            "--2020-09-21 21:26:02--  https://raw.githubusercontent.com/vanderlei-test/654986294958/master/to_be_scored_digitalhouse.csv\n",
            "Resolving raw.githubusercontent.com (raw.githubusercontent.com)... 151.101.0.133, 151.101.64.133, 151.101.128.133, ...\n",
            "Connecting to raw.githubusercontent.com (raw.githubusercontent.com)|151.101.0.133|:443... connected.\n",
            "HTTP request sent, awaiting response... 200 OK\n",
            "Length: 67308 (66K) [text/plain]\n",
            "Saving to: ‘to_be_scored_digitalhouse.csv’\n",
            "\n",
            "to_be_scored_digita 100%[===================>]  65.73K  --.-KB/s    in 0.03s   \n",
            "\n",
            "2020-09-21 21:26:03 (2.48 MB/s) - ‘to_be_scored_digitalhouse.csv’ saved [67308/67308]\n",
            "\n"
          ],
          "name": "stdout"
        },
        {
          "output_type": "execute_result",
          "data": {
            "text/html": [
              "<div>\n",
              "<style scoped>\n",
              "    .dataframe tbody tr th:only-of-type {\n",
              "        vertical-align: middle;\n",
              "    }\n",
              "\n",
              "    .dataframe tbody tr th {\n",
              "        vertical-align: top;\n",
              "    }\n",
              "\n",
              "    .dataframe thead th {\n",
              "        text-align: right;\n",
              "    }\n",
              "</style>\n",
              "<table border=\"1\" class=\"dataframe\">\n",
              "  <thead>\n",
              "    <tr style=\"text-align: right;\">\n",
              "      <th></th>\n",
              "      <th>Unnamed: 0</th>\n",
              "      <th>EDAD</th>\n",
              "      <th>GENERO</th>\n",
              "      <th>RESIDENCIA</th>\n",
              "      <th>NV_ESTUDIO</th>\n",
              "      <th>ESTUDIO_PREV</th>\n",
              "      <th>TRACK_DH</th>\n",
              "      <th>AVG_DH</th>\n",
              "      <th>MINUTES_DH</th>\n",
              "      <th>EXPERIENCIA</th>\n",
              "      <th>Unnamed: 10</th>\n",
              "    </tr>\n",
              "  </thead>\n",
              "  <tbody>\n",
              "    <tr>\n",
              "      <th>995</th>\n",
              "      <td>995</td>\n",
              "      <td>33.0</td>\n",
              "      <td>MASCULINO</td>\n",
              "      <td>ARGENTINA</td>\n",
              "      <td>UNIVERSITARY</td>\n",
              "      <td>COMMERCIAL</td>\n",
              "      <td>PROGRAMACION</td>\n",
              "      <td>3.6</td>\n",
              "      <td>4576.5</td>\n",
              "      <td>15.1</td>\n",
              "      <td>NaN</td>\n",
              "    </tr>\n",
              "    <tr>\n",
              "      <th>996</th>\n",
              "      <td>996</td>\n",
              "      <td>40.0</td>\n",
              "      <td>MASCULINO</td>\n",
              "      <td>ARGENTINA</td>\n",
              "      <td>TERTIARY</td>\n",
              "      <td>COMMERCIAL</td>\n",
              "      <td>PROGRAMACION</td>\n",
              "      <td>3.4</td>\n",
              "      <td>4542.9</td>\n",
              "      <td>26.1</td>\n",
              "      <td>NaN</td>\n",
              "    </tr>\n",
              "    <tr>\n",
              "      <th>997</th>\n",
              "      <td>997</td>\n",
              "      <td>NaN</td>\n",
              "      <td>FEMENINO</td>\n",
              "      <td>ARGENTINA</td>\n",
              "      <td>UNIVERSITARY</td>\n",
              "      <td>ENGINEERING</td>\n",
              "      <td>DATA</td>\n",
              "      <td>3.4</td>\n",
              "      <td>NaN</td>\n",
              "      <td>27.4</td>\n",
              "      <td>NaN</td>\n",
              "    </tr>\n",
              "    <tr>\n",
              "      <th>998</th>\n",
              "      <td>998</td>\n",
              "      <td>NaN</td>\n",
              "      <td>MASCULINO</td>\n",
              "      <td>MEXICO</td>\n",
              "      <td>UNIVERSITARY</td>\n",
              "      <td>ENGINEERING</td>\n",
              "      <td>DATA</td>\n",
              "      <td>3.7</td>\n",
              "      <td>4730.4</td>\n",
              "      <td>1.1</td>\n",
              "      <td>NaN</td>\n",
              "    </tr>\n",
              "    <tr>\n",
              "      <th>999</th>\n",
              "      <td>999</td>\n",
              "      <td>36.0</td>\n",
              "      <td>NaN</td>\n",
              "      <td>ARGENTINA</td>\n",
              "      <td>UNIVERSITARY</td>\n",
              "      <td>NaN</td>\n",
              "      <td>PROGRAMACION</td>\n",
              "      <td>3.3</td>\n",
              "      <td>4506.5</td>\n",
              "      <td>20.4</td>\n",
              "      <td>NaN</td>\n",
              "    </tr>\n",
              "  </tbody>\n",
              "</table>\n",
              "</div>"
            ],
            "text/plain": [
              "     Unnamed: 0  EDAD     GENERO  ... MINUTES_DH EXPERIENCIA Unnamed: 10\n",
              "995         995  33.0  MASCULINO  ...     4576.5        15.1         NaN\n",
              "996         996  40.0  MASCULINO  ...     4542.9        26.1         NaN\n",
              "997         997   NaN   FEMENINO  ...        NaN        27.4         NaN\n",
              "998         998   NaN  MASCULINO  ...     4730.4         1.1         NaN\n",
              "999         999  36.0        NaN  ...     4506.5        20.4         NaN\n",
              "\n",
              "[5 rows x 11 columns]"
            ]
          },
          "metadata": {
            "tags": []
          },
          "execution_count": 132
        }
      ]
    },
    {
      "cell_type": "markdown",
      "metadata": {
        "id": "_OuredJgq7ou",
        "colab_type": "text"
      },
      "source": [
        "# ¡Atención!\n",
        "\n",
        "### El marco de datos ``to_be_scored`` es su \"hoja de evaluación\". Tenga en cuenta que la columna \"target\" no existe en esta muestra, por lo que no se puede utilizar para modelos de entrenamiento basados en el aprendizaje supervisado."
      ]
    },
    {
      "cell_type": "markdown",
      "metadata": {
        "id": "7pba0uSGq7ou",
        "colab_type": "text"
      },
      "source": [
        "# ¡Atención!\n",
        "\n",
        "### Debes realizar los mismos pasos de procesamiento previo que hiciste en el conjunto de datos de entrenamiento antes de calificar la \"hoja de respuestas\""
      ]
    },
    {
      "cell_type": "markdown",
      "metadata": {
        "id": "TaviL-xZq7ou",
        "colab_type": "text"
      },
      "source": [
        "Miramos cuantos nullos tenemos"
      ]
    },
    {
      "cell_type": "code",
      "metadata": {
        "id": "OByUcC4cq7ov",
        "colab_type": "code",
        "colab": {}
      },
      "source": [
        "df_to_be_scored=df_to_be_scored[['EDAD','GENERO','RESIDENCIA','NV_ESTUDIO','ESTUDIO_PREV','TRACK_DH','AVG_DH','MINUTES_DH','EXPERIENCIA']]"
      ],
      "execution_count": 156,
      "outputs": []
    },
    {
      "cell_type": "code",
      "metadata": {
        "id": "MgGcoNH-q7ox",
        "colab_type": "code",
        "colab": {
          "base_uri": "https://localhost:8080/",
          "height": 238
        },
        "outputId": "88368115-d311-4eab-e2fe-787dbae065a8"
      },
      "source": [
        "# Mostrando los datos nulos del dataset \n",
        "print(\"Valores nulos del df_training_dataset antes de rellenar nan: \\n\\n{}\\n\".format(df_to_be_scored.isnull().sum(axis = 0)))"
      ],
      "execution_count": 157,
      "outputs": [
        {
          "output_type": "stream",
          "text": [
            "Valores nulos del df_training_dataset antes de rellenar nan: \n",
            "\n",
            "EDAD            139\n",
            "GENERO          132\n",
            "RESIDENCIA      169\n",
            "NV_ESTUDIO      142\n",
            "ESTUDIO_PREV    140\n",
            "TRACK_DH        153\n",
            "AVG_DH          160\n",
            "MINUTES_DH      164\n",
            "EXPERIENCIA     145\n",
            "dtype: int64\n",
            "\n"
          ],
          "name": "stdout"
        }
      ]
    },
    {
      "cell_type": "markdown",
      "metadata": {
        "id": "SHCm0ttXj137",
        "colab_type": "text"
      },
      "source": [
        "## Realizamos los mismos pasos de preprocesamiento"
      ]
    },
    {
      "cell_type": "markdown",
      "metadata": {
        "id": "iapxa2_uq7oz",
        "colab_type": "text"
      },
      "source": [
        "Llenando datos columna EXPERIENCIA"
      ]
    },
    {
      "cell_type": "code",
      "metadata": {
        "id": "iWCfgoctq7oz",
        "colab_type": "code",
        "colab": {}
      },
      "source": [
        "df_test_total=df_to_be_scored.copy()"
      ],
      "execution_count": 158,
      "outputs": []
    },
    {
      "cell_type": "code",
      "metadata": {
        "id": "o3g2St-Yq7o5",
        "colab_type": "code",
        "colab": {
          "base_uri": "https://localhost:8080/",
          "height": 204
        },
        "outputId": "9ae1a79c-9b41-43e9-8c20-931e4e42a9f1"
      },
      "source": [
        "## Subconjunto sin valores nan en la columna EDAD\n",
        "df_to_be_scored_1 = df_to_be_scored[['EDAD', 'EXPERIENCIA']].dropna(subset=['EDAD'])\n",
        "df_to_be_scored_1.tail()"
      ],
      "execution_count": 159,
      "outputs": [
        {
          "output_type": "execute_result",
          "data": {
            "text/html": [
              "<div>\n",
              "<style scoped>\n",
              "    .dataframe tbody tr th:only-of-type {\n",
              "        vertical-align: middle;\n",
              "    }\n",
              "\n",
              "    .dataframe tbody tr th {\n",
              "        vertical-align: top;\n",
              "    }\n",
              "\n",
              "    .dataframe thead th {\n",
              "        text-align: right;\n",
              "    }\n",
              "</style>\n",
              "<table border=\"1\" class=\"dataframe\">\n",
              "  <thead>\n",
              "    <tr style=\"text-align: right;\">\n",
              "      <th></th>\n",
              "      <th>EDAD</th>\n",
              "      <th>EXPERIENCIA</th>\n",
              "    </tr>\n",
              "  </thead>\n",
              "  <tbody>\n",
              "    <tr>\n",
              "      <th>993</th>\n",
              "      <td>28.0</td>\n",
              "      <td>6.4</td>\n",
              "    </tr>\n",
              "    <tr>\n",
              "      <th>994</th>\n",
              "      <td>34.0</td>\n",
              "      <td>NaN</td>\n",
              "    </tr>\n",
              "    <tr>\n",
              "      <th>995</th>\n",
              "      <td>33.0</td>\n",
              "      <td>15.1</td>\n",
              "    </tr>\n",
              "    <tr>\n",
              "      <th>996</th>\n",
              "      <td>40.0</td>\n",
              "      <td>26.1</td>\n",
              "    </tr>\n",
              "    <tr>\n",
              "      <th>999</th>\n",
              "      <td>36.0</td>\n",
              "      <td>20.4</td>\n",
              "    </tr>\n",
              "  </tbody>\n",
              "</table>\n",
              "</div>"
            ],
            "text/plain": [
              "     EDAD  EXPERIENCIA\n",
              "993  28.0          6.4\n",
              "994  34.0          NaN\n",
              "995  33.0         15.1\n",
              "996  40.0         26.1\n",
              "999  36.0         20.4"
            ]
          },
          "metadata": {
            "tags": []
          },
          "execution_count": 159
        }
      ]
    },
    {
      "cell_type": "code",
      "metadata": {
        "id": "8vkCYVLxq7o_",
        "colab_type": "code",
        "colab": {}
      },
      "source": [
        "## Obtenemos los indices de las filas con valor nan de experiencia\n",
        "indices_valores_nan_experiencia_test=np.array(df_to_be_scored_1[df_to_be_scored_1['EXPERIENCIA'].isna()].index)"
      ],
      "execution_count": 160,
      "outputs": []
    },
    {
      "cell_type": "code",
      "metadata": {
        "id": "qQh7lJDKq7pC",
        "colab_type": "code",
        "colab": {
          "base_uri": "https://localhost:8080/",
          "height": 102
        },
        "outputId": "c96abc27-ae73-471d-b0bb-74d641228c87"
      },
      "source": [
        "for i in range(len(indices_valores_nan_experiencia_test)):\n",
        "    df_test_total['EXPERIENCIA'][indices_valores_nan_experiencia_test[i]]=p(df_test_total['EDAD'].iloc[indices_valores_nan_experiencia_test[i]])"
      ],
      "execution_count": 161,
      "outputs": [
        {
          "output_type": "stream",
          "text": [
            "/usr/local/lib/python3.6/dist-packages/ipykernel_launcher.py:2: SettingWithCopyWarning: \n",
            "A value is trying to be set on a copy of a slice from a DataFrame\n",
            "\n",
            "See the caveats in the documentation: https://pandas.pydata.org/pandas-docs/stable/user_guide/indexing.html#returning-a-view-versus-a-copy\n",
            "  \n"
          ],
          "name": "stderr"
        }
      ]
    },
    {
      "cell_type": "code",
      "metadata": {
        "id": "VJ_Q5sbSq7pE",
        "colab_type": "code",
        "colab": {
          "base_uri": "https://localhost:8080/",
          "height": 238
        },
        "outputId": "1f2812e4-0caa-40d3-d145-08bb18f709f8"
      },
      "source": [
        "# Mostrando los datos nulos del dataset \n",
        "print(\"Valores nulos del df_training_dataset antes de rellenar nan: \\n\\n{}\\n\".format(df_test_total.isnull().sum(axis = 0)))"
      ],
      "execution_count": 162,
      "outputs": [
        {
          "output_type": "stream",
          "text": [
            "Valores nulos del df_training_dataset antes de rellenar nan: \n",
            "\n",
            "EDAD            139\n",
            "GENERO          132\n",
            "RESIDENCIA      169\n",
            "NV_ESTUDIO      142\n",
            "ESTUDIO_PREV    140\n",
            "TRACK_DH        153\n",
            "AVG_DH          160\n",
            "MINUTES_DH      164\n",
            "EXPERIENCIA      18\n",
            "dtype: int64\n",
            "\n"
          ],
          "name": "stdout"
        }
      ]
    },
    {
      "cell_type": "markdown",
      "metadata": {
        "id": "nL0c1F6rq7pG",
        "colab_type": "text"
      },
      "source": [
        "Llenando datos columna MINUTES_DH"
      ]
    },
    {
      "cell_type": "code",
      "metadata": {
        "id": "-0EasA5uq7pG",
        "colab_type": "code",
        "colab": {
          "base_uri": "https://localhost:8080/",
          "height": 204
        },
        "outputId": "935410e7-d4f9-4c23-cf51-eff0cff89945"
      },
      "source": [
        "# Completando datos en las columnas EDAD y EXPERIENCIA\n",
        "df_to_be_scored_2 = df_test_total[['AVG_DH', 'MINUTES_DH']].dropna(subset=['AVG_DH'])\n",
        "df_to_be_scored_2.tail()"
      ],
      "execution_count": 163,
      "outputs": [
        {
          "output_type": "execute_result",
          "data": {
            "text/html": [
              "<div>\n",
              "<style scoped>\n",
              "    .dataframe tbody tr th:only-of-type {\n",
              "        vertical-align: middle;\n",
              "    }\n",
              "\n",
              "    .dataframe tbody tr th {\n",
              "        vertical-align: top;\n",
              "    }\n",
              "\n",
              "    .dataframe thead th {\n",
              "        text-align: right;\n",
              "    }\n",
              "</style>\n",
              "<table border=\"1\" class=\"dataframe\">\n",
              "  <thead>\n",
              "    <tr style=\"text-align: right;\">\n",
              "      <th></th>\n",
              "      <th>AVG_DH</th>\n",
              "      <th>MINUTES_DH</th>\n",
              "    </tr>\n",
              "  </thead>\n",
              "  <tbody>\n",
              "    <tr>\n",
              "      <th>995</th>\n",
              "      <td>3.6</td>\n",
              "      <td>4576.5</td>\n",
              "    </tr>\n",
              "    <tr>\n",
              "      <th>996</th>\n",
              "      <td>3.4</td>\n",
              "      <td>4542.9</td>\n",
              "    </tr>\n",
              "    <tr>\n",
              "      <th>997</th>\n",
              "      <td>3.4</td>\n",
              "      <td>NaN</td>\n",
              "    </tr>\n",
              "    <tr>\n",
              "      <th>998</th>\n",
              "      <td>3.7</td>\n",
              "      <td>4730.4</td>\n",
              "    </tr>\n",
              "    <tr>\n",
              "      <th>999</th>\n",
              "      <td>3.3</td>\n",
              "      <td>4506.5</td>\n",
              "    </tr>\n",
              "  </tbody>\n",
              "</table>\n",
              "</div>"
            ],
            "text/plain": [
              "     AVG_DH  MINUTES_DH\n",
              "995     3.6      4576.5\n",
              "996     3.4      4542.9\n",
              "997     3.4         NaN\n",
              "998     3.7      4730.4\n",
              "999     3.3      4506.5"
            ]
          },
          "metadata": {
            "tags": []
          },
          "execution_count": 163
        }
      ]
    },
    {
      "cell_type": "code",
      "metadata": {
        "id": "5MqDH0wHq7pI",
        "colab_type": "code",
        "colab": {}
      },
      "source": [
        "## Obtenemos los indices de las filas con valor nan de experiencia\n",
        "indices_valores_nan_minutes_test=np.array(df_to_be_scored_2[df_to_be_scored_2['MINUTES_DH'].isna()].index)"
      ],
      "execution_count": 164,
      "outputs": []
    },
    {
      "cell_type": "code",
      "metadata": {
        "id": "o0Rmh8dxq7pJ",
        "colab_type": "code",
        "colab": {
          "base_uri": "https://localhost:8080/",
          "height": 102
        },
        "outputId": "22cd3efe-adb9-45c6-96ec-fbf0777ce14f"
      },
      "source": [
        "for i in range(len(indices_valores_nan_minutes_test)):\n",
        "    df_test_total['MINUTES_DH'][indices_valores_nan_minutes_test[i]]=p1(df_test_total['AVG_DH'].iloc[indices_valores_nan_minutes_test[i]])"
      ],
      "execution_count": 165,
      "outputs": [
        {
          "output_type": "stream",
          "text": [
            "/usr/local/lib/python3.6/dist-packages/ipykernel_launcher.py:2: SettingWithCopyWarning: \n",
            "A value is trying to be set on a copy of a slice from a DataFrame\n",
            "\n",
            "See the caveats in the documentation: https://pandas.pydata.org/pandas-docs/stable/user_guide/indexing.html#returning-a-view-versus-a-copy\n",
            "  \n"
          ],
          "name": "stderr"
        }
      ]
    },
    {
      "cell_type": "code",
      "metadata": {
        "id": "mw1FYmZWq7pL",
        "colab_type": "code",
        "colab": {
          "base_uri": "https://localhost:8080/",
          "height": 238
        },
        "outputId": "9b4757f8-3313-4a1b-a0c4-f95a02fc0f48"
      },
      "source": [
        "# Mostrando los datos nulos del dataset \n",
        "print(\"Valores nulos del df_training_dataset antes de rellenar nan: \\n\\n{}\\n\".format(df_test_total.isnull().sum(axis = 0)))"
      ],
      "execution_count": 166,
      "outputs": [
        {
          "output_type": "stream",
          "text": [
            "Valores nulos del df_training_dataset antes de rellenar nan: \n",
            "\n",
            "EDAD            139\n",
            "GENERO          132\n",
            "RESIDENCIA      169\n",
            "NV_ESTUDIO      142\n",
            "ESTUDIO_PREV    140\n",
            "TRACK_DH        153\n",
            "AVG_DH          160\n",
            "MINUTES_DH       30\n",
            "EXPERIENCIA      18\n",
            "dtype: int64\n",
            "\n"
          ],
          "name": "stdout"
        }
      ]
    },
    {
      "cell_type": "markdown",
      "metadata": {
        "id": "YzADl7aoq7pN",
        "colab_type": "text"
      },
      "source": [
        "Llenando datos columna AVG_DH"
      ]
    },
    {
      "cell_type": "code",
      "metadata": {
        "id": "HIPMDFwlq7pO",
        "colab_type": "code",
        "colab": {}
      },
      "source": [
        "df_to_be_scored_3=df_to_be_scored.dropna(subset=['MINUTES_DH'])"
      ],
      "execution_count": 167,
      "outputs": []
    },
    {
      "cell_type": "code",
      "metadata": {
        "id": "k4DMrbNpq7pP",
        "colab_type": "code",
        "colab": {}
      },
      "source": [
        "indices_nan_avg_test=df_to_be_scored_3[df_to_be_scored_3['AVG_DH'].isna()].index"
      ],
      "execution_count": 168,
      "outputs": []
    },
    {
      "cell_type": "code",
      "metadata": {
        "id": "LyUpx3coq7pQ",
        "colab_type": "code",
        "colab": {
          "base_uri": "https://localhost:8080/",
          "height": 102
        },
        "outputId": "55275ae1-76c1-4faf-c030-ee36423f8908"
      },
      "source": [
        "for i in indices_nan_avg_test:\n",
        "  #print('i = ',i)\n",
        "  for j in np.array(df_training_dataset_6.index):\n",
        "    if df_test_total['MINUTES_DH'].loc[i].astype(int)==df_training_dataset_6['MINUTES_DH'].loc[j].astype(int):\n",
        "        df_test_total['AVG_DH'].loc[i]= df_training_dataset_6['AVG_DH'].loc[j]\n",
        "        break\n",
        "      #print('j = ',j)"
      ],
      "execution_count": 169,
      "outputs": [
        {
          "output_type": "stream",
          "text": [
            "/usr/local/lib/python3.6/dist-packages/pandas/core/indexing.py:671: SettingWithCopyWarning: \n",
            "A value is trying to be set on a copy of a slice from a DataFrame\n",
            "\n",
            "See the caveats in the documentation: https://pandas.pydata.org/pandas-docs/stable/user_guide/indexing.html#returning-a-view-versus-a-copy\n",
            "  self._setitem_with_indexer(indexer, value)\n"
          ],
          "name": "stderr"
        }
      ]
    },
    {
      "cell_type": "code",
      "metadata": {
        "id": "MNq5AdiMq7pS",
        "colab_type": "code",
        "colab": {
          "base_uri": "https://localhost:8080/",
          "height": 238
        },
        "outputId": "fed859ba-bd31-4b88-a3bb-74f1eb82c9ba"
      },
      "source": [
        "# Mostrando los datos nulos del dataset \n",
        "print(\"Valores nulos del df_training_dataset antes de rellenar nan: \\n\\n{}\\n\".format(df_test_total.isnull().sum(axis = 0)))"
      ],
      "execution_count": 170,
      "outputs": [
        {
          "output_type": "stream",
          "text": [
            "Valores nulos del df_training_dataset antes de rellenar nan: \n",
            "\n",
            "EDAD            139\n",
            "GENERO          132\n",
            "RESIDENCIA      169\n",
            "NV_ESTUDIO      142\n",
            "ESTUDIO_PREV    140\n",
            "TRACK_DH        153\n",
            "AVG_DH           65\n",
            "MINUTES_DH       30\n",
            "EXPERIENCIA      18\n",
            "dtype: int64\n",
            "\n"
          ],
          "name": "stdout"
        }
      ]
    },
    {
      "cell_type": "markdown",
      "metadata": {
        "id": "zTSbgc-wq7pT",
        "colab_type": "text"
      },
      "source": [
        "Llenando datos columna EDAD"
      ]
    },
    {
      "cell_type": "code",
      "metadata": {
        "id": "3Ad0pbgXq7pU",
        "colab_type": "code",
        "colab": {}
      },
      "source": [
        "df_to_be_scored_4=df_to_be_scored.dropna(subset=['EXPERIENCIA'])"
      ],
      "execution_count": 171,
      "outputs": []
    },
    {
      "cell_type": "code",
      "metadata": {
        "id": "w_PvY58Tq7pX",
        "colab_type": "code",
        "colab": {}
      },
      "source": [
        "indices_nan_edad_test=df_to_be_scored_4[df_to_be_scored_4['EDAD'].isna()].index"
      ],
      "execution_count": 172,
      "outputs": []
    },
    {
      "cell_type": "code",
      "metadata": {
        "id": "yToLeqN1q7pY",
        "colab_type": "code",
        "colab": {
          "base_uri": "https://localhost:8080/",
          "height": 102
        },
        "outputId": "4b3ff574-1084-4d4c-e058-34df6b773f48"
      },
      "source": [
        "for i in indices_nan_edad_test:\n",
        "  #print('i = ',i)\n",
        "  for j in np.array(df_training_dataset_7.index):\n",
        "    if df_test_total['EXPERIENCIA'].loc[i].astype(int)==df_training_dataset_7['EXPERIENCIA'].loc[j].astype(int):\n",
        "        df_test_total['EDAD'].loc[i]= df_training_dataset_7['EDAD'].loc[j]\n",
        "        break\n",
        "      #print('j = ',j)"
      ],
      "execution_count": 173,
      "outputs": [
        {
          "output_type": "stream",
          "text": [
            "/usr/local/lib/python3.6/dist-packages/pandas/core/indexing.py:671: SettingWithCopyWarning: \n",
            "A value is trying to be set on a copy of a slice from a DataFrame\n",
            "\n",
            "See the caveats in the documentation: https://pandas.pydata.org/pandas-docs/stable/user_guide/indexing.html#returning-a-view-versus-a-copy\n",
            "  self._setitem_with_indexer(indexer, value)\n"
          ],
          "name": "stderr"
        }
      ]
    },
    {
      "cell_type": "code",
      "metadata": {
        "id": "EofU-zonq7pc",
        "colab_type": "code",
        "colab": {
          "base_uri": "https://localhost:8080/",
          "height": 238
        },
        "outputId": "06de9e02-c02e-4a3b-883e-d44bf838ba2c"
      },
      "source": [
        "# Mostrando los datos nulos del dataset \n",
        "print(\"Valores nulos del df_training_dataset antes de rellenar nan: \\n\\n{}\\n\".format(df_test_total.isnull().sum(axis = 0)))"
      ],
      "execution_count": 174,
      "outputs": [
        {
          "output_type": "stream",
          "text": [
            "Valores nulos del df_training_dataset antes de rellenar nan: \n",
            "\n",
            "EDAD             26\n",
            "GENERO          132\n",
            "RESIDENCIA      169\n",
            "NV_ESTUDIO      142\n",
            "ESTUDIO_PREV    140\n",
            "TRACK_DH        153\n",
            "AVG_DH           65\n",
            "MINUTES_DH       30\n",
            "EXPERIENCIA      18\n",
            "dtype: int64\n",
            "\n"
          ],
          "name": "stdout"
        }
      ]
    },
    {
      "cell_type": "code",
      "metadata": {
        "id": "apjIbTeYq7pe",
        "colab_type": "code",
        "colab": {}
      },
      "source": [
        "X_t=df_test_total"
      ],
      "execution_count": 178,
      "outputs": []
    },
    {
      "cell_type": "markdown",
      "metadata": {
        "id": "QAqJ1YKWkXFV",
        "colab_type": "text"
      },
      "source": [
        "Dividimos en data numerica y categorica"
      ]
    },
    {
      "cell_type": "code",
      "metadata": {
        "id": "uPRmejp2q7pf",
        "colab_type": "code",
        "colab": {}
      },
      "source": [
        "# Seleccionamos columnas con datos numericos\n",
        "Data_numerica_test = X_t.select_dtypes(exclude = 'object')\n",
        "Data_numerica_test.columns = ['EDAD','AVG_DH','EXPERIENCIA','MINUTES_DH']"
      ],
      "execution_count": 179,
      "outputs": []
    },
    {
      "cell_type": "code",
      "metadata": {
        "id": "fAoPiCXeq7ph",
        "colab_type": "code",
        "colab": {
          "base_uri": "https://localhost:8080/",
          "height": 102
        },
        "outputId": "bc932273-b38e-41b0-bfcf-f77f4c62af12"
      },
      "source": [
        "# Completamos valores faltantes con la media del set original\n",
        "Data_numerica_test['EDAD'].fillna((Data_numerica['EDAD'].mean()), inplace=True)\n",
        "Data_numerica_test['AVG_DH'].fillna((Data_numerica['AVG_DH'].mean()), inplace=True)\n",
        "Data_numerica_test['EXPERIENCIA'].fillna((Data_numerica['EXPERIENCIA'].mean()), inplace=True)\n",
        "Data_numerica_test['MINUTES_DH'].fillna((Data_numerica['MINUTES_DH'].mean()), inplace=True)"
      ],
      "execution_count": 181,
      "outputs": [
        {
          "output_type": "stream",
          "text": [
            "/usr/local/lib/python3.6/dist-packages/pandas/core/generic.py:6245: SettingWithCopyWarning: \n",
            "A value is trying to be set on a copy of a slice from a DataFrame\n",
            "\n",
            "See the caveats in the documentation: https://pandas.pydata.org/pandas-docs/stable/user_guide/indexing.html#returning-a-view-versus-a-copy\n",
            "  self._update_inplace(new_data)\n"
          ],
          "name": "stderr"
        }
      ]
    },
    {
      "cell_type": "code",
      "metadata": {
        "id": "5C5q789qq7pi",
        "colab_type": "code",
        "colab": {
          "base_uri": "https://localhost:8080/",
          "height": 204
        },
        "outputId": "a1ccb866-cbb3-4712-efbd-7a91dbbd365e"
      },
      "source": [
        "X_train_numeric_t = pd.DataFrame(ss.fit_transform(Data_numerica_test))\n",
        "X_train_numeric_t.set_index (Data_numerica_test.index, inplace = True)\n",
        "X_train_numeric_t.columns = ['EDAD','AVG_DH','EXPERIENCIA','MINUTES_DH']\n",
        "X_train_numeric_t.tail()"
      ],
      "execution_count": 182,
      "outputs": [
        {
          "output_type": "execute_result",
          "data": {
            "text/html": [
              "<div>\n",
              "<style scoped>\n",
              "    .dataframe tbody tr th:only-of-type {\n",
              "        vertical-align: middle;\n",
              "    }\n",
              "\n",
              "    .dataframe tbody tr th {\n",
              "        vertical-align: top;\n",
              "    }\n",
              "\n",
              "    .dataframe thead th {\n",
              "        text-align: right;\n",
              "    }\n",
              "</style>\n",
              "<table border=\"1\" class=\"dataframe\">\n",
              "  <thead>\n",
              "    <tr style=\"text-align: right;\">\n",
              "      <th></th>\n",
              "      <th>EDAD</th>\n",
              "      <th>AVG_DH</th>\n",
              "      <th>EXPERIENCIA</th>\n",
              "      <th>MINUTES_DH</th>\n",
              "    </tr>\n",
              "  </thead>\n",
              "  <tbody>\n",
              "    <tr>\n",
              "      <th>995</th>\n",
              "      <td>-0.256908</td>\n",
              "      <td>0.215010</td>\n",
              "      <td>0.227696</td>\n",
              "      <td>-0.191511</td>\n",
              "    </tr>\n",
              "    <tr>\n",
              "      <th>996</th>\n",
              "      <td>1.194270</td>\n",
              "      <td>-0.317117</td>\n",
              "      <td>0.159822</td>\n",
              "      <td>1.397985</td>\n",
              "    </tr>\n",
              "    <tr>\n",
              "      <th>997</th>\n",
              "      <td>1.816203</td>\n",
              "      <td>-0.317117</td>\n",
              "      <td>0.154861</td>\n",
              "      <td>1.585834</td>\n",
              "    </tr>\n",
              "    <tr>\n",
              "      <th>998</th>\n",
              "      <td>-0.047677</td>\n",
              "      <td>0.481074</td>\n",
              "      <td>0.538585</td>\n",
              "      <td>-2.214505</td>\n",
              "    </tr>\n",
              "    <tr>\n",
              "      <th>999</th>\n",
              "      <td>0.365025</td>\n",
              "      <td>-0.583181</td>\n",
              "      <td>0.086292</td>\n",
              "      <td>0.574337</td>\n",
              "    </tr>\n",
              "  </tbody>\n",
              "</table>\n",
              "</div>"
            ],
            "text/plain": [
              "         EDAD    AVG_DH  EXPERIENCIA  MINUTES_DH\n",
              "995 -0.256908  0.215010     0.227696   -0.191511\n",
              "996  1.194270 -0.317117     0.159822    1.397985\n",
              "997  1.816203 -0.317117     0.154861    1.585834\n",
              "998 -0.047677  0.481074     0.538585   -2.214505\n",
              "999  0.365025 -0.583181     0.086292    0.574337"
            ]
          },
          "metadata": {
            "tags": []
          },
          "execution_count": 182
        }
      ]
    },
    {
      "cell_type": "code",
      "metadata": {
        "id": "0BJnvK9aq7pj",
        "colab_type": "code",
        "colab": {
          "base_uri": "https://localhost:8080/",
          "height": 34
        },
        "outputId": "212c9508-f3b4-4979-a8e4-b1e4236b8fe9"
      },
      "source": [
        "X_train_numeric_t.shape"
      ],
      "execution_count": 183,
      "outputs": [
        {
          "output_type": "execute_result",
          "data": {
            "text/plain": [
              "(1000, 4)"
            ]
          },
          "metadata": {
            "tags": []
          },
          "execution_count": 183
        }
      ]
    },
    {
      "cell_type": "markdown",
      "metadata": {
        "id": "ttBRo_3ylV-7",
        "colab_type": "text"
      },
      "source": [
        "Data categorica"
      ]
    },
    {
      "cell_type": "code",
      "metadata": {
        "id": "910yOUnYq7pl",
        "colab_type": "code",
        "colab": {}
      },
      "source": [
        "X_train_cat_t = X_t.select_dtypes(include = 'object')"
      ],
      "execution_count": 184,
      "outputs": []
    },
    {
      "cell_type": "code",
      "metadata": {
        "id": "LmTG0wKrq7pm",
        "colab_type": "code",
        "colab": {}
      },
      "source": [
        "X_train_cat_t = X_train_cat_t.apply(lambda x:x.fillna(x.value_counts().index[0]))"
      ],
      "execution_count": 185,
      "outputs": []
    },
    {
      "cell_type": "markdown",
      "metadata": {
        "id": "IHgcoEs_lbQp",
        "colab_type": "text"
      },
      "source": [
        "Binarizamos la columna genero"
      ]
    },
    {
      "cell_type": "code",
      "metadata": {
        "id": "DHX_s1-Iq7pq",
        "colab_type": "code",
        "colab": {}
      },
      "source": [
        "X_train_cat_t.GENERO = bin.fit_transform(X_train_cat_t.GENERO)"
      ],
      "execution_count": 186,
      "outputs": []
    },
    {
      "cell_type": "markdown",
      "metadata": {
        "id": "PB5vMvKPldiu",
        "colab_type": "text"
      },
      "source": [
        "One hot encoding para las demas columnas"
      ]
    },
    {
      "cell_type": "code",
      "metadata": {
        "id": "Gf3WHEO-q7pr",
        "colab_type": "code",
        "colab": {}
      },
      "source": [
        "X_train_cat_t = pd.get_dummies(X_train_cat_t, columns=['RESIDENCIA','NV_ESTUDIO','ESTUDIO_PREV','TRACK_DH'])\n"
      ],
      "execution_count": 187,
      "outputs": []
    },
    {
      "cell_type": "code",
      "metadata": {
        "id": "0B59J8zkq7pu",
        "colab_type": "code",
        "colab": {}
      },
      "source": [
        "X_train_prep_t = pd.merge(X_train_numeric_t,X_train_cat_t , left_index = True, right_index = True)"
      ],
      "execution_count": 188,
      "outputs": []
    },
    {
      "cell_type": "markdown",
      "metadata": {
        "id": "iizPfdd0lkek",
        "colab_type": "text"
      },
      "source": [
        "Generamos los features "
      ]
    },
    {
      "cell_type": "code",
      "metadata": {
        "id": "pjHN0kRaq7p3",
        "colab_type": "code",
        "colab": {}
      },
      "source": [
        "X_train_prep_t['FEATURE1'] = X_train_prep_t['EDAD'] * X_train_prep_t['MINUTES_DH']\n",
        "X_train_prep_t['FEATURE2'] = X_train_prep_t['AVG_DH'] * X_train_prep_t['EXPERIENCIA']\n",
        "X_train_prep_t['FEATURE3'] = X_train_prep_t['EDAD'] * X_train_prep_t['EDAD']* features_2['EDAD']\n",
        "X_train_prep_t['FEATURE4'] = X_train_prep_t['MINUTES_DH'] * X_train_prep_t['MINUTES_DH']"
      ],
      "execution_count": 190,
      "outputs": []
    },
    {
      "cell_type": "code",
      "metadata": {
        "id": "fVAP4d_Zq7pz",
        "colab_type": "code",
        "colab": {
          "base_uri": "https://localhost:8080/",
          "height": 224
        },
        "outputId": "4fb550e0-7691-4a53-fa3d-2cec593ca0a3"
      },
      "source": [
        "X_train_prep_t.tail()"
      ],
      "execution_count": 193,
      "outputs": [
        {
          "output_type": "execute_result",
          "data": {
            "text/html": [
              "<div>\n",
              "<style scoped>\n",
              "    .dataframe tbody tr th:only-of-type {\n",
              "        vertical-align: middle;\n",
              "    }\n",
              "\n",
              "    .dataframe tbody tr th {\n",
              "        vertical-align: top;\n",
              "    }\n",
              "\n",
              "    .dataframe thead th {\n",
              "        text-align: right;\n",
              "    }\n",
              "</style>\n",
              "<table border=\"1\" class=\"dataframe\">\n",
              "  <thead>\n",
              "    <tr style=\"text-align: right;\">\n",
              "      <th></th>\n",
              "      <th>EDAD</th>\n",
              "      <th>AVG_DH</th>\n",
              "      <th>EXPERIENCIA</th>\n",
              "      <th>MINUTES_DH</th>\n",
              "      <th>GENERO</th>\n",
              "      <th>RESIDENCIA_ARGENTINA</th>\n",
              "      <th>RESIDENCIA_BRAZIL</th>\n",
              "      <th>RESIDENCIA_MEXICO</th>\n",
              "      <th>NV_ESTUDIO_POST_GRADUATE</th>\n",
              "      <th>NV_ESTUDIO_TERTIARY</th>\n",
              "      <th>NV_ESTUDIO_UNIVERSITARY</th>\n",
              "      <th>ESTUDIO_PREV_BUSINESS</th>\n",
              "      <th>ESTUDIO_PREV_COMMERCIAL</th>\n",
              "      <th>ESTUDIO_PREV_DEVELOPMENT</th>\n",
              "      <th>ESTUDIO_PREV_ENGINEERING</th>\n",
              "      <th>ESTUDIO_PREV_MARKETING</th>\n",
              "      <th>TRACK_DH_DATA</th>\n",
              "      <th>TRACK_DH_EJECUTIVO</th>\n",
              "      <th>TRACK_DH_MARKETING</th>\n",
              "      <th>TRACK_DH_PROGRAMACION</th>\n",
              "      <th>FEATURE1</th>\n",
              "      <th>FEATURE2</th>\n",
              "      <th>FEATURE3</th>\n",
              "      <th>FEATURE4</th>\n",
              "    </tr>\n",
              "  </thead>\n",
              "  <tbody>\n",
              "    <tr>\n",
              "      <th>995</th>\n",
              "      <td>-0.256908</td>\n",
              "      <td>0.215010</td>\n",
              "      <td>0.227696</td>\n",
              "      <td>-0.191511</td>\n",
              "      <td>1</td>\n",
              "      <td>1</td>\n",
              "      <td>0</td>\n",
              "      <td>0</td>\n",
              "      <td>0</td>\n",
              "      <td>0</td>\n",
              "      <td>1</td>\n",
              "      <td>0</td>\n",
              "      <td>1</td>\n",
              "      <td>0</td>\n",
              "      <td>0</td>\n",
              "      <td>0</td>\n",
              "      <td>0</td>\n",
              "      <td>0</td>\n",
              "      <td>0</td>\n",
              "      <td>1</td>\n",
              "      <td>0.049201</td>\n",
              "      <td>0.048957</td>\n",
              "      <td>0.039860</td>\n",
              "      <td>0.036676</td>\n",
              "    </tr>\n",
              "    <tr>\n",
              "      <th>996</th>\n",
              "      <td>1.194270</td>\n",
              "      <td>-0.317117</td>\n",
              "      <td>0.159822</td>\n",
              "      <td>1.397985</td>\n",
              "      <td>1</td>\n",
              "      <td>1</td>\n",
              "      <td>0</td>\n",
              "      <td>0</td>\n",
              "      <td>0</td>\n",
              "      <td>1</td>\n",
              "      <td>0</td>\n",
              "      <td>0</td>\n",
              "      <td>1</td>\n",
              "      <td>0</td>\n",
              "      <td>0</td>\n",
              "      <td>0</td>\n",
              "      <td>0</td>\n",
              "      <td>0</td>\n",
              "      <td>0</td>\n",
              "      <td>1</td>\n",
              "      <td>1.669571</td>\n",
              "      <td>-0.050682</td>\n",
              "      <td>-0.866687</td>\n",
              "      <td>1.954362</td>\n",
              "    </tr>\n",
              "    <tr>\n",
              "      <th>997</th>\n",
              "      <td>1.816203</td>\n",
              "      <td>-0.317117</td>\n",
              "      <td>0.154861</td>\n",
              "      <td>1.585834</td>\n",
              "      <td>0</td>\n",
              "      <td>1</td>\n",
              "      <td>0</td>\n",
              "      <td>0</td>\n",
              "      <td>0</td>\n",
              "      <td>0</td>\n",
              "      <td>1</td>\n",
              "      <td>0</td>\n",
              "      <td>0</td>\n",
              "      <td>0</td>\n",
              "      <td>1</td>\n",
              "      <td>0</td>\n",
              "      <td>1</td>\n",
              "      <td>0</td>\n",
              "      <td>0</td>\n",
              "      <td>0</td>\n",
              "      <td>2.880197</td>\n",
              "      <td>-0.049109</td>\n",
              "      <td>-3.336569</td>\n",
              "      <td>2.514871</td>\n",
              "    </tr>\n",
              "    <tr>\n",
              "      <th>998</th>\n",
              "      <td>-0.047677</td>\n",
              "      <td>0.481074</td>\n",
              "      <td>0.538585</td>\n",
              "      <td>-2.214505</td>\n",
              "      <td>1</td>\n",
              "      <td>0</td>\n",
              "      <td>0</td>\n",
              "      <td>1</td>\n",
              "      <td>0</td>\n",
              "      <td>0</td>\n",
              "      <td>1</td>\n",
              "      <td>0</td>\n",
              "      <td>0</td>\n",
              "      <td>0</td>\n",
              "      <td>1</td>\n",
              "      <td>0</td>\n",
              "      <td>1</td>\n",
              "      <td>0</td>\n",
              "      <td>0</td>\n",
              "      <td>0</td>\n",
              "      <td>0.105581</td>\n",
              "      <td>0.259099</td>\n",
              "      <td>0.000455</td>\n",
              "      <td>4.904031</td>\n",
              "    </tr>\n",
              "    <tr>\n",
              "      <th>999</th>\n",
              "      <td>0.365025</td>\n",
              "      <td>-0.583181</td>\n",
              "      <td>0.086292</td>\n",
              "      <td>0.574337</td>\n",
              "      <td>1</td>\n",
              "      <td>1</td>\n",
              "      <td>0</td>\n",
              "      <td>0</td>\n",
              "      <td>0</td>\n",
              "      <td>0</td>\n",
              "      <td>1</td>\n",
              "      <td>0</td>\n",
              "      <td>0</td>\n",
              "      <td>0</td>\n",
              "      <td>1</td>\n",
              "      <td>0</td>\n",
              "      <td>0</td>\n",
              "      <td>0</td>\n",
              "      <td>0</td>\n",
              "      <td>1</td>\n",
              "      <td>0.209647</td>\n",
              "      <td>-0.050324</td>\n",
              "      <td>-0.000249</td>\n",
              "      <td>0.329863</td>\n",
              "    </tr>\n",
              "  </tbody>\n",
              "</table>\n",
              "</div>"
            ],
            "text/plain": [
              "         EDAD    AVG_DH  EXPERIENCIA  ...  FEATURE2  FEATURE3  FEATURE4\n",
              "995 -0.256908  0.215010     0.227696  ...  0.048957  0.039860  0.036676\n",
              "996  1.194270 -0.317117     0.159822  ... -0.050682 -0.866687  1.954362\n",
              "997  1.816203 -0.317117     0.154861  ... -0.049109 -3.336569  2.514871\n",
              "998 -0.047677  0.481074     0.538585  ...  0.259099  0.000455  4.904031\n",
              "999  0.365025 -0.583181     0.086292  ... -0.050324 -0.000249  0.329863\n",
              "\n",
              "[5 rows x 24 columns]"
            ]
          },
          "metadata": {
            "tags": []
          },
          "execution_count": 193
        }
      ]
    },
    {
      "cell_type": "markdown",
      "metadata": {
        "id": "ovPXU68dq7p7",
        "colab_type": "text"
      },
      "source": [
        "<hr>\n",
        "\n",
        "### Hacer las predicciones con el método \"predict()\" de sklearn y agregar los resultados en el marco de datos de la \"hoja de evaluación\""
      ]
    },
    {
      "cell_type": "code",
      "metadata": {
        "id": "S70PvuZqq7p7",
        "colab_type": "code",
        "colab": {}
      },
      "source": [
        "df_to_be_scored_3=X_train_prep_t.copy()"
      ],
      "execution_count": 194,
      "outputs": []
    },
    {
      "cell_type": "code",
      "metadata": {
        "scrolled": true,
        "id": "JcakuWJ4q7p8",
        "colab_type": "code",
        "colab": {
          "base_uri": "https://localhost:8080/",
          "height": 224
        },
        "outputId": "cf502690-601c-40d5-ae88-72ae3f722f72"
      },
      "source": [
        "y_pred = xgb.predict(df_to_be_scored_3)\n",
        "df_to_be_scored_3['target'] = y_pred\n",
        "df_to_be_scored_3.tail()"
      ],
      "execution_count": 197,
      "outputs": [
        {
          "output_type": "execute_result",
          "data": {
            "text/html": [
              "<div>\n",
              "<style scoped>\n",
              "    .dataframe tbody tr th:only-of-type {\n",
              "        vertical-align: middle;\n",
              "    }\n",
              "\n",
              "    .dataframe tbody tr th {\n",
              "        vertical-align: top;\n",
              "    }\n",
              "\n",
              "    .dataframe thead th {\n",
              "        text-align: right;\n",
              "    }\n",
              "</style>\n",
              "<table border=\"1\" class=\"dataframe\">\n",
              "  <thead>\n",
              "    <tr style=\"text-align: right;\">\n",
              "      <th></th>\n",
              "      <th>EDAD</th>\n",
              "      <th>AVG_DH</th>\n",
              "      <th>EXPERIENCIA</th>\n",
              "      <th>MINUTES_DH</th>\n",
              "      <th>GENERO</th>\n",
              "      <th>RESIDENCIA_ARGENTINA</th>\n",
              "      <th>RESIDENCIA_BRAZIL</th>\n",
              "      <th>RESIDENCIA_MEXICO</th>\n",
              "      <th>NV_ESTUDIO_POST_GRADUATE</th>\n",
              "      <th>NV_ESTUDIO_TERTIARY</th>\n",
              "      <th>NV_ESTUDIO_UNIVERSITARY</th>\n",
              "      <th>ESTUDIO_PREV_BUSINESS</th>\n",
              "      <th>ESTUDIO_PREV_COMMERCIAL</th>\n",
              "      <th>ESTUDIO_PREV_DEVELOPMENT</th>\n",
              "      <th>ESTUDIO_PREV_ENGINEERING</th>\n",
              "      <th>ESTUDIO_PREV_MARKETING</th>\n",
              "      <th>TRACK_DH_DATA</th>\n",
              "      <th>TRACK_DH_EJECUTIVO</th>\n",
              "      <th>TRACK_DH_MARKETING</th>\n",
              "      <th>TRACK_DH_PROGRAMACION</th>\n",
              "      <th>FEATURE1</th>\n",
              "      <th>FEATURE2</th>\n",
              "      <th>FEATURE3</th>\n",
              "      <th>FEATURE4</th>\n",
              "      <th>target</th>\n",
              "    </tr>\n",
              "  </thead>\n",
              "  <tbody>\n",
              "    <tr>\n",
              "      <th>995</th>\n",
              "      <td>-0.256908</td>\n",
              "      <td>0.215010</td>\n",
              "      <td>0.227696</td>\n",
              "      <td>-0.191511</td>\n",
              "      <td>1</td>\n",
              "      <td>1</td>\n",
              "      <td>0</td>\n",
              "      <td>0</td>\n",
              "      <td>0</td>\n",
              "      <td>0</td>\n",
              "      <td>1</td>\n",
              "      <td>0</td>\n",
              "      <td>1</td>\n",
              "      <td>0</td>\n",
              "      <td>0</td>\n",
              "      <td>0</td>\n",
              "      <td>0</td>\n",
              "      <td>0</td>\n",
              "      <td>0</td>\n",
              "      <td>1</td>\n",
              "      <td>0.049201</td>\n",
              "      <td>0.048957</td>\n",
              "      <td>0.039860</td>\n",
              "      <td>0.036676</td>\n",
              "      <td>87.117088</td>\n",
              "    </tr>\n",
              "    <tr>\n",
              "      <th>996</th>\n",
              "      <td>1.194270</td>\n",
              "      <td>-0.317117</td>\n",
              "      <td>0.159822</td>\n",
              "      <td>1.397985</td>\n",
              "      <td>1</td>\n",
              "      <td>1</td>\n",
              "      <td>0</td>\n",
              "      <td>0</td>\n",
              "      <td>0</td>\n",
              "      <td>1</td>\n",
              "      <td>0</td>\n",
              "      <td>0</td>\n",
              "      <td>1</td>\n",
              "      <td>0</td>\n",
              "      <td>0</td>\n",
              "      <td>0</td>\n",
              "      <td>0</td>\n",
              "      <td>0</td>\n",
              "      <td>0</td>\n",
              "      <td>1</td>\n",
              "      <td>1.669571</td>\n",
              "      <td>-0.050682</td>\n",
              "      <td>-0.866687</td>\n",
              "      <td>1.954362</td>\n",
              "      <td>93.955231</td>\n",
              "    </tr>\n",
              "    <tr>\n",
              "      <th>997</th>\n",
              "      <td>1.816203</td>\n",
              "      <td>-0.317117</td>\n",
              "      <td>0.154861</td>\n",
              "      <td>1.585834</td>\n",
              "      <td>0</td>\n",
              "      <td>1</td>\n",
              "      <td>0</td>\n",
              "      <td>0</td>\n",
              "      <td>0</td>\n",
              "      <td>0</td>\n",
              "      <td>1</td>\n",
              "      <td>0</td>\n",
              "      <td>0</td>\n",
              "      <td>0</td>\n",
              "      <td>1</td>\n",
              "      <td>0</td>\n",
              "      <td>1</td>\n",
              "      <td>0</td>\n",
              "      <td>0</td>\n",
              "      <td>0</td>\n",
              "      <td>2.880197</td>\n",
              "      <td>-0.049109</td>\n",
              "      <td>-3.336569</td>\n",
              "      <td>2.514871</td>\n",
              "      <td>101.151726</td>\n",
              "    </tr>\n",
              "    <tr>\n",
              "      <th>998</th>\n",
              "      <td>-0.047677</td>\n",
              "      <td>0.481074</td>\n",
              "      <td>0.538585</td>\n",
              "      <td>-2.214505</td>\n",
              "      <td>1</td>\n",
              "      <td>0</td>\n",
              "      <td>0</td>\n",
              "      <td>1</td>\n",
              "      <td>0</td>\n",
              "      <td>0</td>\n",
              "      <td>1</td>\n",
              "      <td>0</td>\n",
              "      <td>0</td>\n",
              "      <td>0</td>\n",
              "      <td>1</td>\n",
              "      <td>0</td>\n",
              "      <td>1</td>\n",
              "      <td>0</td>\n",
              "      <td>0</td>\n",
              "      <td>0</td>\n",
              "      <td>0.105581</td>\n",
              "      <td>0.259099</td>\n",
              "      <td>0.000455</td>\n",
              "      <td>4.904031</td>\n",
              "      <td>85.395645</td>\n",
              "    </tr>\n",
              "    <tr>\n",
              "      <th>999</th>\n",
              "      <td>0.365025</td>\n",
              "      <td>-0.583181</td>\n",
              "      <td>0.086292</td>\n",
              "      <td>0.574337</td>\n",
              "      <td>1</td>\n",
              "      <td>1</td>\n",
              "      <td>0</td>\n",
              "      <td>0</td>\n",
              "      <td>0</td>\n",
              "      <td>0</td>\n",
              "      <td>1</td>\n",
              "      <td>0</td>\n",
              "      <td>0</td>\n",
              "      <td>0</td>\n",
              "      <td>1</td>\n",
              "      <td>0</td>\n",
              "      <td>0</td>\n",
              "      <td>0</td>\n",
              "      <td>0</td>\n",
              "      <td>1</td>\n",
              "      <td>0.209647</td>\n",
              "      <td>-0.050324</td>\n",
              "      <td>-0.000249</td>\n",
              "      <td>0.329863</td>\n",
              "      <td>88.106354</td>\n",
              "    </tr>\n",
              "  </tbody>\n",
              "</table>\n",
              "</div>"
            ],
            "text/plain": [
              "         EDAD    AVG_DH  EXPERIENCIA  ...  FEATURE3  FEATURE4      target\n",
              "995 -0.256908  0.215010     0.227696  ...  0.039860  0.036676   87.117088\n",
              "996  1.194270 -0.317117     0.159822  ... -0.866687  1.954362   93.955231\n",
              "997  1.816203 -0.317117     0.154861  ... -3.336569  2.514871  101.151726\n",
              "998 -0.047677  0.481074     0.538585  ...  0.000455  4.904031   85.395645\n",
              "999  0.365025 -0.583181     0.086292  ... -0.000249  0.329863   88.106354\n",
              "\n",
              "[5 rows x 25 columns]"
            ]
          },
          "metadata": {
            "tags": []
          },
          "execution_count": 197
        }
      ]
    },
    {
      "cell_type": "markdown",
      "metadata": {
        "id": "A6EfWfZOq7p_",
        "colab_type": "text"
      },
      "source": [
        "# ¡Atención!\n",
        "\n",
        "### La columna agregada con los resultados debe llamarse \"target\", de lo contrario, su envío fallará."
      ]
    },
    {
      "cell_type": "markdown",
      "metadata": {
        "id": "AwS4J0Gpq7qA",
        "colab_type": "text"
      },
      "source": [
        "<hr>\n",
        "\n",
        "### Exportar el marco de datos de resultados como un archivo .csv a su proyecto de Watson Studio."
      ]
    },
    {
      "cell_type": "code",
      "metadata": {
        "id": "RJF4hhOPq7qB",
        "colab_type": "code",
        "colab": {},
        "outputId": "f503e41a-0246-4246-891c-5d5bf35cb1cb"
      },
      "source": [
        "project.save_data(file_name=\"results.csv\", data=df_to_be_scored_3.to_csv(index=False))"
      ],
      "execution_count": null,
      "outputs": [
        {
          "output_type": "execute_result",
          "data": {
            "text/plain": [
              "{'file_name': 'results.csv',\n",
              " 'message': 'File saved to project storage.',\n",
              " 'bucket_name': 'reto8ibm-donotdelete-pr-ak5bhvxkehhdvo',\n",
              " 'asset_id': '81871441-9e27-46eb-b3dc-c5a68bd7bbd3'}"
            ]
          },
          "metadata": {
            "tags": []
          },
          "execution_count": 453
        }
      ]
    },
    {
      "cell_type": "code",
      "metadata": {
        "id": "Zp5r81Mgq7qF",
        "colab_type": "code",
        "colab": {}
      },
      "source": [
        ""
      ],
      "execution_count": null,
      "outputs": []
    }
  ]
}